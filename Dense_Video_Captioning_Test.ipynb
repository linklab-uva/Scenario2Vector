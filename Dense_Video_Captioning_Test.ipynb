{
  "nbformat": 4,
  "nbformat_minor": 0,
  "metadata": {
    "colab": {
      "name": "Dense Video Captioning Test.ipynb",
      "provenance": []
    },
    "kernelspec": {
      "name": "python3",
      "display_name": "Python 3"
    },
    "accelerator": "GPU"
  },
  "cells": [
    {
      "cell_type": "markdown",
      "metadata": {
        "id": "m4_qU4fWRDO0"
      },
      "source": [
        "# Set up repo"
      ]
    },
    {
      "cell_type": "code",
      "metadata": {
        "colab": {
          "base_uri": "https://localhost:8080/"
        },
        "id": "9piyAy0HLC7u",
        "outputId": "78d2257f-8a40-400b-832d-4e447829cb6c"
      },
      "source": [
        "!git clone --recursive https://github.com/v-iashin/BMT.git\n",
        "%cd BMT/"
      ],
      "execution_count": 1,
      "outputs": [
        {
          "output_type": "stream",
          "text": [
            "Cloning into 'BMT'...\n",
            "remote: Enumerating objects: 11, done.\u001b[K\n",
            "remote: Counting objects: 100% (11/11), done.\u001b[K\n",
            "remote: Compressing objects: 100% (8/8), done.\u001b[K\n",
            "remote: Total 134 (delta 2), reused 3 (delta 1), pack-reused 123\u001b[K\n",
            "Receiving objects: 100% (134/134), 13.26 MiB | 22.67 MiB/s, done.\n",
            "Resolving deltas: 100% (49/49), done.\n",
            "Submodule 'submodules/pycocoevalcap' (https://github.com/salaniz/pycocoevalcap.git) registered for path 'submodules/pycocoevalcap'\n",
            "Submodule 'submodules/video_features' (https://github.com/v-iashin/video_features.git) registered for path 'submodules/video_features'\n",
            "Cloning into '/content/BMT/submodules/pycocoevalcap'...\n",
            "remote: Enumerating objects: 11, done.        \n",
            "remote: Counting objects: 100% (11/11), done.        \n",
            "remote: Compressing objects: 100% (10/10), done.        \n",
            "remote: Total 808 (delta 1), reused 6 (delta 1), pack-reused 797        \n",
            "Receiving objects: 100% (808/808), 130.05 MiB | 40.63 MiB/s, done.\n",
            "Resolving deltas: 100% (420/420), done.\n",
            "Cloning into '/content/BMT/submodules/video_features'...\n",
            "remote: Enumerating objects: 365, done.        \n",
            "remote: Counting objects: 100% (365/365), done.        \n",
            "remote: Compressing objects: 100% (228/228), done.        \n",
            "remote: Total 395 (delta 145), reused 312 (delta 95), pack-reused 30        \n",
            "Receiving objects: 100% (395/395), 162.69 MiB | 39.24 MiB/s, done.\n",
            "Resolving deltas: 100% (146/146), done.\n",
            "Submodule path 'submodules/pycocoevalcap': checked out 'ca1b05fa0e99f86de2259f87d43c72b322523731'\n",
            "Submodule path 'submodules/video_features': checked out '4fa02bd5c5b8c34081dcfb609e2bcd5a973eaab2'\n",
            "/content/BMT\n"
          ],
          "name": "stdout"
        }
      ]
    },
    {
      "cell_type": "code",
      "metadata": {
        "colab": {
          "base_uri": "https://localhost:8080/"
        },
        "id": "4xPmtIVXDuzE",
        "outputId": "e5893c6a-03f5-4fe1-d3d8-58e098724920"
      },
      "source": [
        "%env PYTHONPATH="
      ],
      "execution_count": 2,
      "outputs": [
        {
          "output_type": "stream",
          "text": [
            "env: PYTHONPATH=\n"
          ],
          "name": "stdout"
        }
      ]
    },
    {
      "cell_type": "code",
      "metadata": {
        "colab": {
          "base_uri": "https://localhost:8080/"
        },
        "id": "v0G07_IWDDeZ",
        "outputId": "dd4987ef-2daf-4453-b2c3-39a9114cd113"
      },
      "source": [
        "%%shell\n",
        "MINICONDA_INSTALLER_SCRIPT=Miniconda3-4.5.4-Linux-x86_64.sh\n",
        "MINICONDA_PREFIX=/usr/local\n",
        "wget https://repo.continuum.io/miniconda/$MINICONDA_INSTALLER_SCRIPT\n",
        "chmod +x $MINICONDA_INSTALLER_SCRIPT\n",
        "./$MINICONDA_INSTALLER_SCRIPT -b -f -p $MINICONDA_PREFIX"
      ],
      "execution_count": 3,
      "outputs": [
        {
          "output_type": "stream",
          "text": [
            "--2021-02-15 16:43:58--  https://repo.continuum.io/miniconda/Miniconda3-4.5.4-Linux-x86_64.sh\n",
            "Resolving repo.continuum.io (repo.continuum.io)... 104.18.201.79, 104.18.200.79, 2606:4700::6812:c84f, ...\n",
            "Connecting to repo.continuum.io (repo.continuum.io)|104.18.201.79|:443... connected.\n",
            "HTTP request sent, awaiting response... 301 Moved Permanently\n",
            "Location: https://repo.anaconda.com/miniconda/Miniconda3-4.5.4-Linux-x86_64.sh [following]\n",
            "--2021-02-15 16:43:58--  https://repo.anaconda.com/miniconda/Miniconda3-4.5.4-Linux-x86_64.sh\n",
            "Resolving repo.anaconda.com (repo.anaconda.com)... 104.16.131.3, 104.16.130.3, 2606:4700::6810:8203, ...\n",
            "Connecting to repo.anaconda.com (repo.anaconda.com)|104.16.131.3|:443... connected.\n",
            "HTTP request sent, awaiting response... 200 OK\n",
            "Length: 58468498 (56M) [application/x-sh]\n",
            "Saving to: ‘Miniconda3-4.5.4-Linux-x86_64.sh’\n",
            "\n",
            "Miniconda3-4.5.4-Li 100%[===================>]  55.76M   197MB/s    in 0.3s    \n",
            "\n",
            "2021-02-15 16:43:58 (197 MB/s) - ‘Miniconda3-4.5.4-Linux-x86_64.sh’ saved [58468498/58468498]\n",
            "\n",
            "PREFIX=/usr/local\n",
            "installing: python-3.6.5-hc3d631a_2 ...\n",
            "Python 3.6.5 :: Anaconda, Inc.\n",
            "installing: ca-certificates-2018.03.07-0 ...\n",
            "installing: conda-env-2.6.0-h36134e3_1 ...\n",
            "installing: libgcc-ng-7.2.0-hdf63c60_3 ...\n",
            "installing: libstdcxx-ng-7.2.0-hdf63c60_3 ...\n",
            "installing: libffi-3.2.1-hd88cf55_4 ...\n",
            "installing: ncurses-6.1-hf484d3e_0 ...\n",
            "installing: openssl-1.0.2o-h20670df_0 ...\n",
            "installing: tk-8.6.7-hc745277_3 ...\n",
            "installing: xz-5.2.4-h14c3975_4 ...\n",
            "installing: yaml-0.1.7-had09818_2 ...\n",
            "installing: zlib-1.2.11-ha838bed_2 ...\n",
            "installing: libedit-3.1.20170329-h6b74fdf_2 ...\n",
            "installing: readline-7.0-ha6073c6_4 ...\n",
            "installing: sqlite-3.23.1-he433501_0 ...\n",
            "installing: asn1crypto-0.24.0-py36_0 ...\n",
            "installing: certifi-2018.4.16-py36_0 ...\n",
            "installing: chardet-3.0.4-py36h0f667ec_1 ...\n",
            "installing: idna-2.6-py36h82fb2a8_1 ...\n",
            "installing: pycosat-0.6.3-py36h0a5515d_0 ...\n",
            "installing: pycparser-2.18-py36hf9f622e_1 ...\n",
            "installing: pysocks-1.6.8-py36_0 ...\n",
            "installing: ruamel_yaml-0.15.37-py36h14c3975_2 ...\n",
            "installing: six-1.11.0-py36h372c433_1 ...\n",
            "installing: cffi-1.11.5-py36h9745a5d_0 ...\n",
            "installing: setuptools-39.2.0-py36_0 ...\n",
            "installing: cryptography-2.2.2-py36h14c3975_0 ...\n",
            "installing: wheel-0.31.1-py36_0 ...\n",
            "installing: pip-10.0.1-py36_0 ...\n",
            "installing: pyopenssl-18.0.0-py36_0 ...\n",
            "installing: urllib3-1.22-py36hbe7ace6_0 ...\n",
            "installing: requests-2.18.4-py36he2e5f8d_1 ...\n",
            "installing: conda-4.5.4-py36_0 ...\n",
            "installation finished.\n"
          ],
          "name": "stdout"
        },
        {
          "output_type": "execute_result",
          "data": {
            "text/plain": [
              ""
            ]
          },
          "metadata": {
            "tags": []
          },
          "execution_count": 3
        }
      ]
    },
    {
      "cell_type": "code",
      "metadata": {
        "colab": {
          "base_uri": "https://localhost:8080/"
        },
        "id": "gcdHEdGyDH8K",
        "outputId": "970aa2ab-3b77-43b9-f394-608442f0ea3c"
      },
      "source": [
        "%%shell\n",
        "eval \"$(conda shell.bash hook)\" # copy conda command to shell\n",
        "\n",
        "conda install --channel defaults conda python=3.6 --yes\n",
        "conda update --channel defaults --all --yes"
      ],
      "execution_count": 4,
      "outputs": [
        {
          "output_type": "stream",
          "text": [
            "\n",
            "# >>>>>>>>>>>>>>>>>>>>>> ERROR REPORT <<<<<<<<<<<<<<<<<<<<<<\n",
            "\n",
            "    Traceback (most recent call last):\n",
            "      File \"/usr/local/lib/python3.6/site-packages/conda/cli/main.py\", line 98, in main\n",
            "        return activator_main()\n",
            "      File \"/usr/local/lib/python3.6/site-packages/conda/activate.py\", line 582, in main\n",
            "        activator = Activator(shell, activator_args)\n",
            "      File \"/usr/local/lib/python3.6/site-packages/conda/activate.py\", line 127, in __init__\n",
            "        raise NotImplementedError()\n",
            "    NotImplementedError\n",
            "\n",
            "`$ /usr/local/bin/conda shell.bash hook`\n",
            "\n",
            "  environment variables:\n",
            "                 CIO_TEST=<not set>\n",
            "               CONDA_ROOT=/usr/local\n",
            "          LD_LIBRARY_PATH=/usr/lib64-nvidia\n",
            "             LIBRARY_PATH=/usr/local/cuda/lib64/stubs\n",
            "                     PATH=/usr/local/nvidia/bin:/usr/local/cuda/bin:/usr/local/sbin:/usr/local/b\n",
            "                          in:/usr/sbin:/usr/bin:/sbin:/bin:/tools/node/bin:/tools/google-cloud-\n",
            "                          sdk/bin:/opt/bin\n",
            "               PYTHONPATH=\n",
            "           PYTHONWARNINGS=ignore:::pip._internal.cli.base_command\n",
            "       REQUESTS_CA_BUNDLE=<not set>\n",
            "            SSL_CERT_FILE=<not set>\n",
            "\n",
            "     active environment : None\n",
            "       user config file : /root/.condarc\n",
            " populated config files : \n",
            "          conda version : 4.5.4\n",
            "    conda-build version : not installed\n",
            "         python version : 3.6.5.final.0\n",
            "       base environment : /usr/local  (writable)\n",
            "           channel URLs : https://repo.anaconda.com/pkgs/main/linux-64\n",
            "                          https://repo.anaconda.com/pkgs/main/noarch\n",
            "                          https://repo.anaconda.com/pkgs/free/linux-64\n",
            "                          https://repo.anaconda.com/pkgs/free/noarch\n",
            "                          https://repo.anaconda.com/pkgs/r/linux-64\n",
            "                          https://repo.anaconda.com/pkgs/r/noarch\n",
            "                          https://repo.anaconda.com/pkgs/pro/linux-64\n",
            "                          https://repo.anaconda.com/pkgs/pro/noarch\n",
            "          package cache : /usr/local/pkgs\n",
            "                          /root/.conda/pkgs\n",
            "       envs directories : /usr/local/envs\n",
            "                          /root/.conda/envs\n",
            "               platform : linux-64\n",
            "             user-agent : conda/4.5.4 requests/2.18.4 CPython/3.6.5 Linux/4.19.112+ ubuntu/18.04 glibc/2.27\n",
            "                UID:GID : 0:0\n",
            "             netrc file : None\n",
            "           offline mode : False\n",
            "\n",
            "\n",
            "An unexpected error has occurred. Conda has prepared the above report.\n",
            "If submitted, this report will be used by core maintainers to improve\n",
            "future releases of conda.\n",
            "Would you like conda to send this report to the core maintainers?\n",
            "[y/N]: N\n",
            "\n",
            "No report sent. To permanently opt-out, use\n",
            "\n",
            "    $ conda config --set report_errors false\n",
            "\n",
            "Solving environment: - \b\b\\ \b\b| \b\b/ \b\b- \b\b\\ \b\b| \b\b/ \b\b- \b\b\\ \b\b| \b\b/ \b\b- \b\b\\ \b\b| \b\b/ \b\b- \b\b\\ \b\b| \b\b/ \b\b- \b\b\\ \b\b| \b\b/ \b\b- \b\b\\ \b\b| \b\b/ \b\b- \b\b\\ \b\b| \b\b/ \b\b- \b\b\\ \b\b| \b\b/ \b\b- \b\b\\ \b\b| \b\b/ \b\b- \b\b\\ \b\b| \b\b/ \b\b- \b\b\\ \b\b| \b\b/ \b\b- \b\b\\ \b\b| \b\b/ \b\b- \b\b\\ \b\b| \b\b/ \b\b- \b\b\\ \b\b| \b\b/ \b\b- \b\b\\ \b\b| \b\b/ \b\b- \b\b\\ \b\b| \b\b/ \b\b- \b\b\\ \b\b| \b\b/ \b\b- \b\b\\ \b\b| \b\b/ \b\b- \b\b\\ \b\b| \b\b/ \b\b- \b\b\\ \b\b| \b\b/ \b\b- \b\b\\ \b\b| \b\b/ \b\b- \b\b\\ \b\b| \b\b/ \b\b- \b\b\\ \b\b| \b\b/ \b\b- \b\b\\ \b\b| \b\b/ \b\b- \b\b\\ \b\b| \b\b/ \b\b- \b\b\\ \b\b| \b\b/ \b\b- \b\b\\ \b\b| \b\b/ \b\b- \b\b\\ \b\bdone\n",
            "\n",
            "## Package Plan ##\n",
            "\n",
            "  environment location: /usr/local\n",
            "\n",
            "  added / updated specs: \n",
            "    - conda\n",
            "    - python=3.6\n",
            "\n",
            "\n",
            "The following packages will be downloaded:\n",
            "\n",
            "    package                    |            build\n",
            "    ---------------------------|-----------------\n",
            "    tk-8.6.10                  |       hbc83047_0         3.2 MB\n",
            "    cffi-1.14.5                |   py36h261ae71_0         224 KB\n",
            "    setuptools-52.0.0          |   py36h06a4308_0         933 KB\n",
            "    libedit-3.1.20191231       |       h14c3975_1         121 KB\n",
            "    wheel-0.36.2               |     pyhd3eb1b0_0          31 KB\n",
            "    pysocks-1.7.1              |   py36h06a4308_0          30 KB\n",
            "    six-1.15.0                 |     pyhd3eb1b0_0          13 KB\n",
            "    tqdm-4.56.0                |     pyhd3eb1b0_0          76 KB\n",
            "    libstdcxx-ng-9.1.0         |       hdf63c60_0         4.0 MB\n",
            "    python-3.6.12              |       hcff3b4d_2        34.0 MB\n",
            "    pyopenssl-20.0.1           |     pyhd3eb1b0_1          48 KB\n",
            "    idna-2.10                  |     pyhd3eb1b0_0          52 KB\n",
            "    openssl-1.1.1i             |       h27cfd23_0         3.8 MB\n",
            "    ncurses-6.2                |       he6710b0_1         1.1 MB\n",
            "    urllib3-1.26.3             |     pyhd3eb1b0_0          99 KB\n",
            "    requests-2.25.1            |     pyhd3eb1b0_0          51 KB\n",
            "    pip-20.3.3                 |   py36h06a4308_0         2.0 MB\n",
            "    conda-package-handling-1.7.2|   py36h03888b9_0         967 KB\n",
            "    pycparser-2.20             |             py_2          94 KB\n",
            "    xz-5.2.5                   |       h7b6447c_0         438 KB\n",
            "    readline-8.1               |       h27cfd23_0         464 KB\n",
            "    ruamel_yaml-0.15.87        |   py36h7b6447c_1         256 KB\n",
            "    brotlipy-0.7.0             |py36h27cfd23_1003         349 KB\n",
            "    pycosat-0.6.3              |   py36h27cfd23_0         107 KB\n",
            "    _libgcc_mutex-0.1          |             main           3 KB\n",
            "    ld_impl_linux-64-2.33.1    |       h53a641e_7         645 KB\n",
            "    ca-certificates-2021.1.19  |       h06a4308_0         128 KB\n",
            "    sqlite-3.33.0              |       h62c20be_0         2.0 MB\n",
            "    zlib-1.2.11                |       h7b6447c_3         120 KB\n",
            "    cryptography-3.3.1         |   py36h3c74f83_1         633 KB\n",
            "    libffi-3.3                 |       he6710b0_2          54 KB\n",
            "    libgcc-ng-9.1.0            |       hdf63c60_0         8.1 MB\n",
            "    yaml-0.2.5                 |       h7b6447c_0          87 KB\n",
            "    certifi-2020.12.5          |   py36h06a4308_0         144 KB\n",
            "    chardet-4.0.0              |py36h06a4308_1003         213 KB\n",
            "    conda-4.9.2                |   py36h06a4308_0         3.1 MB\n",
            "    ------------------------------------------------------------\n",
            "                                           Total:        67.6 MB\n",
            "\n",
            "The following NEW packages will be INSTALLED:\n",
            "\n",
            "    _libgcc_mutex:          0.1-main               \n",
            "    brotlipy:               0.7.0-py36h27cfd23_1003\n",
            "    conda-package-handling: 1.7.2-py36h03888b9_0   \n",
            "    ld_impl_linux-64:       2.33.1-h53a641e_7      \n",
            "    tqdm:                   4.56.0-pyhd3eb1b0_0    \n",
            "\n",
            "The following packages will be UPDATED:\n",
            "\n",
            "    ca-certificates:        2018.03.07-0            --> 2021.1.19-h06a4308_0    \n",
            "    certifi:                2018.4.16-py36_0        --> 2020.12.5-py36h06a4308_0\n",
            "    cffi:                   1.11.5-py36h9745a5d_0   --> 1.14.5-py36h261ae71_0   \n",
            "    chardet:                3.0.4-py36h0f667ec_1    --> 4.0.0-py36h06a4308_1003 \n",
            "    conda:                  4.5.4-py36_0            --> 4.9.2-py36h06a4308_0    \n",
            "    cryptography:           2.2.2-py36h14c3975_0    --> 3.3.1-py36h3c74f83_1    \n",
            "    idna:                   2.6-py36h82fb2a8_1      --> 2.10-pyhd3eb1b0_0       \n",
            "    libedit:                3.1.20170329-h6b74fdf_2 --> 3.1.20191231-h14c3975_1 \n",
            "    libffi:                 3.2.1-hd88cf55_4        --> 3.3-he6710b0_2          \n",
            "    libgcc-ng:              7.2.0-hdf63c60_3        --> 9.1.0-hdf63c60_0        \n",
            "    libstdcxx-ng:           7.2.0-hdf63c60_3        --> 9.1.0-hdf63c60_0        \n",
            "    ncurses:                6.1-hf484d3e_0          --> 6.2-he6710b0_1          \n",
            "    openssl:                1.0.2o-h20670df_0       --> 1.1.1i-h27cfd23_0       \n",
            "    pip:                    10.0.1-py36_0           --> 20.3.3-py36h06a4308_0   \n",
            "    pycosat:                0.6.3-py36h0a5515d_0    --> 0.6.3-py36h27cfd23_0    \n",
            "    pycparser:              2.18-py36hf9f622e_1     --> 2.20-py_2               \n",
            "    pyopenssl:              18.0.0-py36_0           --> 20.0.1-pyhd3eb1b0_1     \n",
            "    pysocks:                1.6.8-py36_0            --> 1.7.1-py36h06a4308_0    \n",
            "    python:                 3.6.5-hc3d631a_2        --> 3.6.12-hcff3b4d_2       \n",
            "    readline:               7.0-ha6073c6_4          --> 8.1-h27cfd23_0          \n",
            "    requests:               2.18.4-py36he2e5f8d_1   --> 2.25.1-pyhd3eb1b0_0     \n",
            "    ruamel_yaml:            0.15.37-py36h14c3975_2  --> 0.15.87-py36h7b6447c_1  \n",
            "    setuptools:             39.2.0-py36_0           --> 52.0.0-py36h06a4308_0   \n",
            "    six:                    1.11.0-py36h372c433_1   --> 1.15.0-pyhd3eb1b0_0     \n",
            "    sqlite:                 3.23.1-he433501_0       --> 3.33.0-h62c20be_0       \n",
            "    tk:                     8.6.7-hc745277_3        --> 8.6.10-hbc83047_0       \n",
            "    urllib3:                1.22-py36hbe7ace6_0     --> 1.26.3-pyhd3eb1b0_0     \n",
            "    wheel:                  0.31.1-py36_0           --> 0.36.2-pyhd3eb1b0_0     \n",
            "    xz:                     5.2.4-h14c3975_4        --> 5.2.5-h7b6447c_0        \n",
            "    yaml:                   0.1.7-had09818_2        --> 0.2.5-h7b6447c_0        \n",
            "    zlib:                   1.2.11-ha838bed_2       --> 1.2.11-h7b6447c_3       \n",
            "\n",
            "\n",
            "Downloading and Extracting Packages\n",
            "tk-8.6.10            |  3.2 MB | : 100% 1.0/1 [00:00<00:00,  1.60it/s]               \n",
            "cffi-1.14.5          |  224 KB | : 100% 1.0/1 [00:00<00:00, 15.30it/s]\n",
            "setuptools-52.0.0    |  933 KB | : 100% 1.0/1 [00:00<00:00,  3.25it/s]               \n",
            "libedit-3.1.20191231 |  121 KB | : 100% 1.0/1 [00:00<00:00, 21.84it/s]\n",
            "wheel-0.36.2         |   31 KB | : 100% 1.0/1 [00:00<00:00, 36.58it/s]\n",
            "pysocks-1.7.1        |   30 KB | : 100% 1.0/1 [00:00<00:00, 45.26it/s]\n",
            "six-1.15.0           |   13 KB | : 100% 1.0/1 [00:00<00:00, 45.45it/s]\n",
            "tqdm-4.56.0          |   76 KB | : 100% 1.0/1 [00:00<00:00, 19.77it/s]\n",
            "libstdcxx-ng-9.1.0   |  4.0 MB | : 100% 1.0/1 [00:00<00:00,  1.71it/s]              \n",
            "python-3.6.12        | 34.0 MB | : 100% 1.0/1 [00:04<00:00,  4.56s/it]               \n",
            "pyopenssl-20.0.1     |   48 KB | : 100% 1.0/1 [00:00<00:00, 38.14it/s]\n",
            "idna-2.10            |   52 KB | : 100% 1.0/1 [00:00<00:00, 24.93it/s]\n",
            "openssl-1.1.1i       |  3.8 MB | : 100% 1.0/1 [00:00<00:00,  1.71it/s]               \n",
            "ncurses-6.2          |  1.1 MB | : 100% 1.0/1 [00:00<00:00,  1.36it/s]               \n",
            "urllib3-1.26.3       |   99 KB | : 100% 1.0/1 [00:00<00:00, 20.95it/s]\n",
            "requests-2.25.1      |   51 KB | : 100% 1.0/1 [00:00<00:00, 33.72it/s]\n",
            "pip-20.3.3           |  2.0 MB | : 100% 1.0/1 [00:00<00:00,  1.82it/s]               \n",
            "conda-package-handli |  967 KB | : 100% 1.0/1 [00:00<00:00,  6.89it/s]               \n",
            "pycparser-2.20       |   94 KB | : 100% 1.0/1 [00:00<00:00, 14.36it/s]\n",
            "xz-5.2.5             |  438 KB | : 100% 1.0/1 [00:00<00:00,  9.09it/s]\n",
            "readline-8.1         |  464 KB | : 100% 1.0/1 [00:00<00:00,  9.94it/s]\n",
            "ruamel_yaml-0.15.87  |  256 KB | : 100% 1.0/1 [00:00<00:00, 13.14it/s]\n",
            "brotlipy-0.7.0       |  349 KB | : 100% 1.0/1 [00:00<00:00, 13.09it/s]\n",
            "pycosat-0.6.3        |  107 KB | : 100% 1.0/1 [00:00<00:00, 26.82it/s]\n",
            "_libgcc_mutex-0.1    |    3 KB | : 100% 1.0/1 [00:00<00:00, 48.72it/s]\n",
            "ld_impl_linux-64-2.3 |  645 KB | : 100% 1.0/1 [00:00<00:00,  7.22it/s]               \n",
            "ca-certificates-2021 |  128 KB | : 100% 1.0/1 [00:00<00:00, 29.16it/s]\n",
            "sqlite-3.33.0        |  2.0 MB | : 100% 1.0/1 [00:00<00:00,  3.27it/s]               \n",
            "zlib-1.2.11          |  120 KB | : 100% 1.0/1 [00:00<00:00, 22.98it/s]\n",
            "cryptography-3.3.1   |  633 KB | : 100% 1.0/1 [00:00<00:00,  4.96it/s]               \n",
            "libffi-3.3           |   54 KB | : 100% 1.0/1 [00:00<00:00, 39.73it/s]\n",
            "libgcc-ng-9.1.0      |  8.1 MB | : 100% 1.0/1 [00:01<00:00,  1.21s/it]               \n",
            "yaml-0.2.5           |   87 KB | : 100% 1.0/1 [00:00<00:00, 21.69it/s]\n",
            "certifi-2020.12.5    |  144 KB | : 100% 1.0/1 [00:00<00:00, 22.59it/s]\n",
            "chardet-4.0.0        |  213 KB | : 100% 1.0/1 [00:00<00:00, 11.40it/s]\n",
            "conda-4.9.2          |  3.1 MB | : 100% 1.0/1 [00:00<00:00,  1.56it/s]               \n",
            "Preparing transaction: / \b\b- \b\b\\ \b\b| \b\bdone\n",
            "Verifying transaction: - \b\b\\ \b\b| \b\b/ \b\b- \b\b\\ \b\b| \b\b/ \b\b- \b\b\\ \b\b| \b\b/ \b\b- \b\b\\ \b\b| \b\b/ \b\b- \b\bdone\n",
            "Executing transaction: | \b\b/ \b\b- \b\b\\ \b\b| \b\b/ \b\b- \b\b\\ \b\b| \b\b/ \b\b- \b\b\\ \b\b| \b\b/ \b\b- \b\b\\ \b\b| \b\b/ \b\b- \b\b\\ \b\b| \b\b/ \b\b- \b\b\\ \b\b| \b\b/ \b\b- \b\b\\ \b\b| \b\b/ \b\b- \b\b\\ \b\b| \b\b/ \b\b- \b\b\\ \b\b| \b\b/ \b\b- \b\b\\ \b\b| \b\b/ \b\b- \b\b\\ \b\b| \b\b/ \b\b- \b\b\\ \b\b| \b\b/ \b\b- \b\b\\ \b\b| \b\b/ \b\b- \b\b\\ \b\b| \b\b/ \b\b- \b\b\\ \b\b| \b\b/ \b\bdone\n",
            "Collecting package metadata (current_repodata.json): - \b\b\\ \b\b| \b\b/ \b\b- \b\b\\ \b\b| \b\b/ \b\b- \b\b\\ \b\b| \b\b/ \b\b- \b\b\\ \b\bdone\n",
            "Solving environment: / \b\b- \b\b\\ \b\bdone\n",
            "\n",
            "## Package Plan ##\n",
            "\n",
            "  environment location: /usr/local\n",
            "\n",
            "\n",
            "The following packages will be downloaded:\n",
            "\n",
            "    package                    |            build\n",
            "    ---------------------------|-----------------\n",
            "    six-1.15.0                 |   py36h06a4308_0          27 KB\n",
            "    ------------------------------------------------------------\n",
            "                                           Total:          27 KB\n",
            "\n",
            "The following packages will be REMOVED:\n",
            "\n",
            "  asn1crypto-0.24.0-py36_0\n",
            "  conda-env-2.6.0-h36134e3_1\n",
            "\n",
            "The following packages will be SUPERSEDED by a higher-priority channel:\n",
            "\n",
            "  six                pkgs/main/noarch::six-1.15.0-pyhd3eb1~ --> pkgs/main/linux-64::six-1.15.0-py36h06a4308_0\n",
            "\n",
            "\n",
            "\n",
            "Downloading and Extracting Packages\n",
            "six-1.15.0           | 27 KB     | : 100% 1.0/1 [00:00<00:00, 14.76it/s]\n",
            "Preparing transaction: / \b\bdone\n",
            "Verifying transaction: \\ \b\bdone\n",
            "Executing transaction: / \b\bdone\n"
          ],
          "name": "stdout"
        },
        {
          "output_type": "execute_result",
          "data": {
            "text/plain": [
              ""
            ]
          },
          "metadata": {
            "tags": []
          },
          "execution_count": 4
        }
      ]
    },
    {
      "cell_type": "code",
      "metadata": {
        "id": "yHicYKC5DL1M"
      },
      "source": [
        "import sys\n",
        "_ = (sys.path\n",
        "        .append(\"/usr/local/lib/python3.6/site-packages\"))"
      ],
      "execution_count": 5,
      "outputs": []
    },
    {
      "cell_type": "code",
      "metadata": {
        "colab": {
          "base_uri": "https://localhost:8080/"
        },
        "id": "PhtTpCw2LdgQ",
        "outputId": "4d389055-1ae6-4c6f-a2e4-6d90863bfa95"
      },
      "source": [
        "!bash ./download_data.sh\n"
      ],
      "execution_count": 6,
      "outputs": [
        {
          "output_type": "stream",
          "text": [
            "Downloading i3d features\n",
            "i3d_25fps_stack64st 100%[===================>]   6.40G  25.1MB/s    in 4m 22s  \n",
            "Downloading vggish features\n",
            "vggish_npy.zip      100%[===================>]   1.06G  25.4MB/s    in 44s     \n",
            "Downloading GloVe embeddings\n",
            "glove.840B.300d.zip 100%[===================>]   2.03G  25.5MB/s    in 82s     \n",
            "Checking for correctness of the downloaded files\n",
            "OK: i3d features\n",
            "OK: vggish features\n",
            "OK: glove embeddings\n",
            "Unpacking i3d (~1 min)\n",
            "Unpacking vggish features\n",
            "Done\n"
          ],
          "name": "stdout"
        }
      ]
    },
    {
      "cell_type": "markdown",
      "metadata": {
        "id": "eOGp6piVRMMF"
      },
      "source": [
        "# Create env for running model"
      ]
    },
    {
      "cell_type": "code",
      "metadata": {
        "id": "cENP3LmELhUs",
        "colab": {
          "base_uri": "https://localhost:8080/"
        },
        "outputId": "d813e467-b6b1-4a15-a52b-da620df09792"
      },
      "source": [
        "%%shell\n",
        "eval \"$(conda shell.bash hook)\" # copy conda command to shell\n",
        "conda env create -f ./conda_env.yml\n",
        "conda activate bmt\n",
        "#pip install spacy==2.0.12\n",
        "#python install -m spacy download en"
      ],
      "execution_count": 7,
      "outputs": [
        {
          "output_type": "stream",
          "text": [
            "Collecting package metadata (repodata.json): - \b\b\\ \b\b| \b\b/ \b\b- \b\b\\ \b\b| \b\b/ \b\b- \b\b\\ \b\b| \b\b/ \b\b- \b\b\\ \b\b| \b\b/ \b\b- \b\b\\ \b\b| \b\b/ \b\b- \b\b\\ \b\b| \b\b/ \b\b- \b\b\\ \b\b| \b\b/ \b\b- \b\b\\ \b\b| \b\b/ \b\b- \b\b\\ \b\b| \b\b/ \b\b- \b\b\\ \b\b| \b\b/ \b\b- \b\b\\ \b\b| \b\b/ \b\b- \b\b\\ \b\b| \b\b/ \b\b- \b\b\\ \b\b| \b\b/ \b\b- \b\b\\ \b\b| \b\b/ \b\b- \b\b\\ \b\b| \b\b/ \b\b- \b\b\\ \b\b| \b\b/ \b\b- \b\b\\ \b\b| \b\b/ \b\b- \b\b\\ \b\b| \b\b/ \b\b- \b\b\\ \b\b| \b\b/ \b\b- \b\b\\ \b\b| \b\b/ \b\b- \b\b\\ \b\b| \b\b/ \b\b- \b\b\\ \b\b| \b\b/ \b\b- \b\b\\ \b\b| \b\b/ \b\b- \b\b\\ \b\b| \b\b/ \b\b- \b\b\\ \b\b| \b\b/ \b\b- \b\b\\ \b\b| \b\b/ \b\b- \b\b\\ \b\b| \b\b/ \b\b- \b\b\\ \b\b| \b\b/ \b\b- \b\b\\ \b\b| \b\b/ \b\b- \b\b\\ \b\b| \b\b/ \b\b- \b\b\\ \b\b| \b\b/ \b\b- \b\b\\ \b\b| \b\b/ \b\b- \b\b\\ \b\b| \b\b/ \b\b- \b\b\\ \b\b| \b\b/ \b\b- \b\b\\ \b\b| \b\b/ \b\b- \b\b\\ \b\b| \b\b/ \b\b- \b\b\\ \b\b| \b\b/ \b\b- \b\b\\ \b\b| \b\b/ \b\b- \b\b\\ \b\b| \b\b/ \b\b- \b\b\\ \b\b| \b\b/ \b\b- \b\b\\ \b\b| \b\b/ \b\b- \b\b\\ \b\b| \b\b/ \b\b- \b\b\\ \b\b| \b\b/ \b\b- \b\b\\ \b\b| \b\b/ \b\b- \b\b\\ \b\b| \b\b/ \b\b- \b\b\\ \b\b| \b\b/ \b\b- \b\b\\ \b\b| \b\b/ \b\b- \b\b\\ \b\b| \b\b/ \b\b- \b\b\\ \b\b| \b\b/ \b\b- \b\b\\ \b\b| \b\b/ \b\b- \b\b\\ \b\b| \b\b/ \b\b- \b\b\\ \b\b| \b\b/ \b\b- \b\b\\ \b\b| \b\b/ \b\b- \b\b\\ \b\b| \b\b/ \b\b- \b\b\\ \b\b| \b\b/ \b\b- \b\b\\ \b\b| \b\b/ \b\b- \b\b\\ \b\b| \b\b/ \b\b- \b\b\\ \b\b| \b\b/ \b\b- \b\b\\ \b\b| \b\b/ \b\b- \b\b\\ \b\b| \b\b/ \b\bdone\n",
            "Solving environment: \\ \b\b| \b\b/ \b\b- \b\b\\ \b\b| \b\b/ \b\b- \b\b\\ \b\b| \b\b/ \b\b- \b\b\\ \b\b| \b\b/ \b\b- \b\b\\ \b\b| \b\b/ \b\b- \b\b\\ \b\b| \b\b/ \b\b- \b\b\\ \b\b| \b\b/ \b\b- \b\b\\ \b\b| \b\b/ \b\b- \b\bdone\n",
            "\n",
            "Downloading and Extracting Packages\n",
            "pyopenssl-19.1.0     | 83 KB     | : 100% 1.0/1 [00:00<00:00,  9.86it/s]\n",
            "requests-2.23.0      | 85 KB     | : 100% 1.0/1 [00:00<00:00, 19.03it/s]\n",
            "certifi-2020.4.5.1   | 159 KB    | : 100% 1.0/1 [00:00<00:00, 20.01it/s]\n",
            "ca-certificates-2020 | 132 KB    | : 100% 1.0/1 [00:00<00:00, 15.48it/s]\n",
            "toolz-0.10.0         | 46 KB     | : 100% 1.0/1 [00:00<00:00, 23.55it/s]\n",
            "pytz-2020.1          | 239 KB    | : 100% 1.0/1 [00:00<00:00,  8.63it/s]\n",
            "ld_impl_linux-64-2.3 | 653 KB    | : 100% 1.0/1 [00:00<00:00,  4.63it/s]\n",
            "python_abi-3.7       | 4 KB      | : 100% 1.0/1 [00:00<00:00, 21.16it/s]\n",
            "ujson-2.0.3          | 47 KB     | : 100% 1.0/1 [00:00<00:00, 33.82it/s]\n",
            "mkl-2020.0           | 202.1 MB  | : 100% 1.0/1 [00:33<00:00, 33.21s/it]               \n",
            "protobuf-3.11.4      | 695 KB    | : 100% 1.0/1 [00:00<00:00,  4.43it/s]\n",
            "pycparser-2.20       | 89 KB     | : 100% 1.0/1 [00:00<00:00, 21.77it/s]\n",
            "werkzeug-1.0.1       | 239 KB    | : 100% 1.0/1 [00:00<00:00, 12.72it/s]\n",
            "readline-8.0         | 428 KB    | : 100% 1.0/1 [00:00<00:00,  9.22it/s]\n",
            "libgcc-ng-9.1.0      | 8.1 MB    | : 100% 1.0/1 [00:01<00:00,  1.24s/it]\n",
            "intel-openmp-2020.0  | 916 KB    | : 100% 1.0/1 [00:00<00:00,  5.41it/s]\n",
            "absl-py-0.8.1        | 158 KB    | : 100% 1.0/1 [00:00<00:00, 13.80it/s]\n",
            "openjdk-8.0.152      | 128.5 MB  | : 100% 1.0/1 [00:19<00:00, 19.95s/it]               \n",
            "python-3.7.7         | 52.5 MB   | : 100% 1.0/1 [00:06<00:00,  6.73s/it]               \n",
            "idna-2.9             | 52 KB     | : 100% 1.0/1 [00:00<00:00, 18.41it/s]\n",
            "pip-20.0.2           | 1.9 MB    | : 100% 1.0/1 [00:00<00:00,  2.39it/s]\n",
            "ncurses-6.2          | 1.1 MB    | : 100% 1.0/1 [00:00<00:00,  1.86it/s]\n",
            "mkl-service-2.3.0    | 218 KB    | : 100% 1.0/1 [00:00<00:00,  7.21it/s]\n",
            "spacy-2.0.12         | 45.5 MB   | : 100% 1.0/1 [00:08<00:00,  8.69s/it]               \n",
            "tqdm-4.46.0          | 60 KB     | : 100% 1.0/1 [00:00<00:00, 21.67it/s]\n",
            "urllib3-1.25.8       | 165 KB    | : 100% 1.0/1 [00:00<00:00, 14.67it/s]\n",
            "thinc-6.10.3         | 1.5 MB    | : 100% 1.0/1 [00:00<00:00,  2.42it/s]\n",
            "asn1crypto-1.3.0     | 158 KB    | : 100% 1.0/1 [00:00<00:00, 14.19it/s]\n",
            "pysocks-1.7.1        | 27 KB     | : 100% 1.0/1 [00:00<00:00, 26.15it/s]\n",
            "mkl_fft-1.0.15       | 154 KB    | : 100% 1.0/1 [00:00<00:00,  9.51it/s]\n",
            "plac-0.9.6           | 36 KB     | : 100% 1.0/1 [00:00<00:00, 24.97it/s]\n",
            "mkl_random-1.1.0     | 321 KB    | : 100% 1.0/1 [00:00<00:00,  9.30it/s]\n",
            "python-dateutil-2.8. | 220 KB    | : 100% 1.0/1 [00:00<00:00, 17.83it/s]\n",
            "dill-0.2.9           | 112 KB    | : 100% 1.0/1 [00:00<00:00, 15.79it/s]\n",
            "cymem-1.31.2         | 26 KB     | : 100% 1.0/1 [00:00<00:00, 28.19it/s]\n",
            "wrapt-1.10.11        | 45 KB     | : 100% 1.0/1 [00:00<00:00, 19.24it/s]\n",
            "cytoolz-0.9.0.1      | 418 KB    | : 100% 1.0/1 [00:00<00:00,  9.66it/s]\n",
            "joblib-0.14.1        | 198 KB    | : 100% 1.0/1 [00:00<00:00, 11.39it/s]\n",
            "murmurhash-0.28.0    | 16 KB     | : 100% 1.0/1 [00:00<00:00, 19.66it/s]\n",
            "scipy-1.3.1          | 14.0 MB   | : 100% 1.0/1 [00:00<00:00,  1.67it/s]\n",
            "openssl-1.1.1g       | 3.8 MB    | : 100% 1.0/1 [00:00<00:00,  1.60it/s]\n",
            "zlib-1.2.11          | 120 KB    | : 100% 1.0/1 [00:00<00:00, 11.88it/s]\n",
            "regex-2018.07.11     | 344 KB    | : 100% 1.0/1 [00:00<00:00, 13.73it/s]\n",
            "ninja-1.9.0          | 1.6 MB    | : 100% 1.0/1 [00:00<00:00,  3.02it/s]\n",
            "cffi-1.14.0          | 225 KB    | : 100% 1.0/1 [00:00<00:00, 13.90it/s]\n",
            "msgpack-python-0.5.6 | 99 KB     | : 100% 1.0/1 [00:00<00:00, 24.49it/s]\n",
            "tk-8.6.8             | 3.1 MB    | : 100% 1.0/1 [00:00<00:00,  1.78it/s]\n",
            "cryptography-2.8     | 612 KB    | : 100% 1.0/1 [00:00<00:00,  5.37it/s]\n",
            "preshed-1.0.1        | 83 KB     | : 100% 1.0/1 [00:00<00:00, 18.13it/s]\n",
            "six-1.14.0           | 23 KB     | : 100% 1.0/1 [00:00<00:00, 26.89it/s]\n",
            "blas-1.0             | 1 KB      | : 100% 1.0/1 [00:00<00:00, 34.70it/s]\n",
            "sqlite-3.31.1        | 2.0 MB    | : 100% 1.0/1 [00:00<00:00,  2.98it/s]\n",
            "markdown-3.2.1       | 61 KB     | : 100% 1.0/1 [00:00<00:00, 23.57it/s]\n",
            "tensorboard-1.14.0   | 3.2 MB    | : 100% 1.0/1 [00:00<00:00,  2.27it/s]\n",
            "libstdcxx-ng-9.1.0   | 4.0 MB    | : 100% 1.0/1 [00:00<00:00,  1.59it/s]\n",
            "cudatoolkit-10.0.130 | 380.0 MB  | : 100% 1.0/1 [00:45<00:00, 45.91s/it]               \n",
            "chardet-3.0.4        | 167 KB    | : 100% 1.0/1 [00:00<00:00, 10.08it/s]\n",
            "libprotobuf-3.11.4   | 4.8 MB    | : 100% 1.0/1 [00:00<00:00,  1.15it/s]\n",
            "pytorch-1.2.0        | 428.0 MB  | : 100% 1.0/1 [00:58<00:00, 58.24s/it]               \n",
            "numpy-base-1.15.4    | 3.4 MB    | : 100% 1.0/1 [00:00<00:00,  3.98it/s]\n",
            "scikit-learn-0.22.1  | 5.2 MB    | : 100% 1.0/1 [00:00<00:00,  2.21it/s]\n",
            "pandas-0.24.2        | 11.1 MB   | : 100% 1.0/1 [00:02<00:00,  2.20s/it]\n",
            "numpy-1.15.4         | 46 KB     | : 100% 1.0/1 [00:00<00:00,  9.78it/s]\n",
            "xz-5.2.5             | 438 KB    | : 100% 1.0/1 [00:00<00:00,  6.96it/s]\n",
            "wheel-0.34.2         | 43 KB     | : 100% 1.0/1 [00:00<00:00, 15.63it/s]\n",
            "future-0.17.1        | 699 KB    | : 100% 1.0/1 [00:00<00:00,  4.91it/s]\n",
            "termcolor-1.1.0      | 7 KB      | : 100% 1.0/1 [00:00<00:00, 25.87it/s]\n",
            "setuptools-46.1.3    | 656 KB    | : 100% 1.0/1 [00:00<00:00,  5.52it/s]\n",
            "msgpack-numpy-0.4.4. | 8 KB      | : 100% 1.0/1 [00:00<00:00, 33.49it/s]\n",
            "libedit-3.1.20181209 | 188 KB    | : 100% 1.0/1 [00:00<00:00, 16.30it/s]\n",
            "libgfortran-ng-7.3.0 | 1.3 MB    | : 100% 1.0/1 [00:00<00:00,  4.15it/s]\n",
            "_libgcc_mutex-0.1    | 2 KB      | : 100% 1.0/1 [00:00<00:00, 12.30it/s]\n",
            "Preparing transaction: | \b\b/ \b\b- \b\b\\ \b\b| \b\b/ \b\b- \b\bdone\n",
            "Verifying transaction: | \b\b/ \b\b- \b\b\\ \b\b| \b\b/ \b\b- \b\b\\ \b\b| \b\b/ \b\b- \b\b\\ \b\b| \b\b/ \b\b- \b\b\\ \b\b| \b\b/ \b\b- \b\b\\ \b\b| \b\b/ \b\b- \b\b\\ \b\b| \b\bdone\n",
            "Executing transaction: - \b\b\\ \b\b| \b\b/ \b\b- \b\b\\ \b\b| \b\b/ \b\b- \b\b\\ \b\b| \b\b/ \b\b- \b\b\\ \b\b| \b\b/ \b\b- \b\b\\ \b\b| \b\b/ \b\b- \b\b\\ \b\b| \b\b/ \b\b- \b\bdone\n",
            "Installing pip dependencies: | \b\b/ \b\b- \b\b\\ \b\b| \b\b/ \b\b- \b\b\\ \b\b| \b\b/ \b\b- \b\b\\ \b\b| Ran pip subprocess with arguments:\n",
            "['/usr/local/envs/bmt/bin/python', '-m', 'pip', 'install', '-U', '-r', '/content/BMT/condaenv.chkxatb4.requirements.txt']\n",
            "Pip subprocess output:\n",
            "Collecting torchtext==0.3.1\n",
            "  Downloading torchtext-0.3.1-py3-none-any.whl (62 kB)\n",
            "Requirement already satisfied, skipping upgrade: numpy in /usr/local/envs/bmt/lib/python3.7/site-packages (from torchtext==0.3.1->-r /content/BMT/condaenv.chkxatb4.requirements.txt (line 1)) (1.15.4)\n",
            "Requirement already satisfied, skipping upgrade: tqdm in /usr/local/envs/bmt/lib/python3.7/site-packages (from torchtext==0.3.1->-r /content/BMT/condaenv.chkxatb4.requirements.txt (line 1)) (4.46.0)\n",
            "Requirement already satisfied, skipping upgrade: torch in /usr/local/envs/bmt/lib/python3.7/site-packages (from torchtext==0.3.1->-r /content/BMT/condaenv.chkxatb4.requirements.txt (line 1)) (1.2.0)\n",
            "Requirement already satisfied, skipping upgrade: requests in /usr/local/envs/bmt/lib/python3.7/site-packages (from torchtext==0.3.1->-r /content/BMT/condaenv.chkxatb4.requirements.txt (line 1)) (2.23.0)\n",
            "Requirement already satisfied, skipping upgrade: idna<3,>=2.5 in /usr/local/envs/bmt/lib/python3.7/site-packages (from requests->torchtext==0.3.1->-r /content/BMT/condaenv.chkxatb4.requirements.txt (line 1)) (2.9)\n",
            "Requirement already satisfied, skipping upgrade: certifi>=2017.4.17 in /usr/local/envs/bmt/lib/python3.7/site-packages (from requests->torchtext==0.3.1->-r /content/BMT/condaenv.chkxatb4.requirements.txt (line 1)) (2020.4.5.1)\n",
            "Requirement already satisfied, skipping upgrade: chardet<4,>=3.0.2 in /usr/local/envs/bmt/lib/python3.7/site-packages (from requests->torchtext==0.3.1->-r /content/BMT/condaenv.chkxatb4.requirements.txt (line 1)) (3.0.4)\n",
            "Requirement already satisfied, skipping upgrade: urllib3!=1.25.0,!=1.25.1,<1.26,>=1.21.1 in /usr/local/envs/bmt/lib/python3.7/site-packages (from requests->torchtext==0.3.1->-r /content/BMT/condaenv.chkxatb4.requirements.txt (line 1)) (1.25.8)\n",
            "Installing collected packages: torchtext\n",
            "Successfully installed torchtext-0.3.1\n",
            "\n",
            "\b\bdone\n",
            "#\n",
            "# To activate this environment, use\n",
            "#\n",
            "#     $ conda activate bmt\n",
            "#\n",
            "# To deactivate an active environment, use\n",
            "#\n",
            "#     $ conda deactivate\n",
            "\n"
          ],
          "name": "stdout"
        },
        {
          "output_type": "execute_result",
          "data": {
            "text/plain": [
              ""
            ]
          },
          "metadata": {
            "tags": []
          },
          "execution_count": 7
        }
      ]
    },
    {
      "cell_type": "code",
      "metadata": {
        "colab": {
          "base_uri": "https://localhost:8080/"
        },
        "id": "KiHVVuUiQm7N",
        "outputId": "5fc600ca-c062-432e-b79e-d73e1f3e0232"
      },
      "source": [
        "%%shell\n",
        "eval \"$(conda shell.bash hook)\" # copy conda command to shell\n",
        "#conda env create -f ./conda_env.yml\n",
        "conda activate bmt\n",
        "pip install spacy==2.0.12"
      ],
      "execution_count": 8,
      "outputs": [
        {
          "output_type": "stream",
          "text": [
            "Requirement already satisfied: spacy==2.0.12 in /usr/local/envs/bmt/lib/python3.7/site-packages (2.0.12)\n",
            "Requirement already satisfied: numpy>=1.7 in /usr/local/envs/bmt/lib/python3.7/site-packages (from spacy==2.0.12) (1.15.4)\n",
            "Requirement already satisfied: murmurhash<0.29,>=0.28 in /usr/local/envs/bmt/lib/python3.7/site-packages (from spacy==2.0.12) (0.28.0)\n",
            "Requirement already satisfied: cymem<1.32,>=1.30 in /usr/local/envs/bmt/lib/python3.7/site-packages (from spacy==2.0.12) (1.31.2)\n",
            "Requirement already satisfied: preshed<2.0.0,>=1.0.0 in /usr/local/envs/bmt/lib/python3.7/site-packages (from spacy==2.0.12) (1.0.1)\n",
            "Requirement already satisfied: thinc<6.11.0,>=6.10.3 in /usr/local/envs/bmt/lib/python3.7/site-packages (from spacy==2.0.12) (6.10.3)\n",
            "Requirement already satisfied: plac<1.0.0,>=0.9.6 in /usr/local/envs/bmt/lib/python3.7/site-packages (from spacy==2.0.12) (0.9.6)\n",
            "Requirement already satisfied: ujson>=1.35 in /usr/local/envs/bmt/lib/python3.7/site-packages (from spacy==2.0.12) (2.0.3)\n",
            "Requirement already satisfied: dill<0.3,>=0.2 in /usr/local/envs/bmt/lib/python3.7/site-packages (from spacy==2.0.12) (0.2.9)\n",
            "Collecting regex==2017.4.5\n",
            "  Downloading regex-2017.04.05.tar.gz (601 kB)\n",
            "\u001b[K     |████████████████████████████████| 601 kB 16.7 MB/s \n",
            "\u001b[?25hRequirement already satisfied: requests<3.0.0,>=2.13.0 in /usr/local/envs/bmt/lib/python3.7/site-packages (from spacy==2.0.12) (2.23.0)\n",
            "Requirement already satisfied: msgpack<1.0.0,>=0.5.6 in /usr/local/envs/bmt/lib/python3.7/site-packages (from thinc<6.11.0,>=6.10.3->spacy==2.0.12) (0.5.6)\n",
            "Requirement already satisfied: msgpack-numpy<1.0.0,>=0.4.1 in /usr/local/envs/bmt/lib/python3.7/site-packages (from thinc<6.11.0,>=6.10.3->spacy==2.0.12) (0.4.4.3)\n",
            "Requirement already satisfied: cytoolz<0.10,>=0.9.0 in /usr/local/envs/bmt/lib/python3.7/site-packages (from thinc<6.11.0,>=6.10.3->spacy==2.0.12) (0.9.0.1)\n",
            "Requirement already satisfied: wrapt<1.11.0,>=1.10.0 in /usr/local/envs/bmt/lib/python3.7/site-packages (from thinc<6.11.0,>=6.10.3->spacy==2.0.12) (1.10.11)\n",
            "Requirement already satisfied: tqdm<5.0.0,>=4.10.0 in /usr/local/envs/bmt/lib/python3.7/site-packages (from thinc<6.11.0,>=6.10.3->spacy==2.0.12) (4.46.0)\n",
            "Requirement already satisfied: six<2.0.0,>=1.10.0 in /usr/local/envs/bmt/lib/python3.7/site-packages (from thinc<6.11.0,>=6.10.3->spacy==2.0.12) (1.14.0)\n",
            "Requirement already satisfied: certifi>=2017.4.17 in /usr/local/envs/bmt/lib/python3.7/site-packages (from requests<3.0.0,>=2.13.0->spacy==2.0.12) (2020.4.5.1)\n",
            "Requirement already satisfied: urllib3!=1.25.0,!=1.25.1,<1.26,>=1.21.1 in /usr/local/envs/bmt/lib/python3.7/site-packages (from requests<3.0.0,>=2.13.0->spacy==2.0.12) (1.25.8)\n",
            "Requirement already satisfied: idna<3,>=2.5 in /usr/local/envs/bmt/lib/python3.7/site-packages (from requests<3.0.0,>=2.13.0->spacy==2.0.12) (2.9)\n",
            "Requirement already satisfied: chardet<4,>=3.0.2 in /usr/local/envs/bmt/lib/python3.7/site-packages (from requests<3.0.0,>=2.13.0->spacy==2.0.12) (3.0.4)\n",
            "Requirement already satisfied: toolz>=0.8.0 in /usr/local/envs/bmt/lib/python3.7/site-packages (from cytoolz<0.10,>=0.9.0->thinc<6.11.0,>=6.10.3->spacy==2.0.12) (0.10.0)\n",
            "Building wheels for collected packages: regex\n",
            "  Building wheel for regex (setup.py) ... \u001b[?25l\u001b[?25hdone\n",
            "  Created wheel for regex: filename=regex-2017.4.5-cp37-cp37m-linux_x86_64.whl size=537859 sha256=a7e36344f4525ce23e421d5ae29baa44a7cf50fc1bb25be7668eb4ae458277d5\n",
            "  Stored in directory: /root/.cache/pip/wheels/3d/e8/a5/d4894e7ef29935f75c6074409ce8ca80a0271f0ce2a30da5d3\n",
            "Successfully built regex\n",
            "Installing collected packages: regex\n",
            "  Attempting uninstall: regex\n",
            "    Found existing installation: regex 2018.7.11\n",
            "    Uninstalling regex-2018.7.11:\n",
            "      Successfully uninstalled regex-2018.7.11\n",
            "Successfully installed regex-2017.4.5\n"
          ],
          "name": "stdout"
        },
        {
          "output_type": "execute_result",
          "data": {
            "text/plain": [
              ""
            ]
          },
          "metadata": {
            "tags": []
          },
          "execution_count": 8
        }
      ]
    },
    {
      "cell_type": "code",
      "metadata": {
        "colab": {
          "base_uri": "https://localhost:8080/"
        },
        "id": "RSyxBu2khzcu",
        "outputId": "5c9699a8-e909-4ad5-8b02-9d7d3caa4a9c"
      },
      "source": [
        "%%shell\n",
        "eval \"$(conda shell.bash hook)\" # copy conda command to shell\n",
        "#conda env create -f ./conda_env.yml\n",
        "conda activate bmt\n",
        "#pip install spacy==2.0.12\n",
        "python -m spacy download en"
      ],
      "execution_count": 9,
      "outputs": [
        {
          "output_type": "stream",
          "text": [
            "Collecting en_core_web_sm==2.0.0\n",
            "  Downloading https://github.com/explosion/spacy-models/releases/download/en_core_web_sm-2.0.0/en_core_web_sm-2.0.0.tar.gz (37.4 MB)\n",
            "\u001b[K     |████████████████████████████████| 37.4 MB 1.4 MB/s \n",
            "\u001b[?25hBuilding wheels for collected packages: en-core-web-sm\n",
            "  Building wheel for en-core-web-sm (setup.py) ... \u001b[?25l\u001b[?25hdone\n",
            "  Created wheel for en-core-web-sm: filename=en_core_web_sm-2.0.0-py3-none-any.whl size=37405976 sha256=458d49246b807a213bd5beb264379477c157cc69f2b2af5db09d8d9c423267d6\n",
            "  Stored in directory: /tmp/pip-ephem-wheel-cache-zbwbg0_l/wheels/51/df/77/250d8a622c7fc066a42ea4238279337e4a5e04c2602c448ea5\n",
            "Successfully built en-core-web-sm\n",
            "Installing collected packages: en-core-web-sm\n",
            "Successfully installed en-core-web-sm-2.0.0\n",
            "\n",
            "\u001b[93m    Linking successful\u001b[0m\n",
            "    /usr/local/envs/bmt/lib/python3.7/site-packages/en_core_web_sm -->\n",
            "    /usr/local/envs/bmt/lib/python3.7/site-packages/spacy/data/en\n",
            "\n",
            "    You can now load the model via spacy.load('en')\n",
            "\n"
          ],
          "name": "stdout"
        },
        {
          "output_type": "execute_result",
          "data": {
            "text/plain": [
              ""
            ]
          },
          "metadata": {
            "tags": []
          },
          "execution_count": 9
        }
      ]
    },
    {
      "cell_type": "code",
      "metadata": {
        "colab": {
          "base_uri": "https://localhost:8080/"
        },
        "id": "ETqrwJIVb6ii",
        "outputId": "66f517e2-0274-4d45-9af9-1cfd08114c8a"
      },
      "source": [
        "import spacy\n",
        "spacy.load('en')"
      ],
      "execution_count": 9,
      "outputs": [
        {
          "output_type": "execute_result",
          "data": {
            "text/plain": [
              "<spacy.lang.en.English at 0x7f8c3780f8d0>"
            ]
          },
          "metadata": {
            "tags": []
          },
          "execution_count": 9
        }
      ]
    },
    {
      "cell_type": "code",
      "metadata": {
        "id": "F2Qcxy34LlCY"
      },
      "source": [
        "!mkdir test"
      ],
      "execution_count": 10,
      "outputs": []
    },
    {
      "cell_type": "code",
      "metadata": {
        "colab": {
          "base_uri": "https://localhost:8080/"
        },
        "id": "xKjpJcUOTSB7",
        "outputId": "daaacfa6-149c-4fa1-929a-424a7d09f42a"
      },
      "source": [
        "%cd submodules/video_features\n"
      ],
      "execution_count": 13,
      "outputs": [
        {
          "output_type": "stream",
          "text": [
            "/content/BMT/submodules/video_features\n"
          ],
          "name": "stdout"
        }
      ]
    },
    {
      "cell_type": "code",
      "metadata": {
        "id": "MlnYx4ZINWCN",
        "colab": {
          "base_uri": "https://localhost:8080/"
        },
        "outputId": "6e08684a-85d6-4a5f-c4d8-17e89ca5b275"
      },
      "source": [
        "%%shell\n",
        "eval \"$(conda shell.bash hook)\" # copy conda command to shell\n",
        "conda env create -f conda_env_i3d.yml\n",
        "conda activate i3d\n",
        "python main.py \\\n",
        "    --feature_type i3d \\\n",
        "    --on_extraction save_numpy \\\n",
        "    --device_ids 0 \\\n",
        "    --extraction_fps 25 \\\n",
        "    --video_paths ../../test/bddx_1.mp4 \\\n",
        "    --output_path ../../test/"
      ],
      "execution_count": 14,
      "outputs": [
        {
          "output_type": "stream",
          "text": [
            "Collecting package metadata (repodata.json): - \b\b\\ \b\b| \b\b/ \b\b- \b\b\\ \b\b| \b\b/ \b\b- \b\b\\ \b\b| \b\b/ \b\b- \b\b\\ \b\b| \b\b/ \b\b- \b\b\\ \b\b| \b\b/ \b\b- \b\b\\ \b\b| \b\b/ \b\b- \b\b\\ \b\b| \b\b/ \b\b- \b\b\\ \b\b| \b\b/ \b\b- \b\b\\ \b\b| \b\b/ \b\b- \b\b\\ \b\b| \b\b/ \b\b- \b\b\\ \b\b| \b\b/ \b\b- \b\b\\ \b\b| \b\bdone\n",
            "Solving environment: - \b\b\\ \b\b| \b\b/ \b\b- \b\b\\ \b\b| \b\b/ \b\b- \b\b\\ \b\b| \b\b/ \b\b- \b\b\\ \b\b| \b\b/ \b\bdone\n",
            "\n",
            "Downloading and Extracting Packages\n",
            "jpeg-9b              | 214 KB    | : 100% 1.0/1 [00:00<00:00,  9.76it/s]\n",
            "xz-5.2.5             | 341 KB    | : 100% 1.0/1 [00:00<00:00, 11.82it/s]\n",
            "cupy-5.1.0           | 9.3 MB    | : 100% 1.0/1 [00:00<00:00,  3.23it/s]\n",
            "mkl_random-1.1.1     | 322 KB    | : 100% 1.0/1 [00:00<00:00, 11.45it/s]\n",
            "lame-3.100           | 323 KB    | : 100% 1.0/1 [00:00<00:00, 14.78it/s]\n",
            "bzip2-1.0.8          | 78 KB     | : 100% 1.0/1 [00:00<00:00, 17.68it/s]\n",
            "zlib-1.2.11          | 103 KB    | : 100% 1.0/1 [00:00<00:00, 12.16it/s]\n",
            "gnutls-3.6.5         | 1.6 MB    | : 100% 1.0/1 [00:00<00:00,  4.83it/s]\n",
            "libtiff-4.1.0        | 447 KB    | : 100% 1.0/1 [00:00<00:00, 13.12it/s]\n",
            "intel-openmp-2020.1  | 780 KB    | : 100% 1.0/1 [00:00<00:00, 12.24it/s]\n",
            "cffi-1.14.0          | 224 KB    | : 100% 1.0/1 [00:00<00:00, 10.84it/s]\n",
            "sqlite-3.31.1        | 1.1 MB    | : 100% 1.0/1 [00:00<00:00,  9.35it/s]\n",
            "pip-20.0.2           | 1.7 MB    | : 100% 1.0/1 [00:00<00:00,  6.39it/s]\n",
            "zstd-1.3.7           | 401 KB    | : 100% 1.0/1 [00:00<00:00, 13.28it/s]\n",
            "openssl-1.1.1g       | 2.5 MB    | : 100% 1.0/1 [00:00<00:00,  4.96it/s]\n",
            "certifi-2020.4.5.1   | 155 KB    | : 100% 1.0/1 [00:00<00:00, 10.51it/s]\n",
            "libedit-3.1.20181209 | 163 KB    | : 100% 1.0/1 [00:00<00:00, 11.94it/s]\n",
            "gmp-6.1.2            | 514 KB    | : 100% 1.0/1 [00:00<00:00, 11.81it/s]\n",
            "rope-0.17.0          | 127 KB    | : 100% 1.0/1 [00:00<00:00, 13.63it/s]\n",
            "cudatoolkit-10.0.130 | 261.2 MB  | : 100% 1.0/1 [00:05<00:00,  5.68s/it]               \n",
            "libpng-1.6.37        | 278 KB    | : 100% 1.0/1 [00:00<00:00, 13.58it/s]\n",
            "fastrlock-0.4        | 29 KB     | : 100% 1.0/1 [00:00<00:00, 15.71it/s]\n",
            "setuptools-46.4.0    | 514 KB    | : 100% 1.0/1 [00:00<00:00, 10.11it/s]\n",
            "libffi-3.3           | 50 KB     | : 100% 1.0/1 [00:00<00:00, 13.87it/s]\n",
            "pyflakes-2.2.0       | 61 KB     | : 100% 1.0/1 [00:00<00:00, 11.91it/s]\n",
            "hdf5-1.10.2          | 3.8 MB    | : 100% 1.0/1 [00:00<00:00,  5.61it/s]\n",
            "zipp-3.1.0           | 10 KB     | : 100% 1.0/1 [00:00<00:00, 12.34it/s]\n",
            "nccl-1.3.5           | 1.3 MB    | : 100% 1.0/1 [00:00<00:00,  4.38it/s]\n",
            "mkl-2020.1           | 129.0 MB  | : 100% 1.0/1 [00:24<00:00, 24.26s/it]               \n",
            "h5py-2.8.0           | 910 KB    | : 100% 1.0/1 [00:00<00:00,  7.62it/s]\n",
            "python-3.7.7         | 45.1 MB   | : 100% 1.0/1 [00:06<00:00,  6.41s/it]               \n",
            "readline-8.0         | 356 KB    | : 100% 1.0/1 [00:00<00:00,  6.88it/s]\n",
            "mccabe-0.6.1         | 14 KB     | : 100% 1.0/1 [00:00<00:00, 18.80it/s]\n",
            "ninja-1.9.0          | 1.2 MB    | : 100% 1.0/1 [00:00<00:00,  7.67it/s]\n",
            "autopep8-1.4.4       | 38 KB     | : 100% 1.0/1 [00:00<00:00, 15.74it/s]\n",
            "pillow-6.1.0         | 586 KB    | : 100% 1.0/1 [00:00<00:00,  9.31it/s]\n",
            "nettle-3.4.1         | 5.0 MB    | : 100% 1.0/1 [00:00<00:00,  5.09it/s]\n",
            "importlib-metadata-1 | 49 KB     | : 100% 1.0/1 [00:00<00:00, 13.14it/s]\n",
            "openh264-1.8.0       | 659 KB    | : 100% 1.0/1 [00:00<00:00, 12.94it/s]\n",
            "freetype-2.9.1       | 550 KB    | : 100% 1.0/1 [00:00<00:00, 11.93it/s]\n",
            "ca-certificates-2020 | 125 KB    | : 100% 1.0/1 [00:03<00:00,  3.97s/it]\n",
            "libgfortran-ng-7.3.0 | 1006 KB   | : 100% 1.0/1 [00:00<00:00,  9.39it/s]\n",
            "cudnn-7.3.1          | 286.1 MB  | : 100% 1.0/1 [00:27<00:00, 27.80s/it]               \n",
            "libgcc-ng-9.1.0      | 5.1 MB    | : 100% 1.0/1 [00:01<00:00,  1.01s/it]\n",
            "ncurses-6.2          | 817 KB    | : 100% 1.0/1 [00:04<00:00,  4.30s/it]\n",
            "pycodestyle-2.6.0    | 43 KB     | : 100% 1.0/1 [00:00<00:00, 13.48it/s]\n",
            "flake8-3.8.2         | 134 KB    | : 100% 1.0/1 [00:00<00:00, 14.73it/s]\n",
            "tk-8.6.8             | 2.8 MB    | : 100% 1.0/1 [00:00<00:00,  5.40it/s]\n",
            "olefile-0.46         | 50 KB     | : 100% 1.0/1 [00:00<00:00, 16.21it/s]\n",
            "tqdm-4.46.0          | 60 KB     | : 100% 1.0/1 [00:00<00:00, 13.09it/s]\n",
            "libstdcxx-ng-9.1.0   | 3.1 MB    | : 100% 1.0/1 [00:00<00:00,  6.51it/s]\n",
            "x264-1!152.20180806  | 631 KB    | : 100% 1.0/1 [00:00<00:00, 13.29it/s]\n",
            "libiconv-1.15        | 721 KB    | : 100% 1.0/1 [00:00<00:00, 12.97it/s]\n",
            "ffmpeg-4.1.3         | 75.8 MB   | : 100% 1.0/1 [00:09<00:00,  9.35s/it]               \n",
            "Preparing transaction: \\ \b\b| \b\b/ \b\b- \b\b\\ \b\bdone\n",
            "Verifying transaction: / \b\b- \b\b\\ \b\b| \b\b/ \b\b- \b\b\\ \b\b| \b\b/ \b\b- \b\b\\ \b\b| \b\b/ \b\b- \b\b\\ \b\b| \b\b/ \b\b- \b\b\\ \b\b| \b\b/ \b\b- \b\b\\ \b\b| \b\b/ \b\b- \b\b\\ \b\b| \b\b/ \b\b- \b\b\\ \b\b| \b\bdone\n",
            "Executing transaction: - \b\b\\ \b\b| \b\b/ \b\b- \b\b\\ \b\b| \b\b/ \b\b- \b\b\\ \b\b| \b\b/ \b\b- \b\b\\ \b\b| \b\b/ \b\b- \b\b\\ \b\b| \b\b/ \b\b- \b\b\\ \b\b| \b\b/ \b\b- \b\b\\ \b\b| \b\b/ \b\b- \b\b\\ \b\b| \b\b/ \b\b- \b\b\\ \b\b| \b\b/ \b\b- \b\b\\ \b\b| \b\b/ \b\b- \b\b\\ \b\b| \b\b/ \b\bdone\n",
            "Installing pip dependencies: \\ \b\b| \b\b/ \b\b- \b\b\\ \b\b| \b\b/ \b\b- \b\b\\ \b\b| \b\b/ \b\b- \b\b\\ \b\b| \b\b/ \b\b- \b\b\\ \b\b| \b\b/ \b\b- \b\b\\ \b\b| \b\b/ \b\b- \b\b\\ \b\b| \b\b/ \b\b- \b\b\\ \b\b| \b\b/ \b\b- \b\b\\ \b\b| \b\b/ \b\b- Ran pip subprocess with arguments:\n",
            "['/usr/local/envs/i3d/bin/python', '-m', 'pip', 'install', '-U', '-r', '/content/BMT/submodules/video_features/condaenv.0n2srj8f.requirements.txt']\n",
            "Pip subprocess output:\n",
            "Collecting opencv-python==4.1.0.25\n",
            "  Downloading opencv_python-4.1.0.25-cp37-cp37m-manylinux1_x86_64.whl (26.6 MB)\n",
            "Requirement already satisfied, skipping upgrade: numpy>=1.14.5 in /usr/local/envs/i3d/lib/python3.7/site-packages (from opencv-python==4.1.0.25->-r /content/BMT/submodules/video_features/condaenv.0n2srj8f.requirements.txt (line 1)) (1.15.4)\n",
            "Installing collected packages: opencv-python\n",
            "Successfully installed opencv-python-4.1.0.25\n",
            "\n",
            "\b\b\\ \b\bdone\n",
            "#\n",
            "# To activate this environment, use\n",
            "#\n",
            "#     $ conda activate i3d\n",
            "#\n",
            "# To deactivate an active environment, use\n",
            "#\n",
            "#     $ conda deactivate\n",
            "\n",
            "Saving features to ../../test/\n",
            "100% 1/1 [00:59<00:00, 59.19s/it]\n"
          ],
          "name": "stdout"
        },
        {
          "output_type": "execute_result",
          "data": {
            "text/plain": [
              ""
            ]
          },
          "metadata": {
            "tags": []
          },
          "execution_count": 14
        }
      ]
    },
    {
      "cell_type": "code",
      "metadata": {
        "colab": {
          "base_uri": "https://localhost:8080/"
        },
        "id": "P7eVbR1cWX39",
        "outputId": "c5f41831-28ef-4b5b-8273-056fd39e873f"
      },
      "source": [
        "%%shell\n",
        "eval \"$(conda shell.bash hook)\" # copy conda command to shell\n",
        "conda env create -f conda_env_vggish.yml\n",
        "conda activate vggish\n",
        "wget https://storage.googleapis.com/audioset/vggish_model.ckpt -P ./models/vggish/checkpoints\n",
        "python main.py \\\n",
        "    --feature_type vggish \\\n",
        "    --on_extraction save_numpy \\\n",
        "    --device_ids 0 \\\n",
        "    --video_paths ../../test/bddx_1.mp4 \\\n",
        "    --output_path ../../test/"
      ],
      "execution_count": 22,
      "outputs": [
        {
          "output_type": "stream",
          "text": [
            "Collecting package metadata (repodata.json): - \b\b\\ \b\b| \b\b/ \b\b- \b\b\\ \b\b| \b\b/ \b\b- \b\b\\ \b\b| \b\b/ \b\b- \b\b\\ \b\b| \b\b/ \b\b- \b\b\\ \b\b| \b\b/ \b\b- \b\b\\ \b\b| \b\b/ \b\b- \b\b\\ \b\b| \b\b/ \b\b- \b\b\\ \b\b| \b\b/ \b\b- \b\b\\ \b\b| \b\b/ \b\b- \b\b\\ \b\b| \b\b/ \b\b- \b\b\\ \b\b| \b\b/ \b\b- \b\b\\ \b\b| \b\b/ \b\b- \b\b\\ \b\b| \b\b/ \b\b- \b\b\\ \b\b| \b\b/ \b\b- \b\b\\ \b\b| \b\b/ \b\b- \b\b\\ \b\b| \b\b/ \b\b- \b\b\\ \b\b| \b\b/ \b\b- \b\b\\ \b\b| \b\b/ \b\bdone\n",
            "Solving environment: \\ \b\b| \b\b/ \b\b- \b\b\\ \b\b| \b\b/ \b\b- \b\b\\ \b\b| \b\b/ \b\b- \b\b\\ \b\b| \b\b/ \b\b- \b\b\\ \b\b| \b\b/ \b\b- \b\b\\ \b\b| \b\b/ \b\b- \b\b\\ \b\b| \b\b/ \b\b- \b\b\\ \b\b| \b\b/ \b\b- \b\b\\ \b\b| \b\b/ \b\bdone\n",
            "\n",
            "Downloading and Extracting Packages\n",
            "python-3.7.7         | 52.6 MB   | : 100% 1.0/1 [00:06<00:00,  6.16s/it]               \n",
            "certifi-2020.4.5.1   | 159 KB    | : 100% 1.0/1 [00:00<00:00, 12.96it/s]\n",
            "ninja-1.9.0          | 1.6 MB    | : 100% 1.0/1 [00:00<00:00,  3.77it/s]\n",
            "absl-py-0.9.0        | 162 KB    | : 100% 1.0/1 [00:00<00:00, 10.65it/s]\n",
            "gmp-6.2.0            | 811 KB    | : 100% 1.0/1 [00:00<00:00,  6.42it/s]\n",
            "zlib-1.2.11          | 120 KB    | : 100% 1.0/1 [00:00<00:00,  9.81it/s]\n",
            "six-1.15.0           | 13 KB     | : 100% 1.0/1 [00:00<00:00, 18.40it/s]\n",
            "wget-1.20.1          | 894 KB    | : 100% 1.0/1 [00:00<00:00,  5.07it/s]\n",
            "libpng-1.6.37        | 308 KB    | : 100% 1.0/1 [00:00<00:00, 12.15it/s]\n",
            "protobuf-3.11.4      | 711 KB    | : 100% 1.0/1 [00:00<00:00,  5.06it/s]\n",
            "keras-preprocessing- | 36 KB     | : 100% 1.0/1 [00:00<00:00, 30.36it/s]\n",
            "grpcio-1.27.2        | 1.4 MB    | : 100% 1.0/1 [00:00<00:00,  3.92it/s]\n",
            "tensorflow-gpu-1.13. | 2 KB      | : 100% 1.0/1 [00:00<00:00, 35.86it/s]\n",
            "wheel-0.33.4         | 34 KB     | : 100% 1.0/1 [00:00<00:00, 23.11it/s]\n",
            "mkl_random-1.1.0     | 376 KB    | : 100% 1.0/1 [00:00<00:00,  6.77it/s]\n",
            "mkl-service-2.3.0    | 208 KB    | : 100% 1.0/1 [00:00<00:00, 11.05it/s]\n",
            "werkzeug-1.0.1       | 243 KB    | : 100% 1.0/1 [00:00<00:00, 12.88it/s]\n",
            "openssl-1.1.1g       | 3.8 MB    | : 100% 1.0/1 [00:00<00:00,  1.65it/s]\n",
            "setuptools-47.1.1    | 647 KB    | : 100% 1.0/1 [00:00<00:00,  4.66it/s]\n",
            "openh264-1.8.0       | 1.4 MB    | : 100% 1.0/1 [00:00<00:00,  4.59it/s]\n",
            "tensorflow-1.13.1    | 4 KB      | : 100% 1.0/1 [00:00<00:00, 36.33it/s]\n",
            "libedit-3.1.20181209 | 188 KB    | : 100% 1.0/1 [00:00<00:00, 10.51it/s]\n",
            "hdf5-1.10.4          | 5.3 MB    | : 100% 1.0/1 [00:00<00:00,  1.02it/s]               \n",
            "libstdcxx-ng-9.1.0   | 4.0 MB    | : 100% 1.0/1 [00:00<00:00,  1.65it/s]\n",
            "libgcc-ng-9.1.0      | 8.1 MB    | : 100% 1.0/1 [00:01<00:00,  1.17s/it]               \n",
            "tqdm-4.46.0          | 60 KB     | : 100% 1.0/1 [00:00<00:00, 13.73it/s]\n",
            "sqlite-3.31.1        | 2.0 MB    | : 100% 1.0/1 [00:00<00:00,  2.94it/s]\n",
            "cupti-10.0.130       | 1.8 MB    | : 100% 1.0/1 [00:00<00:00,  3.41it/s]\n",
            "_tflow_select-2.1.0  | 2 KB      | : 100% 1.0/1 [00:00<00:00, 38.74it/s]\n",
            "cffi-1.14.0          | 226 KB    | : 100% 1.0/1 [00:00<00:00,  8.66it/s]\n",
            "markdown-3.1.1       | 113 KB    | : 100% 1.0/1 [00:00<00:00, 12.89it/s]\n",
            "mkl_fft-1.0.15       | 172 KB    | : 100% 1.0/1 [00:00<00:00,  8.55it/s]\n",
            "keras-applications-1 | 33 KB     | : 100% 1.0/1 [00:00<00:00, 26.52it/s]\n",
            "x264-1!152.20180806  | 1.4 MB    | : 100% 1.0/1 [00:00<00:00,  3.54it/s]\n",
            "cudnn-7.6.5          | 226.4 MB  | : 100% 1.0/1 [00:27<00:00, 27.23s/it] \n",
            "bzip2-1.0.8          | 396 KB    | : 100% 1.0/1 [00:00<00:00, 10.11it/s]\n",
            "freetype-2.10.2      | 905 KB    | : 100% 1.0/1 [00:00<00:00,  4.88it/s]\n",
            "h5py-2.10.0          | 1.2 MB    | : 100% 1.0/1 [00:00<00:00,  3.74it/s]\n",
            "libffi-3.3           | 54 KB     | : 100% 1.0/1 [00:00<00:00, 14.06it/s]\n",
            "libprotobuf-3.11.4   | 4.8 MB    | : 100% 1.0/1 [00:00<00:00,  1.10it/s]\n",
            "scipy-1.4.1          | 18.9 MB   | : 100% 1.0/1 [00:02<00:00,  2.95s/it]\n",
            "libiconv-1.15        | 2.0 MB    | : 100% 1.0/1 [00:00<00:00,  3.75it/s]\n",
            "tk-8.6.8             | 3.1 MB    | : 100% 1.0/1 [00:00<00:00,  1.77it/s]\n",
            "tensorflow-estimator | 205 KB    | : 100% 1.0/1 [00:00<00:00, 11.12it/s]\n",
            "ncurses-6.2          | 1.1 MB    | : 100% 1.0/1 [00:00<00:00,  2.28it/s]\n",
            "ca-certificates-2020 | 132 KB    | : 100% 1.0/1 [00:00<00:00, 11.48it/s]\n",
            "tensorflow-base-1.13 | 293.5 MB  | : 100% 1.0/1 [00:54<00:00, 54.33s/it]               \n",
            "numpy-base-1.16.4    | 4.4 MB    | : 100% 1.0/1 [00:00<00:00,  1.08it/s]\n",
            "lame-3.100           | 498 KB    | : 100% 1.0/1 [00:00<00:00,  9.47it/s]\n",
            "readline-8.0         | 428 KB    | : 100% 1.0/1 [00:00<00:00,  7.15it/s]\n",
            "c-ares-1.15.0        | 102 KB    | : 100% 1.0/1 [00:00<00:00, 21.35it/s]\n",
            "gnutls-3.6.13        | 2.1 MB    | : 100% 1.0/1 [00:00<00:00,  2.22it/s]\n",
            "mock-4.0.2           | 31 KB     | : 100% 1.0/1 [00:00<00:00, 13.37it/s]\n",
            "tensorboard-1.13.1   | 3.3 MB    | : 100% 1.0/1 [00:00<00:00,  2.12it/s]\n",
            "numpy-1.16.4         | 49 KB     | : 100% 1.0/1 [00:00<00:00, 27.97it/s]\n",
            "mkl-2019.4           | 204.1 MB  | : 100% 1.0/1 [00:33<00:00, 33.30s/it]               \n",
            "cudatoolkit-10.0.130 | 380.0 MB  | : 100% 1.0/1 [00:45<00:00, 45.18s/it]              \n",
            "libgfortran-ng-7.3.0 | 1.3 MB    | : 100% 1.0/1 [00:00<00:00,  3.60it/s]\n",
            "xz-5.2.5             | 438 KB    | : 100% 1.0/1 [00:00<00:00,  6.40it/s]\n",
            "gast-0.3.3           | 12 KB     | : 100% 1.0/1 [00:00<00:00, 24.86it/s]\n",
            "intel-openmp-2020.1  | 940 KB    | : 100% 1.0/1 [00:00<00:00,  5.31it/s]\n",
            "astor-0.8.0          | 45 KB     | : 100% 1.0/1 [00:00<00:00,  6.76it/s]                \n",
            "nettle-3.4.1         | 5.7 MB    | : 100% 1.0/1 [00:00<00:00,  1.25it/s]\n",
            "pip-20.0.2           | 1.9 MB    | : 100% 1.0/1 [00:00<00:00,  2.27it/s]\n",
            "Preparing transaction: \\ \b\b| \b\b/ \b\b- \b\b\\ \b\b| \b\b/ \b\b- \b\bdone\n",
            "Verifying transaction: | \b\b/ \b\b- \b\b\\ \b\b| \b\b/ \b\b- \b\b\\ \b\b| \b\b/ \b\b- \b\b\\ \b\b| \b\b/ \b\b- \b\b\\ \b\b| \b\b/ \b\b- \b\b\\ \b\b| \b\b/ \b\b- \b\b\\ \b\b| \b\b/ \b\b- \b\b\\ \b\b| \b\b/ \b\b- \b\b\\ \b\b| \b\b/ \b\b- \b\b\\ \b\b| \b\b/ \b\b- \b\b\\ \b\b| \b\b/ \b\b- \b\b\\ \b\b| \b\b/ \b\b- \b\b\\ \b\b| \b\b/ \b\b- \b\b\\ \b\b| \b\b/ \b\b- \b\b\\ \b\b| \b\b/ \b\b- \b\b\\ \b\b| \b\b/ \b\b- \b\b\\ \b\b| \b\b/ \b\b- \b\b\\ \b\b| \b\b/ \b\b- \b\b\\ \b\b| \b\b/ \b\b- \b\b\\ \b\b| \b\b/ \b\b- \b\b\\ \b\b| \b\b/ \b\b- \b\b\\ \b\b| \b\b/ \b\b- \b\b\\ \b\b| \b\b/ \b\b- \b\b\\ \b\b| \b\b/ \b\bdone\n",
            "Executing transaction: \\ \b\b| \b\b/ \b\b- \b\b\\ \b\b| \b\b/ \b\b- \b\b\\ \b\b| \b\b/ \b\b- \b\b\\ \b\b| \b\b/ \b\b- \b\b\\ \b\b| \b\b/ \b\b- \b\b\\ \b\b| \b\b/ \b\b- \b\b\\ \b\b| \b\b/ \b\b- \b\b\\ \b\b| \b\bdone\n",
            "Installing pip dependencies: - \b\b\\ \b\b| \b\b/ \b\b- \b\b\\ \b\b| \b\b/ \b\b- \b\b\\ \b\b| \b\b/ \b\b- \b\b\\ \b\b| \b\b/ \b\b- \b\b\\ \b\b| \b\b/ \b\b- \b\b\\ \b\b| \b\b/ \b\b- \b\b\\ \b\b| \b\b/ \b\b- \b\b\\ \b\b| \b\b/ \b\b- \b\b\\ \b\b| \b\b/ \b\b- \b\b\\ \b\b| \b\b/ \b\b- \b\b\\ \b\b| \b\b/ \b\b- \b\b\\ \b\b| \b\b/ \b\b- \b\b\\ \b\b| \b\b/ \b\b- \b\b\\ \b\b| \b\b/ \b\b- \b\b\\ \b\b| \b\b/ \b\b- \b\b\\ \b\b| \b\b/ \b\b- \b\b\\ \b\b| Ran pip subprocess with arguments:\n",
            "['/usr/local/envs/vggish/bin/python', '-m', 'pip', 'install', '-U', '-r', '/content/BMT/submodules/video_features/condaenv.wi2nrznv.requirements.txt']\n",
            "Pip subprocess output:\n",
            "Collecting llvmlite==0.32.1\n",
            "  Downloading llvmlite-0.32.1-cp37-cp37m-manylinux1_x86_64.whl (20.2 MB)\n",
            "Collecting numba==0.49.1\n",
            "  Downloading numba-0.49.1-cp37-cp37m-manylinux2014_x86_64.whl (3.6 MB)\n",
            "Collecting pysoundfile==0.9.0.post1\n",
            "  Downloading PySoundFile-0.9.0.post1-py2.py3-none-any.whl (24 kB)\n",
            "Collecting resampy==0.2.2\n",
            "  Downloading resampy-0.2.2.tar.gz (323 kB)\n",
            "Requirement already satisfied, skipping upgrade: numpy>=1.15 in /usr/local/envs/vggish/lib/python3.7/site-packages (from numba==0.49.1->-r /content/BMT/submodules/video_features/condaenv.wi2nrznv.requirements.txt (line 2)) (1.16.4)\n",
            "Requirement already satisfied, skipping upgrade: setuptools in /usr/local/envs/vggish/lib/python3.7/site-packages (from numba==0.49.1->-r /content/BMT/submodules/video_features/condaenv.wi2nrznv.requirements.txt (line 2)) (47.1.1.post20200604)\n",
            "Requirement already satisfied, skipping upgrade: cffi>=0.6 in /usr/local/envs/vggish/lib/python3.7/site-packages (from pysoundfile==0.9.0.post1->-r /content/BMT/submodules/video_features/condaenv.wi2nrznv.requirements.txt (line 3)) (1.14.0)\n",
            "Requirement already satisfied, skipping upgrade: scipy>=0.13 in /usr/local/envs/vggish/lib/python3.7/site-packages (from resampy==0.2.2->-r /content/BMT/submodules/video_features/condaenv.wi2nrznv.requirements.txt (line 4)) (1.4.1)\n",
            "Requirement already satisfied, skipping upgrade: six>=1.3 in /usr/local/envs/vggish/lib/python3.7/site-packages (from resampy==0.2.2->-r /content/BMT/submodules/video_features/condaenv.wi2nrznv.requirements.txt (line 4)) (1.15.0)\n",
            "Requirement already satisfied, skipping upgrade: pycparser in /usr/local/envs/vggish/lib/python3.7/site-packages (from cffi>=0.6->pysoundfile==0.9.0.post1->-r /content/BMT/submodules/video_features/condaenv.wi2nrznv.requirements.txt (line 3)) (2.20)\n",
            "Building wheels for collected packages: resampy\n",
            "  Building wheel for resampy (setup.py): started\n",
            "  Building wheel for resampy (setup.py): finished with status 'done'\n",
            "  Created wheel for resampy: filename=resampy-0.2.2-py3-none-any.whl size=320719 sha256=41757fbb417441ac2836c70fae4b324b378c3ef68bb5f9ebe33dc692ccd089ed\n",
            "  Stored in directory: /root/.cache/pip/wheels/a0/18/0a/8ad18a597d8333a142c9789338a96a6208f1198d290ece356c\n",
            "Successfully built resampy\n",
            "Installing collected packages: llvmlite, numba, pysoundfile, resampy\n",
            "Successfully installed llvmlite-0.32.1 numba-0.49.1 pysoundfile-0.9.0.post1 resampy-0.2.2\n",
            "\n",
            "\b\bdone\n",
            "#\n",
            "# To activate this environment, use\n",
            "#\n",
            "#     $ conda activate vggish\n",
            "#\n",
            "# To deactivate an active environment, use\n",
            "#\n",
            "#     $ conda deactivate\n",
            "\n",
            "--2021-02-15 00:51:51--  https://storage.googleapis.com/audioset/vggish_model.ckpt\n",
            "Resolving storage.googleapis.com... 172.217.12.240, 172.217.9.208, 172.217.15.112, ...\n",
            "Connecting to storage.googleapis.com|172.217.12.240|:443... connected.\n",
            "HTTP request sent, awaiting response... 200 OK\n",
            "Length: 291108469 (278M) [application/octet-stream]\n",
            "Saving to: ‘./models/vggish/checkpoints/vggish_model.ckpt’\n",
            "\n",
            "vggish_model.ckpt   100%[===================>] 277.62M   121MB/s    in 2.3s    \n",
            "\n",
            "2021-02-15 00:51:53 (121 MB/s) - ‘./models/vggish/checkpoints/vggish_model.ckpt’ saved [291108469/291108469]\n",
            "\n",
            "Saving features to ../../test/\n",
            "\n",
            "WARNING: The TensorFlow contrib module will not be included in TensorFlow 2.0.\n",
            "For more information, please see:\n",
            "  * https://github.com/tensorflow/community/blob/master/rfcs/20180907-contrib-sunset.md\n",
            "  * https://github.com/tensorflow/addons\n",
            "If you depend on functionality not listed there, please file an issue.\n",
            "\n",
            "  0% 0/1 [00:00<?, ?it/s]Error opening './tmp/bddx_1.wav': System error.\n",
            "Extraction failed at: ../../test/bddx_1.mp4. Continuing extraction\n",
            "100% 1/1 [00:14<00:00, 14.05s/it]\n"
          ],
          "name": "stdout"
        },
        {
          "output_type": "execute_result",
          "data": {
            "text/plain": [
              ""
            ]
          },
          "metadata": {
            "tags": []
          },
          "execution_count": 22
        }
      ]
    },
    {
      "cell_type": "code",
      "metadata": {
        "id": "5qVIpmWJP56R"
      },
      "source": [
        "import numpy as np\n",
        "vggish_features = np.zeros((1, 128))"
      ],
      "execution_count": 15,
      "outputs": []
    },
    {
      "cell_type": "code",
      "metadata": {
        "colab": {
          "base_uri": "https://localhost:8080/"
        },
        "id": "CiCK6ryPS8Ar",
        "outputId": "9fa84401-1b24-406b-f982-d49604c3f2e8"
      },
      "source": [
        "!ls"
      ],
      "execution_count": 17,
      "outputs": [
        {
          "output_type": "stream",
          "text": [
            "bddx_1_vggish.npy  conda_env_vggish.yml  main.py  README.md  tmp\n",
            "conda_env_i3d.yml  LICENSE\t\t models   sample     utils\n"
          ],
          "name": "stdout"
        }
      ]
    },
    {
      "cell_type": "code",
      "metadata": {
        "id": "FIpimdobQA1m"
      },
      "source": [
        "with open('bddx_1_vggish.npy', 'wb') as f:\n",
        "    np.save(f, vggish_features)"
      ],
      "execution_count": 16,
      "outputs": []
    },
    {
      "cell_type": "code",
      "metadata": {
        "colab": {
          "base_uri": "https://localhost:8080/"
        },
        "id": "khHy3V7GX9fy",
        "outputId": "8d0b8eab-2829-4c66-b21a-68382df1036c"
      },
      "source": [
        "from google.colab import drive\n",
        "drive.mount('/content/gdrive')"
      ],
      "execution_count": 11,
      "outputs": [
        {
          "output_type": "stream",
          "text": [
            "Mounted at /content/gdrive\n"
          ],
          "name": "stdout"
        }
      ]
    },
    {
      "cell_type": "code",
      "metadata": {
        "colab": {
          "base_uri": "https://localhost:8080/"
        },
        "id": "Dno2B96lYWmd",
        "outputId": "111a6113-0337-460c-f540-4f4121ad99f7"
      },
      "source": [
        "!ls /content/gdrive/MyDrive/models/"
      ],
      "execution_count": 12,
      "outputs": [
        {
          "output_type": "stream",
          "text": [
            "best_cap_model.pt  best_prop_model.pt\n"
          ],
          "name": "stdout"
        }
      ]
    },
    {
      "cell_type": "code",
      "metadata": {
        "colab": {
          "base_uri": "https://localhost:8080/"
        },
        "id": "kg3hiFTNTJat",
        "outputId": "b0547607-e261-421c-9f42-6888b1dd21eb"
      },
      "source": [
        "%cd ../../"
      ],
      "execution_count": 22,
      "outputs": [
        {
          "output_type": "stream",
          "text": [
            "/content/BMT\n"
          ],
          "name": "stdout"
        }
      ]
    },
    {
      "cell_type": "code",
      "metadata": {
        "id": "SknsE7YZNa1m",
        "colab": {
          "base_uri": "https://localhost:8080/"
        },
        "outputId": "2901b0d1-7446-4ddc-8076-26f6ef51c4e2"
      },
      "source": [
        "%%shell\n",
        "eval \"$(conda shell.bash hook)\" # copy conda command to shell\n",
        "conda activate bmt\n",
        "python ./sample/single_video_prediction.py \\\n",
        "    --prop_generator_model_path /content/gdrive/MyDrive/models/best_prop_model.pt \\\n",
        "    --pretrained_cap_model_path /content/gdrive/MyDrive/models/best_cap_model.pt \\\n",
        "    --vggish_features_path ./test/bddx_1_vggish.npy \\\n",
        "    --rgb_features_path ./test/bddx_1_rgb.npy \\\n",
        "    --flow_features_path ./test/bddx_1_flow.npy \\\n",
        "    --duration_in_secs 99 \\\n",
        "    --device_id 0 \\\n",
        "    --max_prop_per_vid 100 \\\n",
        "    --nms_tiou_thresh 0.4\n",
        "\n",
        "\n",
        "[{'start': 0.0, 'end': 1.1, 'sentence': 'A man is seen walking down a street with a car and walking away'}, {'start': 0.1, 'end': 8.8, 'sentence': 'A man is seen walking down a street with a car and walking away'}, {'start': 38.0, 'end': 40.0, 'sentence': 'A man is driving a car in a car'}, {'start': 0.3, 'end': 0.7, 'sentence': 'A man is seen walking down a street with a car and walking away'}, {'start': 0.3, 'end': 2.1, 'sentence': 'A man is seen walking down a street with a car and walking away'}, {'start': 1.0, 'end': 1.6, 'sentence': 'A man is seen walking down a street with a car and walking away'}, {'start': 39.6, 'end': 40.7, 'sentence': 'A man is driving a car in a car'}, {'start': 35.6, 'end': 37.3, 'sentence': 'A car drives down a street'}, {'start': 21.1, 'end': 37.4, 'sentence': 'A man is driving a car in a street'}, {'start': 6.5, 'end': 32.0, 'sentence': 'A man is driving a car down a street'}, {'start': 32.7, 'end': 40.8, 'sentence': 'A car drives down a street'}, {'start': 36.6, 'end': 38.2, 'sentence': 'A car drives down a street'}, {'start': 40.5, 'end': 42.7, 'sentence': 'A man is driving a car in a car'}]\n"
      ],
      "execution_count": 13,
      "outputs": [
        {
          "output_type": "stream",
          "text": [
            "Contructing caption_iterator for \"train\" phase\n",
            "tcmalloc: large alloc 2635227136 bytes == 0x55f027328000 @  0x7fc9f038fb6b 0x7fc9f03af379 0x7fc9b04d06d5 0x7fc9b04d269a 0x7fc9b39c9163 0x7fc9b3b7ee78 0x7fc9b39c99f3 0x7fc9b39cfe09 0x7fc9b3d228c3 0x7fc9e15de8a4 0x55efe726bab4 0x55efe726bbd1 0x55efe72d257b 0x55efe7217389 0x55efe726b2b7 0x55efe72ceb84 0x55efe7217389 0x55efe72186ef 0x55efe7237a73 0x55efe7229fde 0x55efe72cf54d 0x55efe721766a 0x55efe72186ef 0x55efe7237a73 0x55efe727f1ba 0x55efe727fd17 0x55efe7229fde 0x55efe7327297 0x55efe7229fde 0x55efe72cf54d 0x55efe7217389\n",
            "100% 2196016/2196017 [03:14<00:00, 11319.00it/s]\n",
            "Using vanilla Generator\n",
            "initialization: xavier\n",
            "Glove emb of the same size as d_model_caps\n",
            "Pretrained caption path: \n",
            " /content/gdrive/MyDrive/models/best_cap_model.pt\n",
            "[{'start': 0.0, 'end': 1.1, 'sentence': 'A man is seen walking down a street with a car and walking away'}, {'start': 0.1, 'end': 8.8, 'sentence': 'A man is seen walking down a street with a car and walking away'}, {'start': 38.0, 'end': 40.0, 'sentence': 'A man is driving a car in a car'}, {'start': 0.3, 'end': 0.7, 'sentence': 'A man is seen walking down a street with a car and walking away'}, {'start': 0.3, 'end': 2.1, 'sentence': 'A man is seen walking down a street with a car and walking away'}, {'start': 1.0, 'end': 1.6, 'sentence': 'A man is seen walking down a street with a car and walking away'}, {'start': 39.6, 'end': 40.7, 'sentence': 'A man is driving a car in a car'}, {'start': 35.6, 'end': 37.3, 'sentence': 'A car drives down a street'}, {'start': 21.1, 'end': 37.4, 'sentence': 'A man is driving a car in a street'}, {'start': 6.5, 'end': 32.0, 'sentence': 'A man is driving a car down a street'}, {'start': 32.7, 'end': 40.8, 'sentence': 'A car drives down a street'}, {'start': 36.6, 'end': 38.2, 'sentence': 'A car drives down a street'}, {'start': 40.5, 'end': 42.7, 'sentence': 'A man is driving a car in a car'}]\n"
          ],
          "name": "stdout"
        },
        {
          "output_type": "execute_result",
          "data": {
            "text/plain": [
              ""
            ]
          },
          "metadata": {
            "tags": []
          },
          "execution_count": 13
        }
      ]
    }
  ]
}