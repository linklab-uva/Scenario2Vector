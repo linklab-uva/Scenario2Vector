{
 "cells": [
  {
   "cell_type": "markdown",
   "metadata": {
    "id": "ZGCMpqBB6hW_"
   },
   "source": [
    "Code to extract C3D Features from the videos in the BDDX Dataset\n",
    "\n",
    "This code is based on the C3D Implementation found at https://github.com/karolzak/conv3d-video-action-recognition"
   ]
  },
  {
   "cell_type": "markdown",
   "metadata": {
    "id": "D4s8vHYg6hXM"
   },
   "source": [
    "# C3D Model"
   ]
  },
  {
   "cell_type": "code",
   "execution_count": null,
   "metadata": {
    "colab": {
     "base_uri": "https://localhost:8080/"
    },
    "id": "L9bzX-tHHQFj",
    "outputId": "0f600e66-1e9b-43c2-d575-8d1c9437bf13"
   },
   "outputs": [
    {
     "name": "stdout",
     "output_type": "stream",
     "text": [
      "Cloning into 'conv3d-video-action-recognition'...\n",
      "remote: Enumerating objects: 125, done.\u001b[K\n",
      "remote: Counting objects: 100% (125/125), done.\u001b[K\n",
      "remote: Compressing objects: 100% (78/78), done.\u001b[K\n",
      "remote: Total 125 (delta 62), reused 99 (delta 40), pack-reused 0\u001b[K\n",
      "Receiving objects: 100% (125/125), 1.83 MiB | 29.32 MiB/s, done.\n",
      "Resolving deltas: 100% (62/62), done.\n"
     ]
    }
   ],
   "source": [
    "!git clone https://github.com/karolzak/conv3d-video-action-recognition.git\n",
    "!git clone https://github.com/andreamad8/Universal-Transformer-Pytorch.git"
   ]
  },
  {
   "cell_type": "code",
   "execution_count": null,
   "metadata": {
    "colab": {
     "base_uri": "https://localhost:8080/"
    },
    "id": "Kd0cXe1CHVmI",
    "outputId": "3fdcc3cb-ad01-4634-cf86-97f058725b73"
   },
   "outputs": [
    {
     "name": "stdout",
     "output_type": "stream",
     "text": [
      "Collecting pipe\n",
      "  Downloading https://files.pythonhosted.org/packages/50/aa/2c7d8e1131d709d009deb9919c29ee8b1e1b2997034cbd4a440fddbf1d3e/pipe-1.6.0-py2.py3-none-any.whl\n",
      "Installing collected packages: pipe\n",
      "Successfully installed pipe-1.6.0\n",
      "Collecting mPyPl\n",
      "  Downloading https://files.pythonhosted.org/packages/a5/e0/4338997e7523bb31d664127d912c849f8781e8d5f6e7a5db9aaa38ef98cb/mPyPl-0.0.3.8-py3-none-any.whl\n",
      "Requirement already satisfied: matplotlib in /usr/local/lib/python3.6/dist-packages (from mPyPl) (3.2.2)\n",
      "Requirement already satisfied: pipe>=1.5.0 in /usr/local/lib/python3.6/dist-packages (from mPyPl) (1.6.0)\n",
      "Requirement already satisfied: keras in /usr/local/lib/python3.6/dist-packages (from mPyPl) (2.4.3)\n",
      "Requirement already satisfied: numpy>=1.11 in /usr/local/lib/python3.6/dist-packages (from mPyPl) (1.19.5)\n",
      "Requirement already satisfied: opencv-python in /usr/local/lib/python3.6/dist-packages (from mPyPl) (4.1.2.30)\n",
      "Requirement already satisfied: cycler>=0.10 in /usr/local/lib/python3.6/dist-packages (from matplotlib->mPyPl) (0.10.0)\n",
      "Requirement already satisfied: kiwisolver>=1.0.1 in /usr/local/lib/python3.6/dist-packages (from matplotlib->mPyPl) (1.3.1)\n",
      "Requirement already satisfied: pyparsing!=2.0.4,!=2.1.2,!=2.1.6,>=2.0.1 in /usr/local/lib/python3.6/dist-packages (from matplotlib->mPyPl) (2.4.7)\n",
      "Requirement already satisfied: python-dateutil>=2.1 in /usr/local/lib/python3.6/dist-packages (from matplotlib->mPyPl) (2.8.1)\n",
      "Requirement already satisfied: pyyaml in /usr/local/lib/python3.6/dist-packages (from keras->mPyPl) (3.13)\n",
      "Requirement already satisfied: scipy>=0.14 in /usr/local/lib/python3.6/dist-packages (from keras->mPyPl) (1.4.1)\n",
      "Requirement already satisfied: h5py in /usr/local/lib/python3.6/dist-packages (from keras->mPyPl) (2.10.0)\n",
      "Requirement already satisfied: six in /usr/local/lib/python3.6/dist-packages (from cycler>=0.10->matplotlib->mPyPl) (1.15.0)\n",
      "Installing collected packages: mPyPl\n",
      "Successfully installed mPyPl-0.0.3.8\n"
     ]
    }
   ],
   "source": [
    "!pip install pipe\n",
    "!pip install mPyPl"
   ]
  },
  {
   "cell_type": "code",
   "execution_count": null,
   "metadata": {
    "id": "vpo1aap56hXX"
   },
   "outputs": [],
   "source": [
    "c3d_dir = \"conv3d-video-action-recognition\""
   ]
  },
  {
   "cell_type": "code",
   "execution_count": null,
   "metadata": {
    "colab": {
     "base_uri": "https://localhost:8080/"
    },
    "id": "uFzWJDKO6hXZ",
    "outputId": "477d5f88-c32a-46ca-f82a-65ce942566d0"
   },
   "outputs": [
    {
     "name": "stdout",
     "output_type": "stream",
     "text": [
      "Imageio: 'ffmpeg-linux64-v3.3.1' was not found on your computer; downloading it now.\n",
      "Try 1. Download from https://github.com/imageio/imageio-binaries/raw/master/ffmpeg/ffmpeg-linux64-v3.3.1 (43.8 MB)\n",
      "Downloading: 8192/45929032 bytes (0.0%)\b\b\b\b\b\b\b\b\b\b\b\b\b\b\b\b\b\b\b\b\b\b\b\b\b\b3588096/45929032 bytes (7.8%)\b\b\b\b\b\b\b\b\b\b\b\b\b\b\b\b\b\b\b\b\b\b\b\b\b\b\b\b\b7536640/45929032 bytes (16.4%)\b\b\b\b\b\b\b\b\b\b\b\b\b\b\b\b\b\b\b\b\b\b\b\b\b\b\b\b\b\b11788288/45929032 bytes (25.7%)\b\b\b\b\b\b\b\b\b\b\b\b\b\b\b\b\b\b\b\b\b\b\b\b\b\b\b\b\b\b\b15892480/45929032 bytes (34.6%)\b\b\b\b\b\b\b\b\b\b\b\b\b\b\b\b\b\b\b\b\b\b\b\b\b\b\b\b\b\b\b19865600/45929032 bytes (43.3%)\b\b\b\b\b\b\b\b\b\b\b\b\b\b\b\b\b\b\b\b\b\b\b\b\b\b\b\b\b\b\b23863296/45929032 bytes (52.0%)\b\b\b\b\b\b\b\b\b\b\b\b\b\b\b\b\b\b\b\b\b\b\b\b\b\b\b\b\b\b\b27746304/45929032 bytes (60.4%)\b\b\b\b\b\b\b\b\b\b\b\b\b\b\b\b\b\b\b\b\b\b\b\b\b\b\b\b\b\b\b31686656/45929032 bytes (69.0%)\b\b\b\b\b\b\b\b\b\b\b\b\b\b\b\b\b\b\b\b\b\b\b\b\b\b\b\b\b\b\b35446784/45929032 bytes (77.2%)\b\b\b\b\b\b\b\b\b\b\b\b\b\b\b\b\b\b\b\b\b\b\b\b\b\b\b\b\b\b\b39477248/45929032 bytes (86.0%)\b\b\b\b\b\b\b\b\b\b\b\b\b\b\b\b\b\b\b\b\b\b\b\b\b\b\b\b\b\b\b43491328/45929032 bytes (94.7%)\b\b\b\b\b\b\b\b\b\b\b\b\b\b\b\b\b\b\b\b\b\b\b\b\b\b\b\b\b\b\b45929032/45929032 bytes (100.0%)\n",
      "  Done\n",
      "File saved as /root/.imageio/ffmpeg/ffmpeg-linux64-v3.3.1.\n"
     ]
    }
   ],
   "source": [
    "%run {c3d_dir}/python/data_prep.py\n",
    "%run {c3d_dir}/python/mpypl_pipe_func.py\n",
    "%run {c3d_dir}/python/mpypl_pipes.py"
   ]
  },
  {
   "cell_type": "code",
   "execution_count": null,
   "metadata": {
    "colab": {
     "base_uri": "https://localhost:8080/",
     "height": 494
    },
    "id": "0EA_b3ls6hXZ",
    "outputId": "685bae1a-28a7-43a4-f3eb-c0d51ba942ca"
   },
   "outputs": [
    {
     "name": "stdout",
     "output_type": "stream",
     "text": [
      "Loading Model Weights from conv3d-video-action-recognition/models/weights_C3D_sports1M_tf.h5\n"
     ]
    },
    {
     "ename": "OSError",
     "evalue": "ignored",
     "output_type": "error",
     "traceback": [
      "\u001b[0;31m---------------------------------------------------------------------------\u001b[0m",
      "\u001b[0;31mOSError\u001b[0m                                   Traceback (most recent call last)",
      "\u001b[0;32m<ipython-input-5-4c916d9ced1f>\u001b[0m in \u001b[0;36m<module>\u001b[0;34m()\u001b[0m\n\u001b[1;32m      2\u001b[0m \u001b[0mget_ipython\u001b[0m\u001b[0;34m(\u001b[0m\u001b[0;34m)\u001b[0m\u001b[0;34m.\u001b[0m\u001b[0mmagic\u001b[0m\u001b[0;34m(\u001b[0m\u001b[0;34m'run {c3d_dir}/python/c3dmodel.py'\u001b[0m\u001b[0;34m)\u001b[0m\u001b[0;34m\u001b[0m\u001b[0;34m\u001b[0m\u001b[0m\n\u001b[1;32m      3\u001b[0m \u001b[0;34m\u001b[0m\u001b[0m\n\u001b[0;32m----> 4\u001b[0;31m \u001b[0mMODEL\u001b[0m \u001b[0;34m=\u001b[0m \u001b[0mget_video_descriptor\u001b[0m\u001b[0;34m(\u001b[0m\u001b[0mweights_path\u001b[0m\u001b[0;34m=\u001b[0m\u001b[0;34m'%s/models/weights_C3D_sports1M_tf.h5'\u001b[0m\u001b[0;34m%\u001b[0m\u001b[0;34m(\u001b[0m\u001b[0mc3d_dir\u001b[0m\u001b[0;34m)\u001b[0m\u001b[0;34m)\u001b[0m\u001b[0;34m\u001b[0m\u001b[0;34m\u001b[0m\u001b[0m\n\u001b[0m",
      "\u001b[0;32m/content/conv3d-video-action-recognition/python/c3dmodel.py\u001b[0m in \u001b[0;36mget_video_descriptor\u001b[0;34m(weights_path)\u001b[0m\n\u001b[1;32m    106\u001b[0m         \u001b[0mKeras\u001b[0m \u001b[0mmodel\u001b[0m \u001b[0mthat\u001b[0m \u001b[0mcan\u001b[0m \u001b[0mbe\u001b[0m \u001b[0mused\u001b[0m \u001b[0;32mas\u001b[0m \u001b[0mvideo\u001b[0m \u001b[0mdescriptor\u001b[0m \u001b[0mto\u001b[0m \u001b[0mgenerate\u001b[0m \u001b[0mfeatures\u001b[0m\u001b[0;34m\u001b[0m\u001b[0;34m\u001b[0m\u001b[0m\n\u001b[1;32m    107\u001b[0m     \"\"\"\n\u001b[0;32m--> 108\u001b[0;31m     \u001b[0mmodel\u001b[0m \u001b[0;34m=\u001b[0m \u001b[0mC3D_model\u001b[0m\u001b[0;34m(\u001b[0m\u001b[0mweights_path\u001b[0m\u001b[0;34m=\u001b[0m\u001b[0mweights_path\u001b[0m\u001b[0;34m,\u001b[0m \u001b[0mnum_layers_remove\u001b[0m\u001b[0;34m=\u001b[0m\u001b[0;36m3\u001b[0m\u001b[0;34m)\u001b[0m\u001b[0;34m\u001b[0m\u001b[0;34m\u001b[0m\u001b[0m\n\u001b[0m\u001b[1;32m    109\u001b[0m     \u001b[0mmodel\u001b[0m\u001b[0;34m.\u001b[0m\u001b[0madd\u001b[0m\u001b[0;34m(\u001b[0m\u001b[0mLambda\u001b[0m\u001b[0;34m(\u001b[0m\u001b[0;32mlambda\u001b[0m  \u001b[0mx\u001b[0m\u001b[0;34m:\u001b[0m \u001b[0mK\u001b[0m\u001b[0;34m.\u001b[0m\u001b[0ml2_normalize\u001b[0m\u001b[0;34m(\u001b[0m\u001b[0mx\u001b[0m\u001b[0;34m,\u001b[0m \u001b[0maxis\u001b[0m\u001b[0;34m=\u001b[0m\u001b[0;36m1\u001b[0m\u001b[0;34m)\u001b[0m\u001b[0;34m)\u001b[0m\u001b[0;34m)\u001b[0m\u001b[0;34m\u001b[0m\u001b[0;34m\u001b[0m\u001b[0m\n\u001b[1;32m    110\u001b[0m     \u001b[0;32mreturn\u001b[0m \u001b[0mmodel\u001b[0m\u001b[0;34m\u001b[0m\u001b[0;34m\u001b[0m\u001b[0m\n",
      "\u001b[0;32m/content/conv3d-video-action-recognition/python/c3dmodel.py\u001b[0m in \u001b[0;36mC3D_model\u001b[0;34m(weights_path, summary, trainable, num_layers_remove)\u001b[0m\n\u001b[1;32m     75\u001b[0m     \u001b[0;32mif\u001b[0m \u001b[0mweights_path\u001b[0m\u001b[0;34m:\u001b[0m\u001b[0;34m\u001b[0m\u001b[0;34m\u001b[0m\u001b[0m\n\u001b[1;32m     76\u001b[0m         \u001b[0mprint\u001b[0m\u001b[0;34m(\u001b[0m\u001b[0;34m'Loading Model Weights from %s'\u001b[0m \u001b[0;34m%\u001b[0m \u001b[0mweights_path\u001b[0m\u001b[0;34m)\u001b[0m\u001b[0;34m\u001b[0m\u001b[0;34m\u001b[0m\u001b[0m\n\u001b[0;32m---> 77\u001b[0;31m         \u001b[0mmodel\u001b[0m\u001b[0;34m.\u001b[0m\u001b[0mload_weights\u001b[0m\u001b[0;34m(\u001b[0m\u001b[0mweights_path\u001b[0m\u001b[0;34m)\u001b[0m\u001b[0;34m\u001b[0m\u001b[0;34m\u001b[0m\u001b[0m\n\u001b[0m\u001b[1;32m     78\u001b[0m \u001b[0;34m\u001b[0m\u001b[0m\n\u001b[1;32m     79\u001b[0m     \u001b[0;32mif\u001b[0m \u001b[0mnum_layers_remove\u001b[0m \u001b[0;34m>\u001b[0m \u001b[0;36m0\u001b[0m\u001b[0;34m:\u001b[0m\u001b[0;34m\u001b[0m\u001b[0;34m\u001b[0m\u001b[0m\n",
      "\u001b[0;32m/usr/local/lib/python3.6/dist-packages/tensorflow/python/keras/engine/training.py\u001b[0m in \u001b[0;36mload_weights\u001b[0;34m(self, filepath, by_name, skip_mismatch, options)\u001b[0m\n\u001b[1;32m   2225\u001b[0m           'first, then load the weights.')\n\u001b[1;32m   2226\u001b[0m     \u001b[0mself\u001b[0m\u001b[0;34m.\u001b[0m\u001b[0m_assert_weights_created\u001b[0m\u001b[0;34m(\u001b[0m\u001b[0;34m)\u001b[0m\u001b[0;34m\u001b[0m\u001b[0;34m\u001b[0m\u001b[0m\n\u001b[0;32m-> 2227\u001b[0;31m     \u001b[0;32mwith\u001b[0m \u001b[0mh5py\u001b[0m\u001b[0;34m.\u001b[0m\u001b[0mFile\u001b[0m\u001b[0;34m(\u001b[0m\u001b[0mfilepath\u001b[0m\u001b[0;34m,\u001b[0m \u001b[0;34m'r'\u001b[0m\u001b[0;34m)\u001b[0m \u001b[0;32mas\u001b[0m \u001b[0mf\u001b[0m\u001b[0;34m:\u001b[0m\u001b[0;34m\u001b[0m\u001b[0;34m\u001b[0m\u001b[0m\n\u001b[0m\u001b[1;32m   2228\u001b[0m       \u001b[0;32mif\u001b[0m \u001b[0;34m'layer_names'\u001b[0m \u001b[0;32mnot\u001b[0m \u001b[0;32min\u001b[0m \u001b[0mf\u001b[0m\u001b[0;34m.\u001b[0m\u001b[0mattrs\u001b[0m \u001b[0;32mand\u001b[0m \u001b[0;34m'model_weights'\u001b[0m \u001b[0;32min\u001b[0m \u001b[0mf\u001b[0m\u001b[0;34m:\u001b[0m\u001b[0;34m\u001b[0m\u001b[0;34m\u001b[0m\u001b[0m\n\u001b[1;32m   2229\u001b[0m         \u001b[0mf\u001b[0m \u001b[0;34m=\u001b[0m \u001b[0mf\u001b[0m\u001b[0;34m[\u001b[0m\u001b[0;34m'model_weights'\u001b[0m\u001b[0;34m]\u001b[0m\u001b[0;34m\u001b[0m\u001b[0;34m\u001b[0m\u001b[0m\n",
      "\u001b[0;32m/usr/local/lib/python3.6/dist-packages/h5py/_hl/files.py\u001b[0m in \u001b[0;36m__init__\u001b[0;34m(self, name, mode, driver, libver, userblock_size, swmr, rdcc_nslots, rdcc_nbytes, rdcc_w0, track_order, **kwds)\u001b[0m\n\u001b[1;32m    406\u001b[0m                 fid = make_fid(name, mode, userblock_size,\n\u001b[1;32m    407\u001b[0m                                \u001b[0mfapl\u001b[0m\u001b[0;34m,\u001b[0m \u001b[0mfcpl\u001b[0m\u001b[0;34m=\u001b[0m\u001b[0mmake_fcpl\u001b[0m\u001b[0;34m(\u001b[0m\u001b[0mtrack_order\u001b[0m\u001b[0;34m=\u001b[0m\u001b[0mtrack_order\u001b[0m\u001b[0;34m)\u001b[0m\u001b[0;34m,\u001b[0m\u001b[0;34m\u001b[0m\u001b[0;34m\u001b[0m\u001b[0m\n\u001b[0;32m--> 408\u001b[0;31m                                swmr=swmr)\n\u001b[0m\u001b[1;32m    409\u001b[0m \u001b[0;34m\u001b[0m\u001b[0m\n\u001b[1;32m    410\u001b[0m             \u001b[0;32mif\u001b[0m \u001b[0misinstance\u001b[0m\u001b[0;34m(\u001b[0m\u001b[0mlibver\u001b[0m\u001b[0;34m,\u001b[0m \u001b[0mtuple\u001b[0m\u001b[0;34m)\u001b[0m\u001b[0;34m:\u001b[0m\u001b[0;34m\u001b[0m\u001b[0;34m\u001b[0m\u001b[0m\n",
      "\u001b[0;32m/usr/local/lib/python3.6/dist-packages/h5py/_hl/files.py\u001b[0m in \u001b[0;36mmake_fid\u001b[0;34m(name, mode, userblock_size, fapl, fcpl, swmr)\u001b[0m\n\u001b[1;32m    171\u001b[0m         \u001b[0;32mif\u001b[0m \u001b[0mswmr\u001b[0m \u001b[0;32mand\u001b[0m \u001b[0mswmr_support\u001b[0m\u001b[0;34m:\u001b[0m\u001b[0;34m\u001b[0m\u001b[0;34m\u001b[0m\u001b[0m\n\u001b[1;32m    172\u001b[0m             \u001b[0mflags\u001b[0m \u001b[0;34m|=\u001b[0m \u001b[0mh5f\u001b[0m\u001b[0;34m.\u001b[0m\u001b[0mACC_SWMR_READ\u001b[0m\u001b[0;34m\u001b[0m\u001b[0;34m\u001b[0m\u001b[0m\n\u001b[0;32m--> 173\u001b[0;31m         \u001b[0mfid\u001b[0m \u001b[0;34m=\u001b[0m \u001b[0mh5f\u001b[0m\u001b[0;34m.\u001b[0m\u001b[0mopen\u001b[0m\u001b[0;34m(\u001b[0m\u001b[0mname\u001b[0m\u001b[0;34m,\u001b[0m \u001b[0mflags\u001b[0m\u001b[0;34m,\u001b[0m \u001b[0mfapl\u001b[0m\u001b[0;34m=\u001b[0m\u001b[0mfapl\u001b[0m\u001b[0;34m)\u001b[0m\u001b[0;34m\u001b[0m\u001b[0;34m\u001b[0m\u001b[0m\n\u001b[0m\u001b[1;32m    174\u001b[0m     \u001b[0;32melif\u001b[0m \u001b[0mmode\u001b[0m \u001b[0;34m==\u001b[0m \u001b[0;34m'r+'\u001b[0m\u001b[0;34m:\u001b[0m\u001b[0;34m\u001b[0m\u001b[0;34m\u001b[0m\u001b[0m\n\u001b[1;32m    175\u001b[0m         \u001b[0mfid\u001b[0m \u001b[0;34m=\u001b[0m \u001b[0mh5f\u001b[0m\u001b[0;34m.\u001b[0m\u001b[0mopen\u001b[0m\u001b[0;34m(\u001b[0m\u001b[0mname\u001b[0m\u001b[0;34m,\u001b[0m \u001b[0mh5f\u001b[0m\u001b[0;34m.\u001b[0m\u001b[0mACC_RDWR\u001b[0m\u001b[0;34m,\u001b[0m \u001b[0mfapl\u001b[0m\u001b[0;34m=\u001b[0m\u001b[0mfapl\u001b[0m\u001b[0;34m)\u001b[0m\u001b[0;34m\u001b[0m\u001b[0;34m\u001b[0m\u001b[0m\n",
      "\u001b[0;32mh5py/_objects.pyx\u001b[0m in \u001b[0;36mh5py._objects.with_phil.wrapper\u001b[0;34m()\u001b[0m\n",
      "\u001b[0;32mh5py/_objects.pyx\u001b[0m in \u001b[0;36mh5py._objects.with_phil.wrapper\u001b[0;34m()\u001b[0m\n",
      "\u001b[0;32mh5py/h5f.pyx\u001b[0m in \u001b[0;36mh5py.h5f.open\u001b[0;34m()\u001b[0m\n",
      "\u001b[0;31mOSError\u001b[0m: Unable to open file (unable to open file: name = 'conv3d-video-action-recognition/models/weights_C3D_sports1M_tf.h5', errno = 2, error message = 'No such file or directory', flags = 0, o_flags = 0)"
     ]
    }
   ],
   "source": [
    "# C3D_model function\n",
    "%run {c3d_dir}/python/c3dmodel.py\n",
    "\n",
    "MODEL = get_video_descriptor(weights_path='%s/models/weights_C3D_sports1M_tf.h5'%(c3d_dir))"
   ]
  },
  {
   "cell_type": "code",
   "execution_count": null,
   "metadata": {
    "id": "5tE9T4T96hXa",
    "outputId": "65c422c6-bc6a-4a7c-80c2-f4e664a95304"
   },
   "outputs": [
    {
     "name": "stdout",
     "output_type": "stream",
     "text": [
      "_________________________________________________________________\n",
      "Layer (type)                 Output Shape              Param #   \n",
      "=================================================================\n",
      "conv1 (Conv3D)               (None, 16, 112, 112, 64)  5248      \n",
      "_________________________________________________________________\n",
      "pool1 (MaxPooling3D)         (None, 16, 56, 56, 64)    0         \n",
      "_________________________________________________________________\n",
      "conv2 (Conv3D)               (None, 16, 56, 56, 128)   221312    \n",
      "_________________________________________________________________\n",
      "pool2 (MaxPooling3D)         (None, 8, 28, 28, 128)    0         \n",
      "_________________________________________________________________\n",
      "conv3a (Conv3D)              (None, 8, 28, 28, 256)    884992    \n",
      "_________________________________________________________________\n",
      "conv3b (Conv3D)              (None, 8, 28, 28, 256)    1769728   \n",
      "_________________________________________________________________\n",
      "pool3 (MaxPooling3D)         (None, 4, 14, 14, 256)    0         \n",
      "_________________________________________________________________\n",
      "conv4a (Conv3D)              (None, 4, 14, 14, 512)    3539456   \n",
      "_________________________________________________________________\n",
      "conv4b (Conv3D)              (None, 4, 14, 14, 512)    7078400   \n",
      "_________________________________________________________________\n",
      "pool4 (MaxPooling3D)         (None, 2, 7, 7, 512)      0         \n",
      "_________________________________________________________________\n",
      "conv5a (Conv3D)              (None, 2, 7, 7, 512)      7078400   \n",
      "_________________________________________________________________\n",
      "conv5b (Conv3D)              (None, 2, 7, 7, 512)      7078400   \n",
      "_________________________________________________________________\n",
      "zero_padding3d_1 (ZeroPaddin (None, 2, 9, 9, 512)      0         \n",
      "_________________________________________________________________\n",
      "pool5 (MaxPooling3D)         (None, 1, 4, 4, 512)      0         \n",
      "_________________________________________________________________\n",
      "flatten_1 (Flatten)          (None, 8192)              0         \n",
      "_________________________________________________________________\n",
      "fc6 (Dense)                  (None, 4096)              33558528  \n",
      "_________________________________________________________________\n",
      "dropout_1 (Dropout)          (None, 4096)              0         \n",
      "_________________________________________________________________\n",
      "lambda_1 (Lambda)            (None, 4096)              0         \n",
      "=================================================================\n",
      "Total params: 61,214,464\n",
      "Trainable params: 61,214,464\n",
      "Non-trainable params: 0\n",
      "_________________________________________________________________\n"
     ]
    }
   ],
   "source": [
    "\"\"\"\n",
    "The input to this model is 16 frames, in the shape of (batch,16,112,112,3)\n",
    "\"\"\"\n",
    "\n",
    "MODEL.summary()"
   ]
  },
  {
   "cell_type": "markdown",
   "metadata": {
    "id": "yyDNnWEF6hXb"
   },
   "source": [
    "# Get video frames"
   ]
  },
  {
   "cell_type": "code",
   "execution_count": null,
   "metadata": {
    "id": "jXpbL3WT6hXc",
    "outputId": "8ba35601-a1c9-4cef-8659-f365ad10709c"
   },
   "outputs": [
    {
     "name": "stdout",
     "output_type": "stream",
     "text": [
      "11\n",
      "torch.Size([1, 16, 112, 112, 3])\n"
     ]
    }
   ],
   "source": [
    "import moviepy.editor as mp\n",
    "import torch\n",
    "\n",
    "# t is the time of the first frame\n",
    "# count is the number of frames\n",
    "# clip_len is the number of seconds of the subclip\n",
    "def sample_frames(clip,t=0,count=16,clip_len=1):\n",
    "    output = []\n",
    "    for i in range(count):\n",
    "        time = t+clip_len*(i/count) # Sample at equal intervals across the subclip\n",
    "        frame = clip.get_frame(time) # Grab the frame at the specified time\n",
    "        output.append(frame)\n",
    "    return torch.Tensor(output)\n",
    "\n",
    "# clip_start and clip_end are the times of the BDD-X Sample\n",
    "#   e.g., the first sample for video [0] has clip_start=0, clip_end=11\n",
    "def get_frames(clip,clip_start,clip_end,frame_count=16,clip_len=1):\n",
    "    output = []\n",
    "    for i in range(clip_start,clip_end,clip_len):\n",
    "        output.append( sample_frames(clip,t=i,count=frame_count,clip_len=clip_len).unsqueeze(0) )\n",
    "    return output\n"
   ]
  },
  {
   "cell_type": "code",
   "execution_count": null,
   "metadata": {},
   "outputs": [],
   "source": [
    "url = \"https://s3-us-west-2.amazonaws.com/sq8geewpqu/samples-1k/06d501fd-a9ffc960.mov\"\n",
    "clip = mp.VideoFileClip(url,target_resolution=[112,112])\n",
    "# get_frames(.) returns a list, where each element is 16 frames chosen uniformly across a 1-second subclip\n",
    "#   Each element of nn_inputs should be put through the network and then fed into the Transformer to find an\n",
    "#   overall representation of the clip\n",
    "nn_inputs = get_frames(clip,0,11)\n",
    "print(len(nn_inputs))\n",
    "print(nn_inputs[-1].shape)\n",
    "clip.close()\n"
   ]
  },
  {
   "cell_type": "markdown",
   "metadata": {
    "id": "yDynlK9W6hXc"
   },
   "source": [
    "# Run video through the model"
   ]
  },
  {
   "cell_type": "code",
   "execution_count": null,
   "metadata": {
    "id": "ckHCOy386hXc"
   },
   "outputs": [],
   "source": [
    "output = MODEL.predict(nn_inputs[0])"
   ]
  },
  {
   "cell_type": "code",
   "execution_count": null,
   "metadata": {
    "id": "GCcvxY_-6hXd",
    "outputId": "9c136111-da37-42dd-d6e4-28af489fe945"
   },
   "outputs": [
    {
     "name": "stdout",
     "output_type": "stream",
     "text": [
      "[[0.01433312 0.         0.         ... 0.         0.         0.07065101]]\n",
      "(1, 4096)\n"
     ]
    }
   ],
   "source": [
    "print(output)\n",
    "print(output.shape)"
   ]
  },
  {
   "cell_type": "markdown",
   "metadata": {
    "id": "EAIk7mZE_MNi"
   },
   "source": [
    "# Text Features "
   ]
  },
  {
   "cell_type": "code",
   "execution_count": 1,
   "metadata": {
    "id": "_A5CQica-1c6"
   },
   "outputs": [],
   "source": [
    "import pandas as pd # Pandas library enables data manipulation\n",
    "data_url = \"https://raw.githubusercontent.com/linklab-uva/Scenario2Vector/master/BDDX.csv?token=AH3QIX4XTFNXLYCT2FEQHILAEBCMS\"\n",
    "def load_bddx_data(csv_name):\n",
    "    column_names = ['Index', 'InputVideo', '1S', '1E', '1A', '1J', '2S', '2E', '2A', '2J', '3S', '3E', '3A', '3J',\n",
    "                    '4S', '4E', '4A', '4J','5S', '5E', '5A', '5J','6S', '6E', '6A', '6J','7S', '7E', '7A', '7J',\n",
    "                    '8S', '8E', '8A', '8J','9S', '9E', '9A', '9J','10S', '10E', '10A', '10J','11S', '11E', '11A', '11J',\n",
    "                    '12S', '12E', '12A', '12J','13S', '13E', '13A', '13J','14S', '14E', '14A', '14J','15S', '15E', '15A', '15J']\n",
    "    \n",
    "    return pd.read_csv(csv_name, names=column_names)\n",
    "bddx = load_bddx_data(data_url)\n",
    "bddx = bddx.drop(['1S', '1E','2S', '2E','3S', '3E','4S', '4E','5S', '5E','6S', '6E','7S', '7E','8S', '8E','9S', '9E','10S', '10E','11S', '11E','12S', '12E','13S', '13E','14S', '14E','15S', '15E', ], axis=1)\n",
    "bddx = bddx.fillna(\"\")\n",
    "\n",
    "bddx['1AJ'] = bddx[['1A', '1J']].agg(' '.join, axis=1)\n",
    "bddx['2AJ'] = bddx[['2A', '2J']].agg(' '.join, axis=1)\n",
    "bddx['3AJ'] = bddx[['3A', '3J']].agg(' '.join, axis=1)\n",
    "bddx['4AJ'] = bddx[['4A', '4J']].agg(' '.join, axis=1)\n",
    "bddx['5AJ'] = bddx[['5A', '5J']].agg(' '.join, axis=1)\n",
    "bddx['6AJ'] = bddx[['6A', '6J']].agg(' '.join, axis=1)\n",
    "bddx['7AJ'] = bddx[['7A', '7J']].agg(' '.join, axis=1)\n",
    "bddx['8AJ'] = bddx[['8A', '8J']].agg(' '.join, axis=1)\n",
    "bddx['9AJ'] = bddx[['9A', '9J']].agg(' '.join, axis=1)\n",
    "bddx['10AJ'] = bddx[['10A', '10J']].agg(' '.join, axis=1)\n",
    "bddx['11AJ'] = bddx[['11A', '11J']].agg(' '.join, axis=1)\n",
    "bddx['12AJ'] = bddx[['12A', '12J']].agg(' '.join, axis=1)\n",
    "bddx['13AJ'] = bddx[['13A', '13J']].agg(' '.join, axis=1)\n",
    "bddx['14AJ'] = bddx[['14A', '14J']].agg(' '.join, axis=1)\n",
    "bddx['15AJ'] = bddx[['15A', '15J']].agg(' '.join, axis=1)\n",
    "\n",
    "bddx = bddx.drop(['Index', '1A', '1J', '2A', '2J', '3A', '3J', '4A', '4J', '5A', '5J', '6A', '6J', '7A', '7J', '8A', '8J', '9A', '9J', '10A', '10J', '11A', '11J', '12A', '12J', '13A', '13J', '14A', '14J', '15A', '15J', ], axis=1)\n",
    "bddx = bddx.drop(bddx.index[0])"
   ]
  },
  {
   "cell_type": "code",
   "execution_count": 2,
   "metadata": {
    "colab": {
     "base_uri": "https://localhost:8080/"
    },
    "id": "uOORy2hkB4AZ",
    "outputId": "478dcd3b-4f57-4196-868a-26dd5771d45d"
   },
   "outputs": [
    {
     "name": "stdout",
     "output_type": "stream",
     "text": [
      "True\n"
     ]
    }
   ],
   "source": [
    "x = bddx.iloc[0]['6AJ']\n",
    "print(x==' ')"
   ]
  },
  {
   "cell_type": "code",
   "execution_count": 3,
   "metadata": {
    "id": "GSnzb73vAZZZ"
   },
   "outputs": [],
   "source": [
    "urls_captions = {}\n",
    "\n",
    "for index, col in bddx.iterrows():\n",
    "    urls_captions[col['InputVideo']] = []\n",
    "    for i in range(1,16):\n",
    "        col_name = str(i)+'AJ'\n",
    "        if col[col_name] != ' ':\n",
    "            urls_captions[col['InputVideo']].append(col[col_name])\n",
    "            \n"
   ]
  },
  {
   "cell_type": "code",
   "execution_count": 4,
   "metadata": {
    "id": "fKVBoNTADihC"
   },
   "outputs": [],
   "source": [
    "import itertools\n",
    "captions_dict = list(urls_captions.values())\n",
    "captions_list = (list(itertools.chain.from_iterable(captions_dict)))"
   ]
  },
  {
   "cell_type": "code",
   "execution_count": 1,
   "metadata": {
    "colab": {
     "base_uri": "https://localhost:8080/"
    },
    "id": "xDBsAFc8FD0j",
    "outputId": "62cd6272-3c8b-4930-a237-13c3319d2095"
   },
   "outputs": [
    {
     "name": "stdout",
     "output_type": "stream",
     "text": [
      "Collecting transformers\n",
      "  Downloading transformers-4.3.0-py3-none-any.whl (1.8 MB)\n",
      "Collecting regex!=2019.12.17\n",
      "  Downloading regex-2020.11.13-cp36-cp36m-win_amd64.whl (269 kB)\n",
      "Requirement already satisfied: requests in c:\\users\\ah2ph\\appdata\\local\\programs\\python\\python36\\lib\\site-packages (from transformers) (2.22.0)\n",
      "Collecting filelock\n",
      "  Downloading filelock-3.0.12-py3-none-any.whl (7.6 kB)\n",
      "Collecting importlib-metadata; python_version < \"3.8\"\n",
      "  Downloading importlib_metadata-3.4.0-py3-none-any.whl (10 kB)\n",
      "Collecting packaging\n",
      "  Downloading packaging-20.9-py2.py3-none-any.whl (40 kB)\n",
      "Collecting tokenizers<0.11,>=0.10.1\n",
      "  Downloading tokenizers-0.10.1-cp36-cp36m-win_amd64.whl (2.0 MB)\n",
      "Requirement already satisfied: dataclasses; python_version < \"3.7\" in c:\\users\\ah2ph\\appdata\\local\\programs\\python\\python36\\lib\\site-packages (from transformers) (0.8)\n",
      "Collecting numpy>=1.17\n",
      "  Downloading numpy-1.19.5-cp36-cp36m-win_amd64.whl (13.2 MB)\n",
      "Collecting sacremoses\n",
      "  Downloading sacremoses-0.0.43.tar.gz (883 kB)\n",
      "Requirement already satisfied: tqdm>=4.27 in c:\\users\\ah2ph\\appdata\\local\\programs\\python\\python36\\lib\\site-packages (from transformers) (4.51.0)\n",
      "Requirement already satisfied: chardet<3.1.0,>=3.0.2 in c:\\users\\ah2ph\\appdata\\local\\programs\\python\\python36\\lib\\site-packages (from requests->transformers) (3.0.4)\n",
      "Requirement already satisfied: certifi>=2017.4.17 in c:\\users\\ah2ph\\appdata\\local\\programs\\python\\python36\\lib\\site-packages (from requests->transformers) (2019.9.11)\n",
      "Requirement already satisfied: idna<2.9,>=2.5 in c:\\users\\ah2ph\\appdata\\local\\programs\\python\\python36\\lib\\site-packages (from requests->transformers) (2.8)\n",
      "Requirement already satisfied: urllib3!=1.25.0,!=1.25.1,<1.26,>=1.21.1 in c:\\users\\ah2ph\\appdata\\local\\programs\\python\\python36\\lib\\site-packages (from requests->transformers) (1.25.6)\n",
      "Collecting zipp>=0.5\n",
      "  Downloading zipp-3.4.0-py3-none-any.whl (5.2 kB)\n",
      "Requirement already satisfied: typing-extensions>=3.6.4; python_version < \"3.8\" in c:\\users\\ah2ph\\appdata\\local\\programs\\python\\python36\\lib\\site-packages (from importlib-metadata; python_version < \"3.8\"->transformers) (3.7.4.3)\n",
      "Requirement already satisfied: pyparsing>=2.0.2 in c:\\users\\ah2ph\\appdata\\local\\programs\\python\\python36\\lib\\site-packages (from packaging->transformers) (2.4.0)\n",
      "Requirement already satisfied: six in c:\\users\\ah2ph\\appdata\\local\\programs\\python\\python36\\lib\\site-packages (from sacremoses->transformers) (1.12.0)\n",
      "Collecting click\n",
      "  Downloading click-7.1.2-py2.py3-none-any.whl (82 kB)\n",
      "Requirement already satisfied: joblib in c:\\users\\ah2ph\\appdata\\local\\programs\\python\\python36\\lib\\site-packages (from sacremoses->transformers) (0.14.1)\n",
      "Building wheels for collected packages: sacremoses\n",
      "  Building wheel for sacremoses (setup.py): started\n",
      "  Building wheel for sacremoses (setup.py): finished with status 'done'\n",
      "  Created wheel for sacremoses: filename=sacremoses-0.0.43-py3-none-any.whl size=893261 sha256=ca960f28e0a40f7ca9b4f7ae65436a573cfd4e8dee35658f96858c1540e0ff29\n",
      "  Stored in directory: c:\\users\\ah2ph\\appdata\\local\\pip\\cache\\wheels\\49\\25\\98\\cdea9c79b2d9a22ccc59540b1784b67f06b633378e97f58da2\n",
      "Successfully built sacremoses\n",
      "Installing collected packages: regex, filelock, zipp, importlib-metadata, packaging, tokenizers, numpy, click, sacremoses, transformers\n",
      "  Attempting uninstall: numpy\n",
      "    Found existing installation: numpy 1.16.4\n",
      "    Uninstalling numpy-1.16.4:\n",
      "      Successfully uninstalled numpy-1.16.4\n",
      "Successfully installed click-7.1.2 filelock-3.0.12 importlib-metadata-3.4.0 numpy-1.19.5 packaging-20.9 regex-2020.11.13 sacremoses-0.0.43 tokenizers-0.10.1 transformers-4.3.0 zipp-3.4.0\n"
     ]
    },
    {
     "name": "stderr",
     "output_type": "stream",
     "text": [
      "WARNING: You are using pip version 20.2.4; however, version 21.0.1 is available.\n",
      "You should consider upgrading via the 'c:\\users\\ah2ph\\appdata\\local\\programs\\python\\python36\\python.exe -m pip install --upgrade pip' command.\n"
     ]
    }
   ],
   "source": [
    "!pip install transformers"
   ]
  },
  {
   "cell_type": "code",
   "execution_count": 2,
   "metadata": {
    "colab": {
     "base_uri": "https://localhost:8080/",
     "height": 164,
     "referenced_widgets": [
      "7f358b8687da4965b425fa5288bf9058",
      "f5f0147407fc41e89c495e885b57fba3",
      "952df26f4604408bb0827223bb7fd3e1",
      "5be89910f2304207978196dca1c47253",
      "3eab2f52ddd44b888bb0c84b95d46ec7",
      "34667f9f13af4c4ba22809c0f9e562d6",
      "cab5f83ffdc046368f5106a45a0ca5f1",
      "de409a64c445458394183a81cd6334ec",
      "f80f14a06b00469a9261f5d6b88b01b4",
      "5b152f3e3ff1477a957e773cef2e9f9b",
      "ec5f2f5c334b4e00b7feb1cb43d983cc",
      "2c01b0d06f5a4969abe9cc7fe03514a5",
      "a1fd36fb0c974a879552b01f049edf64",
      "a1510e484f3842c8a6fe9c05fb13897e",
      "8af3e7a19b89471db42c15c6c325cd63",
      "b57c1410f8794fd7bd0506d14e51f0f9",
      "a9ab12f038f242be8aaaba7d52e5c4cf",
      "a1907465e21d4ac6b484a8f07780d4f5",
      "8ed106bf0925489192f6a05219e92aa9",
      "452c1791e31a4cfca82c86691dff818c",
      "ef6244c378cb44548a9407b1900099ba",
      "fa4b67163639406bb24441445a682506",
      "3c90bc37ba8c4c76ae7f81697ed1aafb",
      "97c8a6b5d3ad4458a1c06f1438da8dc2"
     ]
    },
    "id": "ZMR9pdqIEVY2",
    "outputId": "bda398ec-2399-4de6-9e9d-78ba4754039c"
   },
   "outputs": [
    {
     "name": "stderr",
     "output_type": "stream",
     "text": [
      "I0208 14:26:20.375759 15660 filelock.py:274] Lock 2159479678512 acquired on C:\\Users\\ah2ph/.cache\\huggingface\\transformers\\45c3f7a79a80e1cf0a489e5c62b43f173c15db47864303a55d623bb3c96f72a5.d789d64ebfe299b0e416afc4a169632f903f693095b4629a7ea271d5a0cf2c99.lock\n"
     ]
    },
    {
     "data": {
      "application/vnd.jupyter.widget-view+json": {
       "model_id": "5f72970e9cf14724bf19b1cebdcc5368",
       "version_major": 2,
       "version_minor": 0
      },
      "text/plain": [
       "HBox(children=(HTML(value='Downloading'), FloatProgress(value=0.0, max=231508.0), HTML(value='')))"
      ]
     },
     "metadata": {},
     "output_type": "display_data"
    },
    {
     "name": "stderr",
     "output_type": "stream",
     "text": [
      "I0208 14:26:20.554328 15660 filelock.py:318] Lock 2159479678512 released on C:\\Users\\ah2ph/.cache\\huggingface\\transformers\\45c3f7a79a80e1cf0a489e5c62b43f173c15db47864303a55d623bb3c96f72a5.d789d64ebfe299b0e416afc4a169632f903f693095b4629a7ea271d5a0cf2c99.lock\n",
      "I0208 14:26:20.687771 15660 filelock.py:274] Lock 2158376817832 acquired on C:\\Users\\ah2ph/.cache\\huggingface\\transformers\\3c61d016573b14f7f008c02c4e51a366c67ab274726fe2910691e2a761acf43e.637c6035640bacb831febcc2b7f7bee0a96f9b30c2d7e9ef84082d9f252f3170.lock\n"
     ]
    },
    {
     "name": "stdout",
     "output_type": "stream",
     "text": [
      "\n"
     ]
    },
    {
     "data": {
      "application/vnd.jupyter.widget-view+json": {
       "model_id": "b22f6c2682314df29dc73d93585364c8",
       "version_major": 2,
       "version_minor": 0
      },
      "text/plain": [
       "HBox(children=(HTML(value='Downloading'), FloatProgress(value=0.0, max=433.0), HTML(value='')))"
      ]
     },
     "metadata": {},
     "output_type": "display_data"
    },
    {
     "name": "stderr",
     "output_type": "stream",
     "text": [
      "I0208 14:26:20.843411 15660 filelock.py:318] Lock 2158376817832 released on C:\\Users\\ah2ph/.cache\\huggingface\\transformers\\3c61d016573b14f7f008c02c4e51a366c67ab274726fe2910691e2a761acf43e.637c6035640bacb831febcc2b7f7bee0a96f9b30c2d7e9ef84082d9f252f3170.lock\n",
      "I0208 14:26:20.951775 15660 filelock.py:274] Lock 2158351371680 acquired on C:\\Users\\ah2ph/.cache\\huggingface\\transformers\\a8041bf617d7f94ea26d15e218abd04afc2004805632abc0ed2066aa16d50d04.faf6ea826ae9c5867d12b22257f9877e6b8367890837bd60f7c54a29633f7f2f.lock\n"
     ]
    },
    {
     "name": "stdout",
     "output_type": "stream",
     "text": [
      "\n"
     ]
    },
    {
     "data": {
      "application/vnd.jupyter.widget-view+json": {
       "model_id": "7db8e6df2fae4dcaa75671374023c55a",
       "version_major": 2,
       "version_minor": 0
      },
      "text/plain": [
       "HBox(children=(HTML(value='Downloading'), FloatProgress(value=0.0, max=440473133.0), HTML(value='')))"
      ]
     },
     "metadata": {},
     "output_type": "display_data"
    },
    {
     "name": "stderr",
     "output_type": "stream",
     "text": [
      "I0208 14:26:43.232868 15660 filelock.py:318] Lock 2158351371680 released on C:\\Users\\ah2ph/.cache\\huggingface\\transformers\\a8041bf617d7f94ea26d15e218abd04afc2004805632abc0ed2066aa16d50d04.faf6ea826ae9c5867d12b22257f9877e6b8367890837bd60f7c54a29633f7f2f.lock\n"
     ]
    },
    {
     "name": "stdout",
     "output_type": "stream",
     "text": [
      "\n"
     ]
    }
   ],
   "source": [
    "from transformers import BertTokenizer, BertModel\n",
    "import torch\n",
    "captions_encoded = []\n",
    "tokenizer = BertTokenizer.from_pretrained('bert-base-uncased')\n",
    "model = BertModel.from_pretrained('bert-base-uncased')\n",
    "for i in captions_list[:5]:\n",
    "    inputs = tokenizer(i, return_tensors=\"pt\")\n",
    "    outputs = model(**inputs)\n",
    "    captions_encoded.append(outputs)"
   ]
  },
  {
   "cell_type": "code",
   "execution_count": 8,
   "metadata": {
    "colab": {
     "base_uri": "https://localhost:8080/"
    },
    "id": "rZ0vL-mLFpEp",
    "outputId": "38076fbc-b8b8-4039-a8c2-6381150a64ce"
   },
   "outputs": [
    {
     "name": "stdout",
     "output_type": "stream",
     "text": [
      "torch.Size([1, 12, 768])\n"
     ]
    }
   ],
   "source": [
    "'''\n",
    "last_hidden_state (torch.FloatTensor of shape (batch_size, sequence_length, hidden_size)) \n",
    "Sequence of hidden-states at the output of the last layer of the model.\n",
    "'''\n",
    "print(captions_encoded[3].last_hidden_state.shape)"
   ]
  },
  {
   "cell_type": "markdown",
   "metadata": {
    "id": "rRVV9dM0N7QY"
   },
   "source": [
    "# Video Features"
   ]
  },
  {
   "cell_type": "code",
   "execution_count": 7,
   "metadata": {},
   "outputs": [],
   "source": [
    "# NOTE: In order to get this to run properly, you need to change UTransformer.py line 10 from \"models.common_layer\" to \"common_layer\"\n",
    "ut_dir = \"Universal-Transformer-Pytorch\"\n",
    "%run {ut_dir}/models/UTransformer\n"
   ]
  },
  {
   "cell_type": "code",
   "execution_count": 8,
   "metadata": {},
   "outputs": [],
   "source": [
    "#model = Encoder(embedding_size, hidden_size, num_layers, num_heads, total_key_depth, total_value_depth, filter_size)\n",
    "model = Encoder(4096,4096,6,2,128,128,128)"
   ]
  },
  {
   "cell_type": "code",
   "execution_count": 9,
   "metadata": {
    "colab": {
     "base_uri": "https://localhost:8080/"
    },
    "id": "4YrVuwZmN9rX",
    "outputId": "b8872755-7e6c-4ed5-a233-7077da1da6b9"
   },
   "outputs": [
    {
     "data": {
      "text/plain": [
       "torch.Size([1, 4, 4096])"
      ]
     },
     "execution_count": 9,
     "metadata": {},
     "output_type": "execute_result"
    }
   ],
   "source": [
    "import torch\n",
    "# Note - we need to use PCA to reduce dims from 4096 to 512, I just used this dummy tensor to test is the model would work\n",
    "video_empty = torch.zeros([1,4,4096], dtype=torch.float32)\n",
    "output_video,act = model(video_empty)\n",
    "output_video.shape"
   ]
  },
  {
   "cell_type": "code",
   "execution_count": 49,
   "metadata": {
    "id": "0al9zak85kPp"
   },
   "outputs": [],
   "source": [
    "m = torch.nn.Conv1d(4096, 512, 1)\n",
    "input = torch.randn(1, 1, 4096).transpose(1,2)\n",
    "output = m(input)"
   ]
  },
  {
   "cell_type": "code",
   "execution_count": 50,
   "metadata": {
    "colab": {
     "base_uri": "https://localhost:8080/"
    },
    "id": "eQyWRZ7l4zQL",
    "outputId": "19a535f1-3dd2-42af-b709-7e7ffa2ce59b"
   },
   "outputs": [
    {
     "data": {
      "text/plain": [
       "torch.Size([1, 512, 1])"
      ]
     },
     "execution_count": 50,
     "metadata": {
      "tags": []
     },
     "output_type": "execute_result"
    }
   ],
   "source": [
    "output.shape"
   ]
  },
  {
   "cell_type": "code",
   "execution_count": 24,
   "metadata": {},
   "outputs": [
    {
     "name": "stdout",
     "output_type": "stream",
     "text": [
      "0\n",
      "100\n",
      "200\n",
      "300\n",
      "400\n",
      "500\n",
      "600\n",
      "700\n",
      "800\n",
      "900\n",
      "Concatenating training samples...\n",
      "torch.Size([33340, 4096])\n"
     ]
    }
   ],
   "source": [
    "# Principle Component Analysis\n",
    "import torch\n",
    "from sklearn.decomposition import PCA\n",
    "import pickle as pkl\n",
    "\n",
    "pca = PCA(n_components=512)\n",
    "\n",
    "x = []\n",
    "for i in range(1000):\n",
    "    if i%100 == 0:\n",
    "        x.append(torch.empty(0,4096)) # Splitting up the training samples into batches to improve \n",
    "        print(i)\n",
    "    for j in range(15):\n",
    "        v = get_vectors_by_video(i,j)\n",
    "        if type(v) != type(None): # Workaround; can't compare Tensor to None\n",
    "            x[-1] = torch.cat((x[-1],torch.from_numpy(v)))\n",
    "print(\"Concatenating training samples...\")\n",
    "X = torch.cat(x)\n",
    "print(X.shape)\n",
    "pca.fit(X) # Train the pca model\n",
    "with open(\"pca_model.pkl\",\"wb\") as _out:\n",
    "    pkl.dump(pca,_out)\n"
   ]
  },
  {
   "cell_type": "code",
   "execution_count": 23,
   "metadata": {},
   "outputs": [
    {
     "name": "stdout",
     "output_type": "stream",
     "text": [
      "(11, 512)\n"
     ]
    }
   ],
   "source": [
    "test_input = get_vectors_by_video(0,0)\n",
    "trans_input = pca.transform(test_input) # Perform PCA on a single sample\n",
    "print(trans_input.shape)"
   ]
  },
  {
   "cell_type": "markdown",
   "metadata": {
    "id": "OQ7QMRAU6hXd"
   },
   "source": [
    "# C3D Extraction\n",
    "## Extract C3D Features for each clip in BDDX"
   ]
  },
  {
   "cell_type": "code",
   "execution_count": null,
   "metadata": {
    "id": "YgmQPRP96hXg"
   },
   "outputs": [],
   "source": [
    "# Open CSV file\n",
    "import pandas as pd\n",
    "data_url = \"../revisedBDDX.csv\"\n",
    "def load_bddx_data(csv_name):\n",
    "    column_names = ['Index', 'InputVideo', '1S', '1E', '1A', '1J', '2S', '2E', '2A', '2J', '3S', '3E', '3A', '3J',\n",
    "                    '4S', '4E', '4A', '4J','5S', '5E', '5A', '5J','6S', '6E', '6A', '6J','7S', '7E', '7A', '7J',\n",
    "                    '8S', '8E', '8A', '8J','9S', '9E', '9A', '9J','10S', '10E', '10A', '10J','11S', '11E', '11A', '11J',\n",
    "                    '12S', '12E', '12A', '12J','13S', '13E', '13A', '13J','14S', '14E', '14A', '14J','15S', '15E', '15A', '15J']\n",
    "    \n",
    "    return pd.read_csv(csv_name, names=column_names)\n",
    "\n",
    "bddx = load_bddx_data(data_url)\n",
    "bddx = bddx.drop(bddx.index[0])"
   ]
  },
  {
   "cell_type": "code",
   "execution_count": null,
   "metadata": {
    "id": "cQN36Axk6hYG",
    "outputId": "8f088ce2-cdd8-48d7-f611-92deb98bdc7c"
   },
   "outputs": [
    {
     "name": "stdout",
     "output_type": "stream",
     "text": [
      "(11, 4096)\n",
      "[[0.01433312 0.         0.         ... 0.         0.         0.07065101]\n",
      " [0.01486513 0.         0.         ... 0.         0.         0.07457145]\n",
      " [0.01166258 0.         0.         ... 0.         0.         0.10145477]\n",
      " ...\n",
      " [0.00248984 0.         0.         ... 0.00125599 0.         0.02231222]\n",
      " [0.         0.         0.         ... 0.0087162  0.         0.00646217]\n",
      " [0.         0.         0.         ... 0.         0.         0.06207535]]\n"
     ]
    }
   ],
   "source": [
    "from math import isnan\n",
    "import pickle as pkl\n",
    "import struct\n",
    "import os\n",
    "\n",
    "vector_size = 4096\n",
    "fname = \"vectors2.txt\"\n",
    "\n",
    "# Setup vectors file\n",
    "if os.path.isfile(fname):\n",
    "    print(\"WARNING: vectors.txt already exists! Over(W)rite, (A)ppend, or (Q)uit?\")\n",
    "    char = input(\"(W/A/Q) > \")\n",
    "    if char.lower() == \"w\":\n",
    "        with open(fname,\"wb\") as _out:\n",
    "            pass # Empty the file to overwrite the vectors\n",
    "    # elif char == \"A\": # NOTE: This is unneeded; append is considered default behavior for the pipeline\n",
    "    elif char.lower() != \"a\":\n",
    "        raise KeyboardInterrupt # Interrupt so as not to run the following code\n",
    "\n",
    "vectors = np.zeros((60,vector_size)) # 60 is max vector size\n",
    "milestone = 5600 # When to stop running the pipeline to allow the code to be run in pieces. Set to -1 if you don't want to stop\n",
    "prev_milestone = 5300 # The last milestone that the code was stopped at\n",
    "print(\"starting vectorization\")\n",
    "# Extact vectors\n",
    "for index,row in bddx.iterrows():\n",
    "    if index <= prev_milestone: # Pick up where I last left off\n",
    "        continue\n",
    "    if index%10 == 0: # Monitor progression\n",
    "        print(index)\n",
    "    if milestone >= 0 and index > milestone: # Halt execution so I'm not running it all at once\n",
    "        break\n",
    "    url = row['InputVideo']\n",
    "    if index == 4882:\n",
    "        url = \"./4882.mov\"\n",
    "    clip = mp.VideoFileClip(url,target_resolution=[112,112])\n",
    "    for i in range(1,16):\n",
    "        start = float(row['%iS'%(i)])\n",
    "        finish = float(row['%iE'%(i)])\n",
    "        if isnan(start) or isnan(finish):\n",
    "            continue\n",
    "        else:\n",
    "            start = int(start)\n",
    "            finish = int(finish)\n",
    "        if finish == start: # Some clips have same start and finish times; avoid 0-second clips\n",
    "            finish+=1\n",
    "        elif start > finish:\n",
    "            continue\n",
    "        elif finish > 100: # Take care of some erroneous finish times\n",
    "            while finish > 100:\n",
    "                finish = int(finish/10)\n",
    "        nn_inputs = get_frames(clip,start,finish)\n",
    "        vsize = finish-start\n",
    "        for j,nn_input in enumerate(nn_inputs):\n",
    "            vectors[j] = MODEL.predict(nn_input)\n",
    "        byte_vals = [bytearray(struct.pack('d',val)) for val in vectors[0:vsize].flatten()]\n",
    "        with open(fname,\"ab\") as _out:\n",
    "            for b in byte_vals:\n",
    "                _out.write(b)\n",
    "    clip.close()\n",
    "\n",
    "print(\"vectors completed\")\n"
   ]
  },
  {
   "cell_type": "code",
   "execution_count": null,
   "metadata": {},
   "outputs": [],
   "source": [
    "from math import isnan\n",
    "\n",
    "keys_7x15 = []\n",
    "keys_26x1 = []\n",
    "vcount = 0\n",
    "\n",
    "for index,row in bddx.iterrows():\n",
    "    if index%500 == 0:\n",
    "        print(index)\n",
    "    keys_7x15.append([None]*15)\n",
    "    for i in range(1,16):\n",
    "        start = float(row['%iS'%(i)])\n",
    "        finish = float(row['%iE'%(i)])\n",
    "        if isnan(start) or isnan(finish):\n",
    "            continue\n",
    "        else:\n",
    "            start = int(start)\n",
    "            finish = int(finish)\n",
    "        if finish == start: # Some clips have same start and finish times; avoid 0-second clips\n",
    "            finish+=1\n",
    "        elif start > finish: # Some clips have start after finish; ignore these\n",
    "            continue\n",
    "        elif finish > 100: # Take care of some erroneous finish times\n",
    "            while finish > 100:\n",
    "                finish = int(finish/10)\n",
    "        vsize = finish-start\n",
    "        keys_7x15[index-1][i-1] = (vcount,vsize)\n",
    "        keys_26x1.append((vcount,vsize))\n",
    "        vcount+=vsize\n",
    "\n",
    "with open(\"vector_keys.pkl\",\"wb\") as _out:\n",
    "    pkl.dump((keys_7x15,keys_26x1),_out)\n"
   ]
  },
  {
   "cell_type": "markdown",
   "metadata": {},
   "source": [
    "# Utils\n",
    "Utility code for generating vectors.txt. You shouldn't need any of this code, but I'm including it for legacy."
   ]
  },
  {
   "cell_type": "code",
   "execution_count": null,
   "metadata": {},
   "outputs": [],
   "source": [
    "# Util: check if the saved vector is the same as the generated one.\n",
    "eps = 1e-5\n",
    "print(output[0][0:20])\n",
    "print(v[0][0:20])\n",
    "for n in range(4096):\n",
    "    if abs(output[0][n]-v[0][n]) > eps:\n",
    "        print(\"Unequal\")\n",
    "        print(n)\n",
    "        break"
   ]
  },
  {
   "cell_type": "code",
   "execution_count": null,
   "metadata": {},
   "outputs": [],
   "source": [
    "# Util: Check bddx for instances of start time after finish time\n",
    "\n",
    "for index,row in bddx.iterrows():\n",
    "    for i in range(1,16):\n",
    "        start = float(row['%iS'%(i)])\n",
    "        finish = float(row['%iE'%(i)])\n",
    "        if isnan(start) or isnan(finish):\n",
    "            continue\n",
    "        elif start > finish:\n",
    "            print(index,start,finish)\n"
   ]
  },
  {
   "cell_type": "code",
   "execution_count": null,
   "metadata": {},
   "outputs": [],
   "source": [
    "# Util: Remove (corrupted) vectors in the middle of the file\n",
    "\n",
    "def excise(s,e):\n",
    "    fend = 96284\n",
    "    with open(\"v2.txt\",\"wb\") as _out:\n",
    "        pass\n",
    "    with open(\"vectors.txt\",\"rb\") as _in:\n",
    "        a = 0\n",
    "        batch = 10\n",
    "        while a < fend:\n",
    "            if a%10000 == 0:\n",
    "                print(a)\n",
    "            if a+batch < s:\n",
    "                vector_bytes = _in.read(double_size*vector_size*batch)\n",
    "                with open(\"v2.txt\",\"ab\") as _out:\n",
    "                    _out.write(vector_bytes)\n",
    "                a+=batch\n",
    "            elif a < s:\n",
    "                vector_bytes = _in.read(double_size*vector_size)\n",
    "                with open(\"v2.txt\",\"ab\") as _out:\n",
    "                    _out.write(vector_bytes)\n",
    "                a+=1\n",
    "            elif a < e:\n",
    "                _in.read(double_size*vector_size)\n",
    "                a+=1\n",
    "            elif a+batch < fend and a%batch != 0:\n",
    "                vector_bytes = _in.read(double_size*vector_size)\n",
    "                with open(\"v2.txt\",\"ab\") as _out:\n",
    "                    _out.write(vector_bytes)\n",
    "                a+=1\n",
    "            elif a+batch < fend:\n",
    "                vector_bytes = _in.read(double_size*vector_size*batch)\n",
    "                with open(\"v2.txt\",\"ab\") as _out:\n",
    "                    _out.write(vector_bytes)\n",
    "                a+=batch\n",
    "            elif a < fend:\n",
    "                vector_bytes = _in.read(double_size*vector_size)\n",
    "                with open(\"v2.txt\",\"ab\") as _out:\n",
    "                    _out.write(vector_bytes)\n",
    "                a+=1\n",
    "\n",
    "t1 = 93\n",
    "t2 = 6\n",
    "s = 88628 # 35577, 41540, 47459\n",
    "e = s+(60-(t1-t2))\n",
    "\n",
    "a = input(\"Are you sure? \")\n",
    "if a == 'y':\n",
    "    excise(s,e)\n"
   ]
  },
  {
   "cell_type": "code",
   "execution_count": null,
   "metadata": {},
   "outputs": [],
   "source": [
    "# Util: Delete (corrupted) vectors at end of file\n",
    "\n",
    "fend = 90008\n",
    "with open(\"v2.txt\",\"wb\") as _out:\n",
    "    pass\n",
    "with open(\"vectors.txt\",\"rb\") as _in:\n",
    "    a = 0\n",
    "    batch = 100\n",
    "    while a < fend:\n",
    "        if a%10000 == 0:\n",
    "            print(a)\n",
    "        if a+batch < fend:\n",
    "            vector_bytes = _in.read(double_size*vector_size*batch)\n",
    "            with open(\"v2.txt\",\"ab\") as _out:\n",
    "                _out.write(vector_bytes)\n",
    "            a+=batch\n",
    "        else:\n",
    "            vector_bytes = _in.read(double_size*vector_size)\n",
    "            with open(\"v2.txt\",\"ab\") as _out:\n",
    "                _out.write(vector_bytes)\n",
    "            a+=1\n"
   ]
  },
  {
   "cell_type": "code",
   "execution_count": null,
   "metadata": {},
   "outputs": [],
   "source": [
    "# Util: join two vector binary files\n",
    "\n",
    "base_file = \"vectors.txt\"\n",
    "next_file = \"vectors_5600+.txt\"\n",
    "\n",
    "double_size = 8\n",
    "vector_size = 4096\n",
    "\n",
    "print(\"start\")\n",
    "with open(next_file,\"rb\") as _in:\n",
    "    a = _in.read(double_size*vector_size)\n",
    "    while len(a) == 32768:\n",
    "        with open(base_file,\"ab\") as _out:\n",
    "            _out.write(a)\n",
    "        a = _in.read(double_size*vector_size)\n",
    "\n",
    "print(\"done\")"
   ]
  },
  {
   "cell_type": "markdown",
   "metadata": {},
   "source": [
    "# Video to SDL Full Pipeline"
   ]
  },
  {
   "cell_type": "code",
   "execution_count": 1,
   "metadata": {},
   "outputs": [],
   "source": [
    "import pickle as pkl\n",
    "import torch\n",
    "import torch.nn as nn\n",
    "import numpy as np\n",
    "import struct\n",
    "from sklearn.decomposition import PCA\n",
    "\n",
    "ut_dir = \"Universal-Transformer-Pytorch\"\n",
    "%run {ut_dir}/models/UTransformer"
   ]
  },
  {
   "cell_type": "code",
   "execution_count": 2,
   "metadata": {},
   "outputs": [
    {
     "name": "stdout",
     "output_type": "stream",
     "text": [
      "(1, 0)\n"
     ]
    }
   ],
   "source": [
    "# Load SDL \"Ground Truth\" from file\n",
    "\n",
    "with open(\"sdl_matrix.pkl\",\"rb\") as _in:\n",
    "    sdl_embeddings = pkl.load(_in)\n",
    "    \n",
    "# sdl_embeddings is a flattened array: for each index, position 0 indicates the video/clip, 1 is AA, 2 is Scene\n",
    "print(sdl_embeddings[5][0])"
   ]
  },
  {
   "cell_type": "code",
   "execution_count": 3,
   "metadata": {},
   "outputs": [
    {
     "name": "stdout",
     "output_type": "stream",
     "text": [
      "(40, 4096)\n",
      "[0.         0.         0.04304766 0.         0.         0.\n",
      " 0.         0.         0.         0.        ]\n"
     ]
    }
   ],
   "source": [
    "# Load C3D Vector (NN inputs) from file\n",
    "\n",
    "vector_size = 4096\n",
    "double_size = 8\n",
    "\n",
    "with open(\"vector_keys.pkl\",\"rb\") as _in:\n",
    "    keys2d,keys1d = pkl.load(_in)\n",
    "\n",
    "def get_vector_by_info(vector_info):\n",
    "    \"\"\"\n",
    "    This function should only be called by get_vectors_by_video and get_vectors_by_clip\n",
    "    \"\"\"\n",
    "    with open(\"vectors.txt\",\"rb\") as _in:\n",
    "        vector_loc = vector_info[0]*vector_size*double_size\n",
    "        _in.seek(vector_loc,0)\n",
    "        vectors_bytes = _in.read(double_size*vector_info[1]*vector_size)\n",
    "        #vectors_bytes = bytes(vectors_str,'iso-8859-1')\n",
    "        vectors_flat = struct.unpack('d'*vector_info[1]*vector_size,vectors_bytes)\n",
    "        vectors = np.reshape(vectors_flat,(vector_info[1],vector_size))\n",
    "    return vectors\n",
    "    \n",
    "def get_vectors_by_video(video_id,clip_id):\n",
    "    \"\"\"\n",
    "    Inputs: video ID and clip ID. E.g., to get the first clip from the second video, which\n",
    "    has the caption \"The car is stopped. The car is at an intersection with a red light.\",\n",
    "    use get_vectors_by_video(1,0)\n",
    "    \"\"\"\n",
    "    vector_info = keys2d[video_id][clip_id]\n",
    "    if vector_info == None:\n",
    "        return\n",
    "    return get_vector_by_info(vector_info)\n",
    "\n",
    "def get_vectors_by_clip(clip_id):\n",
    "    \"\"\"\n",
    "    Input: clip ID in a flat format. E.g., to get the first clip from the second video, which\n",
    "    has the caption \"The car is stopped. The car is at an intersection with a red light.\",\n",
    "    use get_vectors_by_video(5). Uses the same id format as phrase_lookup from Ranking.ipynb\n",
    "    ### WARNING: Due to changes in processing caused by samples with start times before end times,\n",
    "    ###   these indices may no longer match up with phrase_lookup\n",
    "    \"\"\"\n",
    "    vector_info = keys1d[clip_id]\n",
    "    if vector_info == None:\n",
    "        return\n",
    "    return get_vector_by_info(vector_info)\n",
    "\n",
    "\"\"\"\n",
    "There are two ways to read vectors from file: get_vectors_by_video() and get_vectors_by_clip().\n",
    "\n",
    "get_vectors_by_video() should be used if you want a specific clip: e.g., clip 0 of video 5\n",
    "    (caption: \"The car slows to a stop because the light is red.\")\n",
    "    \n",
    "get_vectors_by_clip() should be used if you want to iterate over all vectors, e.g.\n",
    "    for i in range(len(keys1d)):\n",
    "        v = get_vectors_by_clip(i)\n",
    "\"\"\"\n",
    "\n",
    "v = get_vectors_by_video(6995,0)\n",
    "print(v.shape)\n",
    "print(v[0][0:10])"
   ]
  },
  {
   "cell_type": "code",
   "execution_count": 28,
   "metadata": {},
   "outputs": [
    {
     "data": {
      "text/plain": [
       "SDL_Transformer(\n",
       "  (encoder): Encoder(\n",
       "    (embedding_proj): Linear(in_features=512, out_features=512, bias=False)\n",
       "    (enc): EncoderLayer(\n",
       "      (multi_head_attention): MultiHeadAttention(\n",
       "        (query_linear): Linear(in_features=512, out_features=128, bias=False)\n",
       "        (key_linear): Linear(in_features=512, out_features=128, bias=False)\n",
       "        (value_linear): Linear(in_features=512, out_features=128, bias=False)\n",
       "        (output_linear): Linear(in_features=128, out_features=512, bias=False)\n",
       "        (dropout): Dropout(p=0.0, inplace=False)\n",
       "      )\n",
       "      (positionwise_feed_forward): PositionwiseFeedForward(\n",
       "        (layers): ModuleList(\n",
       "          (0): Conv(\n",
       "            (pad): ConstantPad1d(padding=(1, 1), value=0)\n",
       "            (conv): Conv1d(512, 128, kernel_size=(3,), stride=(1,))\n",
       "          )\n",
       "          (1): Conv(\n",
       "            (pad): ConstantPad1d(padding=(1, 1), value=0)\n",
       "            (conv): Conv1d(128, 512, kernel_size=(3,), stride=(1,))\n",
       "          )\n",
       "        )\n",
       "        (relu): ReLU()\n",
       "        (dropout): Dropout(p=0.0, inplace=False)\n",
       "      )\n",
       "      (dropout): Dropout(p=0.0, inplace=False)\n",
       "      (layer_norm_mha): LayerNorm()\n",
       "      (layer_norm_ffn): LayerNorm()\n",
       "    )\n",
       "    (layer_norm): LayerNorm()\n",
       "    (input_dropout): Dropout(p=0.0, inplace=False)\n",
       "  )\n",
       "  (decoder): Decoder(\n",
       "    (embedding_proj): Linear(in_features=512, out_features=512, bias=False)\n",
       "    (dec): DecoderLayer(\n",
       "      (multi_head_attention_dec): MultiHeadAttention(\n",
       "        (query_linear): Linear(in_features=512, out_features=128, bias=False)\n",
       "        (key_linear): Linear(in_features=512, out_features=128, bias=False)\n",
       "        (value_linear): Linear(in_features=512, out_features=128, bias=False)\n",
       "        (output_linear): Linear(in_features=128, out_features=512, bias=False)\n",
       "        (dropout): Dropout(p=0.0, inplace=False)\n",
       "      )\n",
       "      (multi_head_attention_enc_dec): MultiHeadAttention(\n",
       "        (query_linear): Linear(in_features=512, out_features=128, bias=False)\n",
       "        (key_linear): Linear(in_features=512, out_features=128, bias=False)\n",
       "        (value_linear): Linear(in_features=512, out_features=128, bias=False)\n",
       "        (output_linear): Linear(in_features=128, out_features=512, bias=False)\n",
       "        (dropout): Dropout(p=0.0, inplace=False)\n",
       "      )\n",
       "      (positionwise_feed_forward): PositionwiseFeedForward(\n",
       "        (layers): ModuleList(\n",
       "          (0): Conv(\n",
       "            (pad): ConstantPad1d(padding=(2, 0), value=0)\n",
       "            (conv): Conv1d(512, 128, kernel_size=(3,), stride=(1,))\n",
       "          )\n",
       "          (1): Conv(\n",
       "            (pad): ConstantPad1d(padding=(2, 0), value=0)\n",
       "            (conv): Conv1d(128, 512, kernel_size=(3,), stride=(1,))\n",
       "          )\n",
       "        )\n",
       "        (relu): ReLU()\n",
       "        (dropout): Dropout(p=0.0, inplace=False)\n",
       "      )\n",
       "      (dropout): Dropout(p=0.0, inplace=False)\n",
       "      (layer_norm_mha_dec): LayerNorm()\n",
       "      (layer_norm_mha_enc): LayerNorm()\n",
       "      (layer_norm_ffn): LayerNorm()\n",
       "    )\n",
       "    (layer_norm): LayerNorm()\n",
       "    (input_dropout): Dropout(p=0.0, inplace=False)\n",
       "  )\n",
       "  (linear): Linear(in_features=512, out_features=32, bias=True)\n",
       "  (softmax): Softmax(dim=1)\n",
       ")"
      ]
     },
     "execution_count": 28,
     "metadata": {},
     "output_type": "execute_result"
    }
   ],
   "source": [
    "# TODO: Create the model\n",
    "\n",
    "class SDL_Transformer(nn.Module):\n",
    "    def __init__(self):\n",
    "        super(SDL_Transformer, self).__init__()\n",
    "        self.num_actors = 7 # 7 actors\n",
    "        self.num_actions = 20 # 20 actions\n",
    "        self.num_scene = 21 # 21 scene\n",
    "        \n",
    "        self.output_size = 32 # This must be big enough to contain actors, action, scene, plus <START>, <END>, and <BRK>\n",
    "        self.start_token = torch.tensor([self.output_size-2],dtype=torch.int64)\n",
    "        self.end_token = torch.tensor([self.output_size-1],dtype=torch.int64)\n",
    "        self.brk_token = torch.tensor([self.output_size-3],dtype=torch.int64)\n",
    "        \n",
    "        with open(\"pca_model.pkl\",\"rb\") as _in:\n",
    "            self.pca = pkl.load(_in)\n",
    "        self.encoder = Encoder(512,512,6,2,128,128,128) # TODO: Make this use variables instead of magic nums\n",
    "        self.decoder = Decoder(512,512,6,2,128,128,128) # TODO: Double check this values. Also, no magic nums\n",
    "        self.linear = nn.Linear(512,self.output_size)\n",
    "        self.softmax = nn.Softmax(dim=1)\n",
    "        \n",
    "    def matrix2onehot(self,_output):\n",
    "        onehot = torch.zeros((1,len(_output),512)) # 512 = Decoder size\n",
    "        for i,val in enumerate(_output):\n",
    "            onehot[0][i][int(val)] = 1\n",
    "        return onehot\n",
    "        \n",
    "    def forward(self, _input, _output):\n",
    "        x = self.pca.transform(_input) # Reduce dimensionality\n",
    "        x = torch.tensor(x,dtype=torch.float).unsqueeze(0) # Convert to Tensor\n",
    "        enc_out, _ = self.encoder(x) # Encode\n",
    "        y = self.matrix2onehot(_output)\n",
    "        dec_out = self.decoder(y,enc_out) # Decode\n",
    "        actor_pred = self.linear(dec_out)\n",
    "        actor_out = self.softmax(actor_pred)\n",
    "        return actor_out\n",
    "    \n",
    "    def predict(self, _input):\n",
    "        max_length = 32\n",
    "        x = self.pca.transform(_input)\n",
    "        x = torch.tensor(x,dtype=torch.float).unsqueeze(0) # Convert to Tensor\n",
    "        enc_out, _ = self.encoder(x) # Encode\n",
    "        _output = torch.ones(self.output_size)*self.output_size-4 # Mask output\n",
    "        _output[0] = self.start_token\n",
    "        #_output = [self.start_token.item()]\n",
    "        for i in range(max_length-1):\n",
    "            #print(_output)\n",
    "            y = self.matrix2onehot(_output)\n",
    "            dec_out = self.decoder(y,enc_out)\n",
    "            token_pred = self.linear(dec_out)\n",
    "            token_softmax = self.softmax(token_pred)\n",
    "            next_token = torch.argmax(token_softmax,dim=2)[0][i]\n",
    "            _output[i+1] = next_token\n",
    "            #_output.append(next_token.item())\n",
    "            if next_token.item() == self.end_token.item():\n",
    "                break\n",
    "        return _output\n",
    "    \n",
    "MODEL = SDL_Transformer()\n",
    "MODEL.train()\n"
   ]
  },
  {
   "cell_type": "code",
   "execution_count": 5,
   "metadata": {},
   "outputs": [],
   "source": [
    "from collections import Counter as cset\n",
    "\n",
    "def dist(pred,gt):\n",
    "    vector = []\n",
    "    missing_scale = 2 # punish missing elements more than extra elements\n",
    "    actor_scale = 9\n",
    "    action_scale = 3\n",
    "    scene_scale = 1\n",
    "    \"\"\"\n",
    "    # Actors\n",
    "    actor_set1 = cset(pred[0])\n",
    "    actor_set2 = cset(gt[0])\n",
    "    actor_N = actor_set1 & actor_set2 # iNtersection\n",
    "    vector.append(actor_scale*sum((actor_set2-actor_N).values())) # extra elements in b\n",
    "    vector.append(actor_scale*missing_scale*sum((actor_set1-actor_N).values())) # elements missing from b\n",
    "    actor_set1 = None\n",
    "    actor_set2 = None\n",
    "    # Actions\n",
    "    action_set1 = cset(pred[1])\n",
    "    action_set2 = cset(gt[1])\n",
    "    action_N = action_set1 & action_set2 # iNtersection\n",
    "    vector.append(action_scale*sum((action_set2-action_N).values())) # extra elements in b\n",
    "    vector.append(action_scale*missing_scale*sum((action_set1-action_N).values())) # elements missing from b\n",
    "    action_set1 = None\n",
    "    action_set2 = None\n",
    "    # Scenes\n",
    "    scene_set1 = cset(pred[2])\n",
    "    scene_set2 = cset(gt[2])\n",
    "    scene_N = scene_set1 & scene_set2 # iNtersection\n",
    "    vector.append(scene_scale*sum((scene_set2-scene_N).values())) # extra elements in b\n",
    "    vector.append(scene_scale*missing_scale*sum((scene_set1-scene_N).values())) # elements missing from b\n",
    "    \"\"\"\n",
    "    # Actors\n",
    "    actor_set1 = cset(pred[0])\n",
    "    actor_set2 = cset(gt[0])\n",
    "    actor_N = actor_set1 & actor_set2 # iNtersection\n",
    "    vector.append(actor_scale*sum((actor_set2-actor_N).values())) # extra elements in b\n",
    "    vector.append(actor_scale*missing_scale*sum((actor_set1-actor_N).values())) # elements missing from b\n",
    "    actor_set1 = None\n",
    "    actor_set2 = None\n",
    "    return np.linalg.norm(vector) # Euclidean distance\n"
   ]
  },
  {
   "cell_type": "code",
   "execution_count": 5,
   "metadata": {},
   "outputs": [],
   "source": [
    "def torch_index(tensor,val):\n",
    "    indices = (tensor==val).nonzero()\n",
    "    if len(indices) == 0:\n",
    "        return None\n",
    "    return indices[0].item()\n",
    "\n",
    "def pred2sdl(pred):\n",
    "    sdl = torch.argmax(pred,dim=1).squeeze(0)\n",
    "    brk = torch_index(sdl,29) # TODO: Magic number\n",
    "    if brk == None:\n",
    "        return [sdl]\n",
    "    return [sdl[0:brk].tolist()]\n"
   ]
  },
  {
   "cell_type": "code",
   "execution_count": 18,
   "metadata": {},
   "outputs": [
    {
     "name": "stdout",
     "output_type": "stream",
     "text": [
      "Starting epoch 1\n",
      "0 2021-03-01 13:20:49.651925\n",
      "100 2021-03-01 13:20:53.620639\n",
      "200 2021-03-01 13:20:57.643718\n",
      "NONE 268\n",
      "NONE 270\n",
      "300 2021-03-01 13:21:01.749406\n",
      "2021-03-01 13:21:01.749406\n"
     ]
    }
   ],
   "source": [
    "from datetime import datetime as time\n",
    "\n",
    "#MODEL = torch.load(\"models/sdl_ut05.model\")\n",
    "MODEL.train()\n",
    "\n",
    "n_epoch = 1\n",
    "lr = 1e-5\n",
    "\n",
    "dist = nn.CrossEntropyLoss()\n",
    "optimizer = torch.optim.Adam(MODEL.parameters(), lr=lr)\n",
    "\n",
    "for epoch in range(n_epoch):\n",
    "    print(\"Starting epoch %i\"%(epoch+1))\n",
    "    count = 0\n",
    "    for sdl in sdl_embeddings:\n",
    "        optimizer.zero_grad()\n",
    "        if count%100 == 0:\n",
    "            print(str(count)+\" \"+str(time.now()))\n",
    "            \"\"\"\n",
    "            if count >= 300:\n",
    "                print(time.now())\n",
    "                break\n",
    "            \"\"\"\n",
    "        index = sdl[0]\n",
    "        \n",
    "        aa = torch.tensor(sdl[1].transpose().flatten(),dtype=torch.int64)\n",
    "        scene = torch.tensor(sdl[2],dtype=torch.int64)\n",
    "        sdl = torch.cat((aa,MODEL.brk_token,scene))\n",
    "        sdl_shifted = torch.cat((MODEL.start_token,sdl))\n",
    "        sdl_gt = torch.cat((sdl,MODEL.end_token)).unsqueeze(0) # Unsqueeze for batch size\n",
    "        \n",
    "        c3d_vector = get_vectors_by_video(index[0],index[1])\n",
    "        if type(c3d_vector) == type(None):\n",
    "            continue\n",
    "        sdl_pred = MODEL(c3d_vector,sdl_shifted)\n",
    "        sdl_pred = sdl_pred.transpose(1,2) # Not entirely sure why, but output needs to be transposed\n",
    "        sftmx = torch.argmax(sdl_pred,dim=1)\n",
    "        query = torch_index(sftmx[0],MODEL.brk_token.item())\n",
    "        loss = dist(sdl_pred,sdl_gt)\n",
    "        loss.backward()\n",
    "        optimizer.step()\n",
    "        count+=1\n"
   ]
  },
  {
   "cell_type": "code",
   "execution_count": 22,
   "metadata": {},
   "outputs": [],
   "source": [
    "torch.save(MODEL, \"models/sdl_ut05.model\")"
   ]
  },
  {
   "cell_type": "code",
   "execution_count": 30,
   "metadata": {},
   "outputs": [
    {
     "name": "stdout",
     "output_type": "stream",
     "text": [
      "tensor([30.,  5.,  0., 30.,  7., 18.,  4., 29., 15., 23., 12., 31., 28., 28.,\n",
      "        28., 28., 28., 28., 28., 28., 28., 28., 28., 28., 28., 28., 28., 28.,\n",
      "        28., 28., 28., 28.])\n"
     ]
    }
   ],
   "source": [
    "MODEL = torch.load(\"models/sdl_ut05.model\")\n",
    "MODEL.eval()\n",
    "test_vector = get_vectors_by_video(0,0)\n",
    "test_out = MODEL.predict(test_vector)\n",
    "print(test_out)\n",
    "#print(sdl_embeddings[0])\n"
   ]
  },
  {
   "cell_type": "code",
   "execution_count": null,
   "metadata": {},
   "outputs": [],
   "source": []
  }
 ],
 "metadata": {
  "accelerator": "GPU",
  "colab": {
   "name": "C3D_Feature_Extraction.ipynb",
   "provenance": []
  },
  "kernelspec": {
   "display_name": "Python 3",
   "language": "python",
   "name": "python3"
  },
  "language_info": {
   "codemirror_mode": {
    "name": "ipython",
    "version": 3
   },
   "file_extension": ".py",
   "mimetype": "text/x-python",
   "name": "python",
   "nbconvert_exporter": "python",
   "pygments_lexer": "ipython3",
   "version": "3.6.7"
  },
  "widgets": {
   "application/vnd.jupyter.widget-state+json": {
    "2c01b0d06f5a4969abe9cc7fe03514a5": {
     "model_module": "@jupyter-widgets/controls",
     "model_name": "HTMLModel",
     "state": {
      "_dom_classes": [],
      "_model_module": "@jupyter-widgets/controls",
      "_model_module_version": "1.5.0",
      "_model_name": "HTMLModel",
      "_view_count": null,
      "_view_module": "@jupyter-widgets/controls",
      "_view_module_version": "1.5.0",
      "_view_name": "HTMLView",
      "description": "",
      "description_tooltip": null,
      "layout": "IPY_MODEL_b57c1410f8794fd7bd0506d14e51f0f9",
      "placeholder": "​",
      "style": "IPY_MODEL_8af3e7a19b89471db42c15c6c325cd63",
      "value": " 433/433 [00:00&lt;00:00, 959B/s]"
     }
    },
    "34667f9f13af4c4ba22809c0f9e562d6": {
     "model_module": "@jupyter-widgets/base",
     "model_name": "LayoutModel",
     "state": {
      "_model_module": "@jupyter-widgets/base",
      "_model_module_version": "1.2.0",
      "_model_name": "LayoutModel",
      "_view_count": null,
      "_view_module": "@jupyter-widgets/base",
      "_view_module_version": "1.2.0",
      "_view_name": "LayoutView",
      "align_content": null,
      "align_items": null,
      "align_self": null,
      "border": null,
      "bottom": null,
      "display": null,
      "flex": null,
      "flex_flow": null,
      "grid_area": null,
      "grid_auto_columns": null,
      "grid_auto_flow": null,
      "grid_auto_rows": null,
      "grid_column": null,
      "grid_gap": null,
      "grid_row": null,
      "grid_template_areas": null,
      "grid_template_columns": null,
      "grid_template_rows": null,
      "height": null,
      "justify_content": null,
      "justify_items": null,
      "left": null,
      "margin": null,
      "max_height": null,
      "max_width": null,
      "min_height": null,
      "min_width": null,
      "object_fit": null,
      "object_position": null,
      "order": null,
      "overflow": null,
      "overflow_x": null,
      "overflow_y": null,
      "padding": null,
      "right": null,
      "top": null,
      "visibility": null,
      "width": null
     }
    },
    "3c90bc37ba8c4c76ae7f81697ed1aafb": {
     "model_module": "@jupyter-widgets/controls",
     "model_name": "DescriptionStyleModel",
     "state": {
      "_model_module": "@jupyter-widgets/controls",
      "_model_module_version": "1.5.0",
      "_model_name": "DescriptionStyleModel",
      "_view_count": null,
      "_view_module": "@jupyter-widgets/base",
      "_view_module_version": "1.2.0",
      "_view_name": "StyleView",
      "description_width": ""
     }
    },
    "3eab2f52ddd44b888bb0c84b95d46ec7": {
     "model_module": "@jupyter-widgets/controls",
     "model_name": "ProgressStyleModel",
     "state": {
      "_model_module": "@jupyter-widgets/controls",
      "_model_module_version": "1.5.0",
      "_model_name": "ProgressStyleModel",
      "_view_count": null,
      "_view_module": "@jupyter-widgets/base",
      "_view_module_version": "1.2.0",
      "_view_name": "StyleView",
      "bar_color": null,
      "description_width": "initial"
     }
    },
    "452c1791e31a4cfca82c86691dff818c": {
     "model_module": "@jupyter-widgets/controls",
     "model_name": "HTMLModel",
     "state": {
      "_dom_classes": [],
      "_model_module": "@jupyter-widgets/controls",
      "_model_module_version": "1.5.0",
      "_model_name": "HTMLModel",
      "_view_count": null,
      "_view_module": "@jupyter-widgets/controls",
      "_view_module_version": "1.5.0",
      "_view_name": "HTMLView",
      "description": "",
      "description_tooltip": null,
      "layout": "IPY_MODEL_97c8a6b5d3ad4458a1c06f1438da8dc2",
      "placeholder": "​",
      "style": "IPY_MODEL_3c90bc37ba8c4c76ae7f81697ed1aafb",
      "value": " 440M/440M [01:39&lt;00:00, 4.43MB/s]"
     }
    },
    "5b152f3e3ff1477a957e773cef2e9f9b": {
     "model_module": "@jupyter-widgets/base",
     "model_name": "LayoutModel",
     "state": {
      "_model_module": "@jupyter-widgets/base",
      "_model_module_version": "1.2.0",
      "_model_name": "LayoutModel",
      "_view_count": null,
      "_view_module": "@jupyter-widgets/base",
      "_view_module_version": "1.2.0",
      "_view_name": "LayoutView",
      "align_content": null,
      "align_items": null,
      "align_self": null,
      "border": null,
      "bottom": null,
      "display": null,
      "flex": null,
      "flex_flow": null,
      "grid_area": null,
      "grid_auto_columns": null,
      "grid_auto_flow": null,
      "grid_auto_rows": null,
      "grid_column": null,
      "grid_gap": null,
      "grid_row": null,
      "grid_template_areas": null,
      "grid_template_columns": null,
      "grid_template_rows": null,
      "height": null,
      "justify_content": null,
      "justify_items": null,
      "left": null,
      "margin": null,
      "max_height": null,
      "max_width": null,
      "min_height": null,
      "min_width": null,
      "object_fit": null,
      "object_position": null,
      "order": null,
      "overflow": null,
      "overflow_x": null,
      "overflow_y": null,
      "padding": null,
      "right": null,
      "top": null,
      "visibility": null,
      "width": null
     }
    },
    "5be89910f2304207978196dca1c47253": {
     "model_module": "@jupyter-widgets/controls",
     "model_name": "HTMLModel",
     "state": {
      "_dom_classes": [],
      "_model_module": "@jupyter-widgets/controls",
      "_model_module_version": "1.5.0",
      "_model_name": "HTMLModel",
      "_view_count": null,
      "_view_module": "@jupyter-widgets/controls",
      "_view_module_version": "1.5.0",
      "_view_name": "HTMLView",
      "description": "",
      "description_tooltip": null,
      "layout": "IPY_MODEL_de409a64c445458394183a81cd6334ec",
      "placeholder": "​",
      "style": "IPY_MODEL_cab5f83ffdc046368f5106a45a0ca5f1",
      "value": " 232k/232k [00:00&lt;00:00, 794kB/s]"
     }
    },
    "7f358b8687da4965b425fa5288bf9058": {
     "model_module": "@jupyter-widgets/controls",
     "model_name": "HBoxModel",
     "state": {
      "_dom_classes": [],
      "_model_module": "@jupyter-widgets/controls",
      "_model_module_version": "1.5.0",
      "_model_name": "HBoxModel",
      "_view_count": null,
      "_view_module": "@jupyter-widgets/controls",
      "_view_module_version": "1.5.0",
      "_view_name": "HBoxView",
      "box_style": "",
      "children": [
       "IPY_MODEL_952df26f4604408bb0827223bb7fd3e1",
       "IPY_MODEL_5be89910f2304207978196dca1c47253"
      ],
      "layout": "IPY_MODEL_f5f0147407fc41e89c495e885b57fba3"
     }
    },
    "8af3e7a19b89471db42c15c6c325cd63": {
     "model_module": "@jupyter-widgets/controls",
     "model_name": "DescriptionStyleModel",
     "state": {
      "_model_module": "@jupyter-widgets/controls",
      "_model_module_version": "1.5.0",
      "_model_name": "DescriptionStyleModel",
      "_view_count": null,
      "_view_module": "@jupyter-widgets/base",
      "_view_module_version": "1.2.0",
      "_view_name": "StyleView",
      "description_width": ""
     }
    },
    "8ed106bf0925489192f6a05219e92aa9": {
     "model_module": "@jupyter-widgets/controls",
     "model_name": "FloatProgressModel",
     "state": {
      "_dom_classes": [],
      "_model_module": "@jupyter-widgets/controls",
      "_model_module_version": "1.5.0",
      "_model_name": "FloatProgressModel",
      "_view_count": null,
      "_view_module": "@jupyter-widgets/controls",
      "_view_module_version": "1.5.0",
      "_view_name": "ProgressView",
      "bar_style": "success",
      "description": "Downloading: 100%",
      "description_tooltip": null,
      "layout": "IPY_MODEL_fa4b67163639406bb24441445a682506",
      "max": 440473133,
      "min": 0,
      "orientation": "horizontal",
      "style": "IPY_MODEL_ef6244c378cb44548a9407b1900099ba",
      "value": 440473133
     }
    },
    "952df26f4604408bb0827223bb7fd3e1": {
     "model_module": "@jupyter-widgets/controls",
     "model_name": "FloatProgressModel",
     "state": {
      "_dom_classes": [],
      "_model_module": "@jupyter-widgets/controls",
      "_model_module_version": "1.5.0",
      "_model_name": "FloatProgressModel",
      "_view_count": null,
      "_view_module": "@jupyter-widgets/controls",
      "_view_module_version": "1.5.0",
      "_view_name": "ProgressView",
      "bar_style": "success",
      "description": "Downloading: 100%",
      "description_tooltip": null,
      "layout": "IPY_MODEL_34667f9f13af4c4ba22809c0f9e562d6",
      "max": 231508,
      "min": 0,
      "orientation": "horizontal",
      "style": "IPY_MODEL_3eab2f52ddd44b888bb0c84b95d46ec7",
      "value": 231508
     }
    },
    "97c8a6b5d3ad4458a1c06f1438da8dc2": {
     "model_module": "@jupyter-widgets/base",
     "model_name": "LayoutModel",
     "state": {
      "_model_module": "@jupyter-widgets/base",
      "_model_module_version": "1.2.0",
      "_model_name": "LayoutModel",
      "_view_count": null,
      "_view_module": "@jupyter-widgets/base",
      "_view_module_version": "1.2.0",
      "_view_name": "LayoutView",
      "align_content": null,
      "align_items": null,
      "align_self": null,
      "border": null,
      "bottom": null,
      "display": null,
      "flex": null,
      "flex_flow": null,
      "grid_area": null,
      "grid_auto_columns": null,
      "grid_auto_flow": null,
      "grid_auto_rows": null,
      "grid_column": null,
      "grid_gap": null,
      "grid_row": null,
      "grid_template_areas": null,
      "grid_template_columns": null,
      "grid_template_rows": null,
      "height": null,
      "justify_content": null,
      "justify_items": null,
      "left": null,
      "margin": null,
      "max_height": null,
      "max_width": null,
      "min_height": null,
      "min_width": null,
      "object_fit": null,
      "object_position": null,
      "order": null,
      "overflow": null,
      "overflow_x": null,
      "overflow_y": null,
      "padding": null,
      "right": null,
      "top": null,
      "visibility": null,
      "width": null
     }
    },
    "a1510e484f3842c8a6fe9c05fb13897e": {
     "model_module": "@jupyter-widgets/base",
     "model_name": "LayoutModel",
     "state": {
      "_model_module": "@jupyter-widgets/base",
      "_model_module_version": "1.2.0",
      "_model_name": "LayoutModel",
      "_view_count": null,
      "_view_module": "@jupyter-widgets/base",
      "_view_module_version": "1.2.0",
      "_view_name": "LayoutView",
      "align_content": null,
      "align_items": null,
      "align_self": null,
      "border": null,
      "bottom": null,
      "display": null,
      "flex": null,
      "flex_flow": null,
      "grid_area": null,
      "grid_auto_columns": null,
      "grid_auto_flow": null,
      "grid_auto_rows": null,
      "grid_column": null,
      "grid_gap": null,
      "grid_row": null,
      "grid_template_areas": null,
      "grid_template_columns": null,
      "grid_template_rows": null,
      "height": null,
      "justify_content": null,
      "justify_items": null,
      "left": null,
      "margin": null,
      "max_height": null,
      "max_width": null,
      "min_height": null,
      "min_width": null,
      "object_fit": null,
      "object_position": null,
      "order": null,
      "overflow": null,
      "overflow_x": null,
      "overflow_y": null,
      "padding": null,
      "right": null,
      "top": null,
      "visibility": null,
      "width": null
     }
    },
    "a1907465e21d4ac6b484a8f07780d4f5": {
     "model_module": "@jupyter-widgets/base",
     "model_name": "LayoutModel",
     "state": {
      "_model_module": "@jupyter-widgets/base",
      "_model_module_version": "1.2.0",
      "_model_name": "LayoutModel",
      "_view_count": null,
      "_view_module": "@jupyter-widgets/base",
      "_view_module_version": "1.2.0",
      "_view_name": "LayoutView",
      "align_content": null,
      "align_items": null,
      "align_self": null,
      "border": null,
      "bottom": null,
      "display": null,
      "flex": null,
      "flex_flow": null,
      "grid_area": null,
      "grid_auto_columns": null,
      "grid_auto_flow": null,
      "grid_auto_rows": null,
      "grid_column": null,
      "grid_gap": null,
      "grid_row": null,
      "grid_template_areas": null,
      "grid_template_columns": null,
      "grid_template_rows": null,
      "height": null,
      "justify_content": null,
      "justify_items": null,
      "left": null,
      "margin": null,
      "max_height": null,
      "max_width": null,
      "min_height": null,
      "min_width": null,
      "object_fit": null,
      "object_position": null,
      "order": null,
      "overflow": null,
      "overflow_x": null,
      "overflow_y": null,
      "padding": null,
      "right": null,
      "top": null,
      "visibility": null,
      "width": null
     }
    },
    "a1fd36fb0c974a879552b01f049edf64": {
     "model_module": "@jupyter-widgets/controls",
     "model_name": "ProgressStyleModel",
     "state": {
      "_model_module": "@jupyter-widgets/controls",
      "_model_module_version": "1.5.0",
      "_model_name": "ProgressStyleModel",
      "_view_count": null,
      "_view_module": "@jupyter-widgets/base",
      "_view_module_version": "1.2.0",
      "_view_name": "StyleView",
      "bar_color": null,
      "description_width": "initial"
     }
    },
    "a9ab12f038f242be8aaaba7d52e5c4cf": {
     "model_module": "@jupyter-widgets/controls",
     "model_name": "HBoxModel",
     "state": {
      "_dom_classes": [],
      "_model_module": "@jupyter-widgets/controls",
      "_model_module_version": "1.5.0",
      "_model_name": "HBoxModel",
      "_view_count": null,
      "_view_module": "@jupyter-widgets/controls",
      "_view_module_version": "1.5.0",
      "_view_name": "HBoxView",
      "box_style": "",
      "children": [
       "IPY_MODEL_8ed106bf0925489192f6a05219e92aa9",
       "IPY_MODEL_452c1791e31a4cfca82c86691dff818c"
      ],
      "layout": "IPY_MODEL_a1907465e21d4ac6b484a8f07780d4f5"
     }
    },
    "b57c1410f8794fd7bd0506d14e51f0f9": {
     "model_module": "@jupyter-widgets/base",
     "model_name": "LayoutModel",
     "state": {
      "_model_module": "@jupyter-widgets/base",
      "_model_module_version": "1.2.0",
      "_model_name": "LayoutModel",
      "_view_count": null,
      "_view_module": "@jupyter-widgets/base",
      "_view_module_version": "1.2.0",
      "_view_name": "LayoutView",
      "align_content": null,
      "align_items": null,
      "align_self": null,
      "border": null,
      "bottom": null,
      "display": null,
      "flex": null,
      "flex_flow": null,
      "grid_area": null,
      "grid_auto_columns": null,
      "grid_auto_flow": null,
      "grid_auto_rows": null,
      "grid_column": null,
      "grid_gap": null,
      "grid_row": null,
      "grid_template_areas": null,
      "grid_template_columns": null,
      "grid_template_rows": null,
      "height": null,
      "justify_content": null,
      "justify_items": null,
      "left": null,
      "margin": null,
      "max_height": null,
      "max_width": null,
      "min_height": null,
      "min_width": null,
      "object_fit": null,
      "object_position": null,
      "order": null,
      "overflow": null,
      "overflow_x": null,
      "overflow_y": null,
      "padding": null,
      "right": null,
      "top": null,
      "visibility": null,
      "width": null
     }
    },
    "cab5f83ffdc046368f5106a45a0ca5f1": {
     "model_module": "@jupyter-widgets/controls",
     "model_name": "DescriptionStyleModel",
     "state": {
      "_model_module": "@jupyter-widgets/controls",
      "_model_module_version": "1.5.0",
      "_model_name": "DescriptionStyleModel",
      "_view_count": null,
      "_view_module": "@jupyter-widgets/base",
      "_view_module_version": "1.2.0",
      "_view_name": "StyleView",
      "description_width": ""
     }
    },
    "de409a64c445458394183a81cd6334ec": {
     "model_module": "@jupyter-widgets/base",
     "model_name": "LayoutModel",
     "state": {
      "_model_module": "@jupyter-widgets/base",
      "_model_module_version": "1.2.0",
      "_model_name": "LayoutModel",
      "_view_count": null,
      "_view_module": "@jupyter-widgets/base",
      "_view_module_version": "1.2.0",
      "_view_name": "LayoutView",
      "align_content": null,
      "align_items": null,
      "align_self": null,
      "border": null,
      "bottom": null,
      "display": null,
      "flex": null,
      "flex_flow": null,
      "grid_area": null,
      "grid_auto_columns": null,
      "grid_auto_flow": null,
      "grid_auto_rows": null,
      "grid_column": null,
      "grid_gap": null,
      "grid_row": null,
      "grid_template_areas": null,
      "grid_template_columns": null,
      "grid_template_rows": null,
      "height": null,
      "justify_content": null,
      "justify_items": null,
      "left": null,
      "margin": null,
      "max_height": null,
      "max_width": null,
      "min_height": null,
      "min_width": null,
      "object_fit": null,
      "object_position": null,
      "order": null,
      "overflow": null,
      "overflow_x": null,
      "overflow_y": null,
      "padding": null,
      "right": null,
      "top": null,
      "visibility": null,
      "width": null
     }
    },
    "ec5f2f5c334b4e00b7feb1cb43d983cc": {
     "model_module": "@jupyter-widgets/controls",
     "model_name": "FloatProgressModel",
     "state": {
      "_dom_classes": [],
      "_model_module": "@jupyter-widgets/controls",
      "_model_module_version": "1.5.0",
      "_model_name": "FloatProgressModel",
      "_view_count": null,
      "_view_module": "@jupyter-widgets/controls",
      "_view_module_version": "1.5.0",
      "_view_name": "ProgressView",
      "bar_style": "success",
      "description": "Downloading: 100%",
      "description_tooltip": null,
      "layout": "IPY_MODEL_a1510e484f3842c8a6fe9c05fb13897e",
      "max": 433,
      "min": 0,
      "orientation": "horizontal",
      "style": "IPY_MODEL_a1fd36fb0c974a879552b01f049edf64",
      "value": 433
     }
    },
    "ef6244c378cb44548a9407b1900099ba": {
     "model_module": "@jupyter-widgets/controls",
     "model_name": "ProgressStyleModel",
     "state": {
      "_model_module": "@jupyter-widgets/controls",
      "_model_module_version": "1.5.0",
      "_model_name": "ProgressStyleModel",
      "_view_count": null,
      "_view_module": "@jupyter-widgets/base",
      "_view_module_version": "1.2.0",
      "_view_name": "StyleView",
      "bar_color": null,
      "description_width": "initial"
     }
    },
    "f5f0147407fc41e89c495e885b57fba3": {
     "model_module": "@jupyter-widgets/base",
     "model_name": "LayoutModel",
     "state": {
      "_model_module": "@jupyter-widgets/base",
      "_model_module_version": "1.2.0",
      "_model_name": "LayoutModel",
      "_view_count": null,
      "_view_module": "@jupyter-widgets/base",
      "_view_module_version": "1.2.0",
      "_view_name": "LayoutView",
      "align_content": null,
      "align_items": null,
      "align_self": null,
      "border": null,
      "bottom": null,
      "display": null,
      "flex": null,
      "flex_flow": null,
      "grid_area": null,
      "grid_auto_columns": null,
      "grid_auto_flow": null,
      "grid_auto_rows": null,
      "grid_column": null,
      "grid_gap": null,
      "grid_row": null,
      "grid_template_areas": null,
      "grid_template_columns": null,
      "grid_template_rows": null,
      "height": null,
      "justify_content": null,
      "justify_items": null,
      "left": null,
      "margin": null,
      "max_height": null,
      "max_width": null,
      "min_height": null,
      "min_width": null,
      "object_fit": null,
      "object_position": null,
      "order": null,
      "overflow": null,
      "overflow_x": null,
      "overflow_y": null,
      "padding": null,
      "right": null,
      "top": null,
      "visibility": null,
      "width": null
     }
    },
    "f80f14a06b00469a9261f5d6b88b01b4": {
     "model_module": "@jupyter-widgets/controls",
     "model_name": "HBoxModel",
     "state": {
      "_dom_classes": [],
      "_model_module": "@jupyter-widgets/controls",
      "_model_module_version": "1.5.0",
      "_model_name": "HBoxModel",
      "_view_count": null,
      "_view_module": "@jupyter-widgets/controls",
      "_view_module_version": "1.5.0",
      "_view_name": "HBoxView",
      "box_style": "",
      "children": [
       "IPY_MODEL_ec5f2f5c334b4e00b7feb1cb43d983cc",
       "IPY_MODEL_2c01b0d06f5a4969abe9cc7fe03514a5"
      ],
      "layout": "IPY_MODEL_5b152f3e3ff1477a957e773cef2e9f9b"
     }
    },
    "fa4b67163639406bb24441445a682506": {
     "model_module": "@jupyter-widgets/base",
     "model_name": "LayoutModel",
     "state": {
      "_model_module": "@jupyter-widgets/base",
      "_model_module_version": "1.2.0",
      "_model_name": "LayoutModel",
      "_view_count": null,
      "_view_module": "@jupyter-widgets/base",
      "_view_module_version": "1.2.0",
      "_view_name": "LayoutView",
      "align_content": null,
      "align_items": null,
      "align_self": null,
      "border": null,
      "bottom": null,
      "display": null,
      "flex": null,
      "flex_flow": null,
      "grid_area": null,
      "grid_auto_columns": null,
      "grid_auto_flow": null,
      "grid_auto_rows": null,
      "grid_column": null,
      "grid_gap": null,
      "grid_row": null,
      "grid_template_areas": null,
      "grid_template_columns": null,
      "grid_template_rows": null,
      "height": null,
      "justify_content": null,
      "justify_items": null,
      "left": null,
      "margin": null,
      "max_height": null,
      "max_width": null,
      "min_height": null,
      "min_width": null,
      "object_fit": null,
      "object_position": null,
      "order": null,
      "overflow": null,
      "overflow_x": null,
      "overflow_y": null,
      "padding": null,
      "right": null,
      "top": null,
      "visibility": null,
      "width": null
     }
    }
   }
  }
 },
 "nbformat": 4,
 "nbformat_minor": 1
}
