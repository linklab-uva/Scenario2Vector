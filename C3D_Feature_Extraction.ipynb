{
 "cells": [
  {
   "cell_type": "markdown",
   "metadata": {},
   "source": [
    "Code to extract C3D Features from the videos in the BDDX Dataset\n",
    "\n",
    "This code is based on the C3D Implementation found at https://github.com/karolzak/conv3d-video-action-recognition"
   ]
  },
  {
   "cell_type": "markdown",
   "metadata": {},
   "source": [
    "# C3D Model"
   ]
  },
  {
   "cell_type": "code",
   "execution_count": 26,
   "metadata": {},
   "outputs": [],
   "source": [
    "c3d_dir = \"conv3d-video-action-recognition\""
   ]
  },
  {
   "cell_type": "code",
   "execution_count": 27,
   "metadata": {},
   "outputs": [],
   "source": [
    "%run {c3d_dir}/python/data_prep.py\n",
    "%run {c3d_dir}/python/mpypl_pipe_func.py\n",
    "%run {c3d_dir}/python/mpypl_pipes.py"
   ]
  },
  {
   "cell_type": "code",
   "execution_count": 28,
   "metadata": {},
   "outputs": [
    {
     "name": "stderr",
     "output_type": "stream",
     "text": [
      "Using TensorFlow backend.\n"
     ]
    },
    {
     "name": "stdout",
     "output_type": "stream",
     "text": [
      "WARNING:tensorflow:From c:\\users\\ah2ph\\appdata\\local\\programs\\python\\python36\\lib\\site-packages\\tensorflow\\python\\framework\\op_def_library.py:263: colocate_with (from tensorflow.python.framework.ops) is deprecated and will be removed in a future version.\n",
      "Instructions for updating:\n",
      "Colocations handled automatically by placer.\n",
      "WARNING:tensorflow:From c:\\users\\ah2ph\\appdata\\local\\programs\\python\\python36\\lib\\site-packages\\keras\\backend\\tensorflow_backend.py:3445: calling dropout (from tensorflow.python.ops.nn_ops) with keep_prob is deprecated and will be removed in a future version.\n",
      "Instructions for updating:\n",
      "Please use `rate` instead of `keep_prob`. Rate should be set to `rate = 1 - keep_prob`.\n",
      "Loading Model Weights from conv3d-video-action-recognition/models/weights_C3D_sports1M_tf.h5\n",
      "Popping last 3 layers\n"
     ]
    }
   ],
   "source": [
    "# C3D_model function\n",
    "%run {c3d_dir}/python/c3dmodel.py\n",
    "\n",
    "MODEL = get_video_descriptor(weights_path='%s/models/weights_C3D_sports1M_tf.h5'%(c3d_dir))"
   ]
  },
  {
   "cell_type": "code",
   "execution_count": 5,
   "metadata": {},
   "outputs": [
    {
     "name": "stdout",
     "output_type": "stream",
     "text": [
      "_________________________________________________________________\n",
      "Layer (type)                 Output Shape              Param #   \n",
      "=================================================================\n",
      "conv1 (Conv3D)               (None, 16, 112, 112, 64)  5248      \n",
      "_________________________________________________________________\n",
      "pool1 (MaxPooling3D)         (None, 16, 56, 56, 64)    0         \n",
      "_________________________________________________________________\n",
      "conv2 (Conv3D)               (None, 16, 56, 56, 128)   221312    \n",
      "_________________________________________________________________\n",
      "pool2 (MaxPooling3D)         (None, 8, 28, 28, 128)    0         \n",
      "_________________________________________________________________\n",
      "conv3a (Conv3D)              (None, 8, 28, 28, 256)    884992    \n",
      "_________________________________________________________________\n",
      "conv3b (Conv3D)              (None, 8, 28, 28, 256)    1769728   \n",
      "_________________________________________________________________\n",
      "pool3 (MaxPooling3D)         (None, 4, 14, 14, 256)    0         \n",
      "_________________________________________________________________\n",
      "conv4a (Conv3D)              (None, 4, 14, 14, 512)    3539456   \n",
      "_________________________________________________________________\n",
      "conv4b (Conv3D)              (None, 4, 14, 14, 512)    7078400   \n",
      "_________________________________________________________________\n",
      "pool4 (MaxPooling3D)         (None, 2, 7, 7, 512)      0         \n",
      "_________________________________________________________________\n",
      "conv5a (Conv3D)              (None, 2, 7, 7, 512)      7078400   \n",
      "_________________________________________________________________\n",
      "conv5b (Conv3D)              (None, 2, 7, 7, 512)      7078400   \n",
      "_________________________________________________________________\n",
      "zero_padding3d_1 (ZeroPaddin (None, 2, 9, 9, 512)      0         \n",
      "_________________________________________________________________\n",
      "pool5 (MaxPooling3D)         (None, 1, 4, 4, 512)      0         \n",
      "_________________________________________________________________\n",
      "flatten_1 (Flatten)          (None, 8192)              0         \n",
      "_________________________________________________________________\n",
      "fc6 (Dense)                  (None, 4096)              33558528  \n",
      "_________________________________________________________________\n",
      "dropout_1 (Dropout)          (None, 4096)              0         \n",
      "_________________________________________________________________\n",
      "lambda_1 (Lambda)            (None, 4096)              0         \n",
      "=================================================================\n",
      "Total params: 61,214,464\n",
      "Trainable params: 61,214,464\n",
      "Non-trainable params: 0\n",
      "_________________________________________________________________\n"
     ]
    }
   ],
   "source": [
    "\"\"\"\n",
    "The input to this model is 16 frames, in the shape of (batch,16,112,112,3)\n",
    "\"\"\"\n",
    "\n",
    "MODEL.summary()"
   ]
  },
  {
   "cell_type": "markdown",
   "metadata": {},
   "source": [
    "# Get video frames"
   ]
  },
  {
   "cell_type": "code",
   "execution_count": 16,
   "metadata": {},
   "outputs": [
    {
     "name": "stdout",
     "output_type": "stream",
     "text": [
      "11\n",
      "torch.Size([1, 16, 112, 112, 3])\n"
     ]
    }
   ],
   "source": [
    "import moviepy.editor as mp\n",
    "import torch\n",
    "\n",
    "# t is the time of the first frame\n",
    "# count is the number of frames\n",
    "# clip_len is the number of seconds of the subclip\n",
    "def sample_frames(clip,t=0,count=16,clip_len=1):\n",
    "    output = []\n",
    "    for i in range(count):\n",
    "        time = t+clip_len*(i/count) # Sample at equal intervals across the subclip\n",
    "        frame = clip.get_frame(time) # Grab the frame at the specified time\n",
    "        output.append(frame)\n",
    "    return torch.Tensor(output)\n",
    "\n",
    "# clip_start and clip_end are the times of the BDD-X Sample\n",
    "#   e.g., the first sample for video [0] has clip_start=0, clip_end=11\n",
    "def get_frames(clip,clip_start,clip_end,frame_count=16,clip_len=1):\n",
    "    output = []\n",
    "    for i in range(clip_start,clip_end,clip_len):\n",
    "        output.append( sample_frames(clip,t=i,count=frame_count,clip_len=clip_len).unsqueeze(0) )\n",
    "    return output\n",
    "        \n",
    "\n",
    "url = \"https://s3-us-west-2.amazonaws.com/sq8geewpqu/samples-1k/06d501fd-a9ffc960.mov\"\n",
    "clip = mp.VideoFileClip(url,target_resolution=[112,112])\n",
    "# get_frames(.) returns a list, where each element is 16 frames chosen uniformly across a 1-second subclip\n",
    "#   Each element of nn_inputs should be put through the network and then fed into the Transformer to find an\n",
    "#   overall representation of the clip\n",
    "nn_inputs = get_frames(clip,0,11)\n",
    "print(len(nn_inputs))\n",
    "print(nn_inputs[-1].shape)\n"
   ]
  },
  {
   "cell_type": "markdown",
   "metadata": {},
   "source": [
    "# Run video through the model"
   ]
  },
  {
   "cell_type": "code",
   "execution_count": 7,
   "metadata": {},
   "outputs": [],
   "source": [
    "output = MODEL.predict(nn_inputs[0])"
   ]
  },
  {
   "cell_type": "code",
   "execution_count": 8,
   "metadata": {},
   "outputs": [
    {
     "name": "stdout",
     "output_type": "stream",
     "text": [
      "[[0.01433312 0.         0.         ... 0.         0.         0.07065101]]\n",
      "(1, 4096)\n"
     ]
    }
   ],
   "source": [
    "print(output)\n",
    "print(output.shape)"
   ]
  },
  {
   "cell_type": "markdown",
   "metadata": {},
   "source": [
    "# Full pipeline\n",
    "## Extract C3D Features for each clip in BDDX"
   ]
  },
  {
   "cell_type": "code",
   "execution_count": 1,
   "metadata": {},
   "outputs": [],
   "source": [
    "# Open CSV file\n",
    "import pandas as pd\n",
    "data_url = \"../revisedBDDX.csv\"\n",
    "def load_bddx_data(csv_name):\n",
    "    column_names = ['Index', 'InputVideo', '1S', '1E', '1A', '1J', '2S', '2E', '2A', '2J', '3S', '3E', '3A', '3J',\n",
    "                    '4S', '4E', '4A', '4J','5S', '5E', '5A', '5J','6S', '6E', '6A', '6J','7S', '7E', '7A', '7J',\n",
    "                    '8S', '8E', '8A', '8J','9S', '9E', '9A', '9J','10S', '10E', '10A', '10J','11S', '11E', '11A', '11J',\n",
    "                    '12S', '12E', '12A', '12J','13S', '13E', '13A', '13J','14S', '14E', '14A', '14J','15S', '15E', '15A', '15J']\n",
    "    \n",
    "    return pd.read_csv(csv_name, names=column_names)\n",
    "\n",
    "bddx = load_bddx_data(data_url)\n",
    "bddx = bddx.drop(bddx.index[0])"
   ]
  },
  {
   "cell_type": "code",
   "execution_count": 33,
   "metadata": {},
   "outputs": [
    {
     "name": "stdout",
     "output_type": "stream",
     "text": [
      "(11, 4096)\n",
      "[[0.01433312 0.         0.         ... 0.         0.         0.07065101]\n",
      " [0.01486513 0.         0.         ... 0.         0.         0.07457145]\n",
      " [0.01166258 0.         0.         ... 0.         0.         0.10145477]\n",
      " ...\n",
      " [0.00248984 0.         0.         ... 0.00125599 0.         0.02231222]\n",
      " [0.         0.         0.         ... 0.0087162  0.         0.00646217]\n",
      " [0.         0.         0.         ... 0.         0.         0.06207535]]\n"
     ]
    }
   ],
   "source": [
    "# Author's Note: I have never run this code. I know it works, but I'm not sure if the entire feature_vectors array\n",
    "#   will fit into memory or not. Try this at your own risk.\n",
    "\n",
    "from math import isnan\n",
    "\n",
    "vector_size = 4096\n",
    "feature_vectors = []\n",
    "\n",
    "cnt = 0\n",
    "for index,row in bddx.iterrows():\n",
    "    url = row['InputVideo']\n",
    "    #clip = mp.VideoFileClip(url,target_resolution=[112,112])\n",
    "    for i in range(1,16):\n",
    "        start = int(row['%iS'%(i)])\n",
    "        finish = int(row['%iE'%(i)])\n",
    "        if isnan(start) or isnan(finish):\n",
    "            continue\n",
    "        if finish == start: # Some clips have same start and finish times; avoid 0-second clips\n",
    "            finish+=1\n",
    "        nn_inputs = get_frames(clip,start,finish)\n",
    "        vectors = np.zeros((finish-start,vector_size))\n",
    "        for j,nn_input in enumerate(nn_inputs):\n",
    "            vectors[j] = MODEL.predict(nn_input)\n",
    "        feature_vectors.append(vectors)\n",
    "    \n",
    "print(len(feature_vectors))\n",
    "print(feature_vectors[0].shape)\n"
   ]
  },
  {
   "cell_type": "code",
   "execution_count": null,
   "metadata": {},
   "outputs": [],
   "source": []
  }
 ],
 "metadata": {
  "kernelspec": {
   "display_name": "Python 3",
   "language": "python",
   "name": "python3"
  },
  "language_info": {
   "codemirror_mode": {
    "name": "ipython",
    "version": 3
   },
   "file_extension": ".py",
   "mimetype": "text/x-python",
   "name": "python",
   "nbconvert_exporter": "python",
   "pygments_lexer": "ipython3",
   "version": "3.6.7"
  }
 },
 "nbformat": 4,
 "nbformat_minor": 2
}
