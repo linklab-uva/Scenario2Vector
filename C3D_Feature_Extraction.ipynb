{
  "nbformat": 4,
  "nbformat_minor": 0,
  "metadata": {
    "kernelspec": {
      "display_name": "Python 3",
      "language": "python",
      "name": "python3"
    },
    "language_info": {
      "codemirror_mode": {
        "name": "ipython",
        "version": 3
      },
      "file_extension": ".py",
      "mimetype": "text/x-python",
      "name": "python",
      "nbconvert_exporter": "python",
      "pygments_lexer": "ipython3",
      "version": "3.6.7"
    },
    "colab": {
      "name": "C3D_Feature_Extraction.ipynb",
      "provenance": [],
      "toc_visible": true
    },
    "accelerator": "GPU"
  },
  "cells": [
    {
      "cell_type": "markdown",
      "metadata": {
        "id": "ZGCMpqBB6hW_"
      },
      "source": [
        "Code to extract C3D Features from the videos in the BDDX Dataset\n",
        "\n",
        "This code is based on the C3D Implementation found at https://github.com/karolzak/conv3d-video-action-recognition"
      ]
    },
    {
      "cell_type": "markdown",
      "metadata": {
        "id": "D4s8vHYg6hXM"
      },
      "source": [
        "# C3D Model"
      ]
    },
    {
      "cell_type": "code",
      "metadata": {
        "colab": {
          "base_uri": "https://localhost:8080/"
        },
        "id": "L9bzX-tHHQFj",
        "outputId": "0f600e66-1e9b-43c2-d575-8d1c9437bf13"
      },
      "source": [
        "!git clone https://github.com/karolzak/conv3d-video-action-recognition.git"
      ],
      "execution_count": 1,
      "outputs": [
        {
          "output_type": "stream",
          "text": [
            "Cloning into 'conv3d-video-action-recognition'...\n",
            "remote: Enumerating objects: 125, done.\u001b[K\n",
            "remote: Counting objects: 100% (125/125), done.\u001b[K\n",
            "remote: Compressing objects: 100% (78/78), done.\u001b[K\n",
            "remote: Total 125 (delta 62), reused 99 (delta 40), pack-reused 0\u001b[K\n",
            "Receiving objects: 100% (125/125), 1.83 MiB | 29.32 MiB/s, done.\n",
            "Resolving deltas: 100% (62/62), done.\n"
          ],
          "name": "stdout"
        }
      ]
    },
    {
      "cell_type": "code",
      "metadata": {
        "colab": {
          "base_uri": "https://localhost:8080/"
        },
        "id": "Kd0cXe1CHVmI",
        "outputId": "3fdcc3cb-ad01-4634-cf86-97f058725b73"
      },
      "source": [
        "!pip install pipe\n",
        "!pip install mPyPl"
      ],
      "execution_count": 2,
      "outputs": [
        {
          "output_type": "stream",
          "text": [
            "Collecting pipe\n",
            "  Downloading https://files.pythonhosted.org/packages/50/aa/2c7d8e1131d709d009deb9919c29ee8b1e1b2997034cbd4a440fddbf1d3e/pipe-1.6.0-py2.py3-none-any.whl\n",
            "Installing collected packages: pipe\n",
            "Successfully installed pipe-1.6.0\n",
            "Collecting mPyPl\n",
            "  Downloading https://files.pythonhosted.org/packages/a5/e0/4338997e7523bb31d664127d912c849f8781e8d5f6e7a5db9aaa38ef98cb/mPyPl-0.0.3.8-py3-none-any.whl\n",
            "Requirement already satisfied: matplotlib in /usr/local/lib/python3.6/dist-packages (from mPyPl) (3.2.2)\n",
            "Requirement already satisfied: pipe>=1.5.0 in /usr/local/lib/python3.6/dist-packages (from mPyPl) (1.6.0)\n",
            "Requirement already satisfied: keras in /usr/local/lib/python3.6/dist-packages (from mPyPl) (2.4.3)\n",
            "Requirement already satisfied: numpy>=1.11 in /usr/local/lib/python3.6/dist-packages (from mPyPl) (1.19.5)\n",
            "Requirement already satisfied: opencv-python in /usr/local/lib/python3.6/dist-packages (from mPyPl) (4.1.2.30)\n",
            "Requirement already satisfied: cycler>=0.10 in /usr/local/lib/python3.6/dist-packages (from matplotlib->mPyPl) (0.10.0)\n",
            "Requirement already satisfied: kiwisolver>=1.0.1 in /usr/local/lib/python3.6/dist-packages (from matplotlib->mPyPl) (1.3.1)\n",
            "Requirement already satisfied: pyparsing!=2.0.4,!=2.1.2,!=2.1.6,>=2.0.1 in /usr/local/lib/python3.6/dist-packages (from matplotlib->mPyPl) (2.4.7)\n",
            "Requirement already satisfied: python-dateutil>=2.1 in /usr/local/lib/python3.6/dist-packages (from matplotlib->mPyPl) (2.8.1)\n",
            "Requirement already satisfied: pyyaml in /usr/local/lib/python3.6/dist-packages (from keras->mPyPl) (3.13)\n",
            "Requirement already satisfied: scipy>=0.14 in /usr/local/lib/python3.6/dist-packages (from keras->mPyPl) (1.4.1)\n",
            "Requirement already satisfied: h5py in /usr/local/lib/python3.6/dist-packages (from keras->mPyPl) (2.10.0)\n",
            "Requirement already satisfied: six in /usr/local/lib/python3.6/dist-packages (from cycler>=0.10->matplotlib->mPyPl) (1.15.0)\n",
            "Installing collected packages: mPyPl\n",
            "Successfully installed mPyPl-0.0.3.8\n"
          ],
          "name": "stdout"
        }
      ]
    },
    {
      "cell_type": "code",
      "metadata": {
        "id": "vpo1aap56hXX"
      },
      "source": [
        "c3d_dir = \"conv3d-video-action-recognition\""
      ],
      "execution_count": 3,
      "outputs": []
    },
    {
      "cell_type": "code",
      "metadata": {
        "colab": {
          "base_uri": "https://localhost:8080/"
        },
        "id": "uFzWJDKO6hXZ",
        "outputId": "477d5f88-c32a-46ca-f82a-65ce942566d0"
      },
      "source": [
        "%run {c3d_dir}/python/data_prep.py\n",
        "%run {c3d_dir}/python/mpypl_pipe_func.py\n",
        "%run {c3d_dir}/python/mpypl_pipes.py"
      ],
      "execution_count": 4,
      "outputs": [
        {
          "output_type": "stream",
          "text": [
            "Imageio: 'ffmpeg-linux64-v3.3.1' was not found on your computer; downloading it now.\n",
            "Try 1. Download from https://github.com/imageio/imageio-binaries/raw/master/ffmpeg/ffmpeg-linux64-v3.3.1 (43.8 MB)\n",
            "Downloading: 8192/45929032 bytes (0.0%)\b\b\b\b\b\b\b\b\b\b\b\b\b\b\b\b\b\b\b\b\b\b\b\b\b\b3588096/45929032 bytes (7.8%)\b\b\b\b\b\b\b\b\b\b\b\b\b\b\b\b\b\b\b\b\b\b\b\b\b\b\b\b\b7536640/45929032 bytes (16.4%)\b\b\b\b\b\b\b\b\b\b\b\b\b\b\b\b\b\b\b\b\b\b\b\b\b\b\b\b\b\b11788288/45929032 bytes (25.7%)\b\b\b\b\b\b\b\b\b\b\b\b\b\b\b\b\b\b\b\b\b\b\b\b\b\b\b\b\b\b\b15892480/45929032 bytes (34.6%)\b\b\b\b\b\b\b\b\b\b\b\b\b\b\b\b\b\b\b\b\b\b\b\b\b\b\b\b\b\b\b19865600/45929032 bytes (43.3%)\b\b\b\b\b\b\b\b\b\b\b\b\b\b\b\b\b\b\b\b\b\b\b\b\b\b\b\b\b\b\b23863296/45929032 bytes (52.0%)\b\b\b\b\b\b\b\b\b\b\b\b\b\b\b\b\b\b\b\b\b\b\b\b\b\b\b\b\b\b\b27746304/45929032 bytes (60.4%)\b\b\b\b\b\b\b\b\b\b\b\b\b\b\b\b\b\b\b\b\b\b\b\b\b\b\b\b\b\b\b31686656/45929032 bytes (69.0%)\b\b\b\b\b\b\b\b\b\b\b\b\b\b\b\b\b\b\b\b\b\b\b\b\b\b\b\b\b\b\b35446784/45929032 bytes (77.2%)\b\b\b\b\b\b\b\b\b\b\b\b\b\b\b\b\b\b\b\b\b\b\b\b\b\b\b\b\b\b\b39477248/45929032 bytes (86.0%)\b\b\b\b\b\b\b\b\b\b\b\b\b\b\b\b\b\b\b\b\b\b\b\b\b\b\b\b\b\b\b43491328/45929032 bytes (94.7%)\b\b\b\b\b\b\b\b\b\b\b\b\b\b\b\b\b\b\b\b\b\b\b\b\b\b\b\b\b\b\b45929032/45929032 bytes (100.0%)\n",
            "  Done\n",
            "File saved as /root/.imageio/ffmpeg/ffmpeg-linux64-v3.3.1.\n"
          ],
          "name": "stdout"
        }
      ]
    },
    {
      "cell_type": "code",
      "metadata": {
        "colab": {
          "base_uri": "https://localhost:8080/",
          "height": 494
        },
        "id": "0EA_b3ls6hXZ",
        "outputId": "685bae1a-28a7-43a4-f3eb-c0d51ba942ca"
      },
      "source": [
        "# C3D_model function\n",
        "%run {c3d_dir}/python/c3dmodel.py\n",
        "\n",
        "MODEL = get_video_descriptor(weights_path='%s/models/weights_C3D_sports1M_tf.h5'%(c3d_dir))"
      ],
      "execution_count": 5,
      "outputs": [
        {
          "output_type": "stream",
          "text": [
            "Loading Model Weights from conv3d-video-action-recognition/models/weights_C3D_sports1M_tf.h5\n"
          ],
          "name": "stdout"
        },
        {
          "output_type": "error",
          "ename": "OSError",
          "evalue": "ignored",
          "traceback": [
            "\u001b[0;31m---------------------------------------------------------------------------\u001b[0m",
            "\u001b[0;31mOSError\u001b[0m                                   Traceback (most recent call last)",
            "\u001b[0;32m<ipython-input-5-4c916d9ced1f>\u001b[0m in \u001b[0;36m<module>\u001b[0;34m()\u001b[0m\n\u001b[1;32m      2\u001b[0m \u001b[0mget_ipython\u001b[0m\u001b[0;34m(\u001b[0m\u001b[0;34m)\u001b[0m\u001b[0;34m.\u001b[0m\u001b[0mmagic\u001b[0m\u001b[0;34m(\u001b[0m\u001b[0;34m'run {c3d_dir}/python/c3dmodel.py'\u001b[0m\u001b[0;34m)\u001b[0m\u001b[0;34m\u001b[0m\u001b[0;34m\u001b[0m\u001b[0m\n\u001b[1;32m      3\u001b[0m \u001b[0;34m\u001b[0m\u001b[0m\n\u001b[0;32m----> 4\u001b[0;31m \u001b[0mMODEL\u001b[0m \u001b[0;34m=\u001b[0m \u001b[0mget_video_descriptor\u001b[0m\u001b[0;34m(\u001b[0m\u001b[0mweights_path\u001b[0m\u001b[0;34m=\u001b[0m\u001b[0;34m'%s/models/weights_C3D_sports1M_tf.h5'\u001b[0m\u001b[0;34m%\u001b[0m\u001b[0;34m(\u001b[0m\u001b[0mc3d_dir\u001b[0m\u001b[0;34m)\u001b[0m\u001b[0;34m)\u001b[0m\u001b[0;34m\u001b[0m\u001b[0;34m\u001b[0m\u001b[0m\n\u001b[0m",
            "\u001b[0;32m/content/conv3d-video-action-recognition/python/c3dmodel.py\u001b[0m in \u001b[0;36mget_video_descriptor\u001b[0;34m(weights_path)\u001b[0m\n\u001b[1;32m    106\u001b[0m         \u001b[0mKeras\u001b[0m \u001b[0mmodel\u001b[0m \u001b[0mthat\u001b[0m \u001b[0mcan\u001b[0m \u001b[0mbe\u001b[0m \u001b[0mused\u001b[0m \u001b[0;32mas\u001b[0m \u001b[0mvideo\u001b[0m \u001b[0mdescriptor\u001b[0m \u001b[0mto\u001b[0m \u001b[0mgenerate\u001b[0m \u001b[0mfeatures\u001b[0m\u001b[0;34m\u001b[0m\u001b[0;34m\u001b[0m\u001b[0m\n\u001b[1;32m    107\u001b[0m     \"\"\"\n\u001b[0;32m--> 108\u001b[0;31m     \u001b[0mmodel\u001b[0m \u001b[0;34m=\u001b[0m \u001b[0mC3D_model\u001b[0m\u001b[0;34m(\u001b[0m\u001b[0mweights_path\u001b[0m\u001b[0;34m=\u001b[0m\u001b[0mweights_path\u001b[0m\u001b[0;34m,\u001b[0m \u001b[0mnum_layers_remove\u001b[0m\u001b[0;34m=\u001b[0m\u001b[0;36m3\u001b[0m\u001b[0;34m)\u001b[0m\u001b[0;34m\u001b[0m\u001b[0;34m\u001b[0m\u001b[0m\n\u001b[0m\u001b[1;32m    109\u001b[0m     \u001b[0mmodel\u001b[0m\u001b[0;34m.\u001b[0m\u001b[0madd\u001b[0m\u001b[0;34m(\u001b[0m\u001b[0mLambda\u001b[0m\u001b[0;34m(\u001b[0m\u001b[0;32mlambda\u001b[0m  \u001b[0mx\u001b[0m\u001b[0;34m:\u001b[0m \u001b[0mK\u001b[0m\u001b[0;34m.\u001b[0m\u001b[0ml2_normalize\u001b[0m\u001b[0;34m(\u001b[0m\u001b[0mx\u001b[0m\u001b[0;34m,\u001b[0m \u001b[0maxis\u001b[0m\u001b[0;34m=\u001b[0m\u001b[0;36m1\u001b[0m\u001b[0;34m)\u001b[0m\u001b[0;34m)\u001b[0m\u001b[0;34m)\u001b[0m\u001b[0;34m\u001b[0m\u001b[0;34m\u001b[0m\u001b[0m\n\u001b[1;32m    110\u001b[0m     \u001b[0;32mreturn\u001b[0m \u001b[0mmodel\u001b[0m\u001b[0;34m\u001b[0m\u001b[0;34m\u001b[0m\u001b[0m\n",
            "\u001b[0;32m/content/conv3d-video-action-recognition/python/c3dmodel.py\u001b[0m in \u001b[0;36mC3D_model\u001b[0;34m(weights_path, summary, trainable, num_layers_remove)\u001b[0m\n\u001b[1;32m     75\u001b[0m     \u001b[0;32mif\u001b[0m \u001b[0mweights_path\u001b[0m\u001b[0;34m:\u001b[0m\u001b[0;34m\u001b[0m\u001b[0;34m\u001b[0m\u001b[0m\n\u001b[1;32m     76\u001b[0m         \u001b[0mprint\u001b[0m\u001b[0;34m(\u001b[0m\u001b[0;34m'Loading Model Weights from %s'\u001b[0m \u001b[0;34m%\u001b[0m \u001b[0mweights_path\u001b[0m\u001b[0;34m)\u001b[0m\u001b[0;34m\u001b[0m\u001b[0;34m\u001b[0m\u001b[0m\n\u001b[0;32m---> 77\u001b[0;31m         \u001b[0mmodel\u001b[0m\u001b[0;34m.\u001b[0m\u001b[0mload_weights\u001b[0m\u001b[0;34m(\u001b[0m\u001b[0mweights_path\u001b[0m\u001b[0;34m)\u001b[0m\u001b[0;34m\u001b[0m\u001b[0;34m\u001b[0m\u001b[0m\n\u001b[0m\u001b[1;32m     78\u001b[0m \u001b[0;34m\u001b[0m\u001b[0m\n\u001b[1;32m     79\u001b[0m     \u001b[0;32mif\u001b[0m \u001b[0mnum_layers_remove\u001b[0m \u001b[0;34m>\u001b[0m \u001b[0;36m0\u001b[0m\u001b[0;34m:\u001b[0m\u001b[0;34m\u001b[0m\u001b[0;34m\u001b[0m\u001b[0m\n",
            "\u001b[0;32m/usr/local/lib/python3.6/dist-packages/tensorflow/python/keras/engine/training.py\u001b[0m in \u001b[0;36mload_weights\u001b[0;34m(self, filepath, by_name, skip_mismatch, options)\u001b[0m\n\u001b[1;32m   2225\u001b[0m           'first, then load the weights.')\n\u001b[1;32m   2226\u001b[0m     \u001b[0mself\u001b[0m\u001b[0;34m.\u001b[0m\u001b[0m_assert_weights_created\u001b[0m\u001b[0;34m(\u001b[0m\u001b[0;34m)\u001b[0m\u001b[0;34m\u001b[0m\u001b[0;34m\u001b[0m\u001b[0m\n\u001b[0;32m-> 2227\u001b[0;31m     \u001b[0;32mwith\u001b[0m \u001b[0mh5py\u001b[0m\u001b[0;34m.\u001b[0m\u001b[0mFile\u001b[0m\u001b[0;34m(\u001b[0m\u001b[0mfilepath\u001b[0m\u001b[0;34m,\u001b[0m \u001b[0;34m'r'\u001b[0m\u001b[0;34m)\u001b[0m \u001b[0;32mas\u001b[0m \u001b[0mf\u001b[0m\u001b[0;34m:\u001b[0m\u001b[0;34m\u001b[0m\u001b[0;34m\u001b[0m\u001b[0m\n\u001b[0m\u001b[1;32m   2228\u001b[0m       \u001b[0;32mif\u001b[0m \u001b[0;34m'layer_names'\u001b[0m \u001b[0;32mnot\u001b[0m \u001b[0;32min\u001b[0m \u001b[0mf\u001b[0m\u001b[0;34m.\u001b[0m\u001b[0mattrs\u001b[0m \u001b[0;32mand\u001b[0m \u001b[0;34m'model_weights'\u001b[0m \u001b[0;32min\u001b[0m \u001b[0mf\u001b[0m\u001b[0;34m:\u001b[0m\u001b[0;34m\u001b[0m\u001b[0;34m\u001b[0m\u001b[0m\n\u001b[1;32m   2229\u001b[0m         \u001b[0mf\u001b[0m \u001b[0;34m=\u001b[0m \u001b[0mf\u001b[0m\u001b[0;34m[\u001b[0m\u001b[0;34m'model_weights'\u001b[0m\u001b[0;34m]\u001b[0m\u001b[0;34m\u001b[0m\u001b[0;34m\u001b[0m\u001b[0m\n",
            "\u001b[0;32m/usr/local/lib/python3.6/dist-packages/h5py/_hl/files.py\u001b[0m in \u001b[0;36m__init__\u001b[0;34m(self, name, mode, driver, libver, userblock_size, swmr, rdcc_nslots, rdcc_nbytes, rdcc_w0, track_order, **kwds)\u001b[0m\n\u001b[1;32m    406\u001b[0m                 fid = make_fid(name, mode, userblock_size,\n\u001b[1;32m    407\u001b[0m                                \u001b[0mfapl\u001b[0m\u001b[0;34m,\u001b[0m \u001b[0mfcpl\u001b[0m\u001b[0;34m=\u001b[0m\u001b[0mmake_fcpl\u001b[0m\u001b[0;34m(\u001b[0m\u001b[0mtrack_order\u001b[0m\u001b[0;34m=\u001b[0m\u001b[0mtrack_order\u001b[0m\u001b[0;34m)\u001b[0m\u001b[0;34m,\u001b[0m\u001b[0;34m\u001b[0m\u001b[0;34m\u001b[0m\u001b[0m\n\u001b[0;32m--> 408\u001b[0;31m                                swmr=swmr)\n\u001b[0m\u001b[1;32m    409\u001b[0m \u001b[0;34m\u001b[0m\u001b[0m\n\u001b[1;32m    410\u001b[0m             \u001b[0;32mif\u001b[0m \u001b[0misinstance\u001b[0m\u001b[0;34m(\u001b[0m\u001b[0mlibver\u001b[0m\u001b[0;34m,\u001b[0m \u001b[0mtuple\u001b[0m\u001b[0;34m)\u001b[0m\u001b[0;34m:\u001b[0m\u001b[0;34m\u001b[0m\u001b[0;34m\u001b[0m\u001b[0m\n",
            "\u001b[0;32m/usr/local/lib/python3.6/dist-packages/h5py/_hl/files.py\u001b[0m in \u001b[0;36mmake_fid\u001b[0;34m(name, mode, userblock_size, fapl, fcpl, swmr)\u001b[0m\n\u001b[1;32m    171\u001b[0m         \u001b[0;32mif\u001b[0m \u001b[0mswmr\u001b[0m \u001b[0;32mand\u001b[0m \u001b[0mswmr_support\u001b[0m\u001b[0;34m:\u001b[0m\u001b[0;34m\u001b[0m\u001b[0;34m\u001b[0m\u001b[0m\n\u001b[1;32m    172\u001b[0m             \u001b[0mflags\u001b[0m \u001b[0;34m|=\u001b[0m \u001b[0mh5f\u001b[0m\u001b[0;34m.\u001b[0m\u001b[0mACC_SWMR_READ\u001b[0m\u001b[0;34m\u001b[0m\u001b[0;34m\u001b[0m\u001b[0m\n\u001b[0;32m--> 173\u001b[0;31m         \u001b[0mfid\u001b[0m \u001b[0;34m=\u001b[0m \u001b[0mh5f\u001b[0m\u001b[0;34m.\u001b[0m\u001b[0mopen\u001b[0m\u001b[0;34m(\u001b[0m\u001b[0mname\u001b[0m\u001b[0;34m,\u001b[0m \u001b[0mflags\u001b[0m\u001b[0;34m,\u001b[0m \u001b[0mfapl\u001b[0m\u001b[0;34m=\u001b[0m\u001b[0mfapl\u001b[0m\u001b[0;34m)\u001b[0m\u001b[0;34m\u001b[0m\u001b[0;34m\u001b[0m\u001b[0m\n\u001b[0m\u001b[1;32m    174\u001b[0m     \u001b[0;32melif\u001b[0m \u001b[0mmode\u001b[0m \u001b[0;34m==\u001b[0m \u001b[0;34m'r+'\u001b[0m\u001b[0;34m:\u001b[0m\u001b[0;34m\u001b[0m\u001b[0;34m\u001b[0m\u001b[0m\n\u001b[1;32m    175\u001b[0m         \u001b[0mfid\u001b[0m \u001b[0;34m=\u001b[0m \u001b[0mh5f\u001b[0m\u001b[0;34m.\u001b[0m\u001b[0mopen\u001b[0m\u001b[0;34m(\u001b[0m\u001b[0mname\u001b[0m\u001b[0;34m,\u001b[0m \u001b[0mh5f\u001b[0m\u001b[0;34m.\u001b[0m\u001b[0mACC_RDWR\u001b[0m\u001b[0;34m,\u001b[0m \u001b[0mfapl\u001b[0m\u001b[0;34m=\u001b[0m\u001b[0mfapl\u001b[0m\u001b[0;34m)\u001b[0m\u001b[0;34m\u001b[0m\u001b[0;34m\u001b[0m\u001b[0m\n",
            "\u001b[0;32mh5py/_objects.pyx\u001b[0m in \u001b[0;36mh5py._objects.with_phil.wrapper\u001b[0;34m()\u001b[0m\n",
            "\u001b[0;32mh5py/_objects.pyx\u001b[0m in \u001b[0;36mh5py._objects.with_phil.wrapper\u001b[0;34m()\u001b[0m\n",
            "\u001b[0;32mh5py/h5f.pyx\u001b[0m in \u001b[0;36mh5py.h5f.open\u001b[0;34m()\u001b[0m\n",
            "\u001b[0;31mOSError\u001b[0m: Unable to open file (unable to open file: name = 'conv3d-video-action-recognition/models/weights_C3D_sports1M_tf.h5', errno = 2, error message = 'No such file or directory', flags = 0, o_flags = 0)"
          ]
        }
      ]
    },
    {
      "cell_type": "code",
      "metadata": {
        "id": "5tE9T4T96hXa",
        "outputId": "65c422c6-bc6a-4a7c-80c2-f4e664a95304"
      },
      "source": [
        "\"\"\"\n",
        "The input to this model is 16 frames, in the shape of (batch,16,112,112,3)\n",
        "\"\"\"\n",
        "\n",
        "MODEL.summary()"
      ],
      "execution_count": null,
      "outputs": [
        {
          "output_type": "stream",
          "text": [
            "_________________________________________________________________\n",
            "Layer (type)                 Output Shape              Param #   \n",
            "=================================================================\n",
            "conv1 (Conv3D)               (None, 16, 112, 112, 64)  5248      \n",
            "_________________________________________________________________\n",
            "pool1 (MaxPooling3D)         (None, 16, 56, 56, 64)    0         \n",
            "_________________________________________________________________\n",
            "conv2 (Conv3D)               (None, 16, 56, 56, 128)   221312    \n",
            "_________________________________________________________________\n",
            "pool2 (MaxPooling3D)         (None, 8, 28, 28, 128)    0         \n",
            "_________________________________________________________________\n",
            "conv3a (Conv3D)              (None, 8, 28, 28, 256)    884992    \n",
            "_________________________________________________________________\n",
            "conv3b (Conv3D)              (None, 8, 28, 28, 256)    1769728   \n",
            "_________________________________________________________________\n",
            "pool3 (MaxPooling3D)         (None, 4, 14, 14, 256)    0         \n",
            "_________________________________________________________________\n",
            "conv4a (Conv3D)              (None, 4, 14, 14, 512)    3539456   \n",
            "_________________________________________________________________\n",
            "conv4b (Conv3D)              (None, 4, 14, 14, 512)    7078400   \n",
            "_________________________________________________________________\n",
            "pool4 (MaxPooling3D)         (None, 2, 7, 7, 512)      0         \n",
            "_________________________________________________________________\n",
            "conv5a (Conv3D)              (None, 2, 7, 7, 512)      7078400   \n",
            "_________________________________________________________________\n",
            "conv5b (Conv3D)              (None, 2, 7, 7, 512)      7078400   \n",
            "_________________________________________________________________\n",
            "zero_padding3d_1 (ZeroPaddin (None, 2, 9, 9, 512)      0         \n",
            "_________________________________________________________________\n",
            "pool5 (MaxPooling3D)         (None, 1, 4, 4, 512)      0         \n",
            "_________________________________________________________________\n",
            "flatten_1 (Flatten)          (None, 8192)              0         \n",
            "_________________________________________________________________\n",
            "fc6 (Dense)                  (None, 4096)              33558528  \n",
            "_________________________________________________________________\n",
            "dropout_1 (Dropout)          (None, 4096)              0         \n",
            "_________________________________________________________________\n",
            "lambda_1 (Lambda)            (None, 4096)              0         \n",
            "=================================================================\n",
            "Total params: 61,214,464\n",
            "Trainable params: 61,214,464\n",
            "Non-trainable params: 0\n",
            "_________________________________________________________________\n"
          ],
          "name": "stdout"
        }
      ]
    },
    {
      "cell_type": "markdown",
      "metadata": {
        "id": "yyDNnWEF6hXb"
      },
      "source": [
        "# Get video frames"
      ]
    },
    {
      "cell_type": "code",
      "metadata": {
        "id": "jXpbL3WT6hXc",
        "outputId": "8ba35601-a1c9-4cef-8659-f365ad10709c"
      },
      "source": [
        "import moviepy.editor as mp\n",
        "import torch\n",
        "\n",
        "# t is the time of the first frame\n",
        "# count is the number of frames\n",
        "# clip_len is the number of seconds of the subclip\n",
        "def sample_frames(clip,t=0,count=16,clip_len=1):\n",
        "    output = []\n",
        "    for i in range(count):\n",
        "        time = t+clip_len*(i/count) # Sample at equal intervals across the subclip\n",
        "        frame = clip.get_frame(time) # Grab the frame at the specified time\n",
        "        output.append(frame)\n",
        "    return torch.Tensor(output)\n",
        "\n",
        "# clip_start and clip_end are the times of the BDD-X Sample\n",
        "#   e.g., the first sample for video [0] has clip_start=0, clip_end=11\n",
        "def get_frames(clip,clip_start,clip_end,frame_count=16,clip_len=1):\n",
        "    output = []\n",
        "    for i in range(clip_start,clip_end,clip_len):\n",
        "        output.append( sample_frames(clip,t=i,count=frame_count,clip_len=clip_len).unsqueeze(0) )\n",
        "    return output\n",
        "        \n",
        "\n",
        "url = \"https://s3-us-west-2.amazonaws.com/sq8geewpqu/samples-1k/06d501fd-a9ffc960.mov\"\n",
        "clip = mp.VideoFileClip(url,target_resolution=[112,112])\n",
        "# get_frames(.) returns a list, where each element is 16 frames chosen uniformly across a 1-second subclip\n",
        "#   Each element of nn_inputs should be put through the network and then fed into the Transformer to find an\n",
        "#   overall representation of the clip\n",
        "nn_inputs = get_frames(clip,0,11)\n",
        "print(len(nn_inputs))\n",
        "print(nn_inputs[-1].shape)\n"
      ],
      "execution_count": null,
      "outputs": [
        {
          "output_type": "stream",
          "text": [
            "11\n",
            "torch.Size([1, 16, 112, 112, 3])\n"
          ],
          "name": "stdout"
        }
      ]
    },
    {
      "cell_type": "markdown",
      "metadata": {
        "id": "yDynlK9W6hXc"
      },
      "source": [
        "# Run video through the model"
      ]
    },
    {
      "cell_type": "code",
      "metadata": {
        "id": "ckHCOy386hXc"
      },
      "source": [
        "output = MODEL.predict(nn_inputs[0])"
      ],
      "execution_count": null,
      "outputs": []
    },
    {
      "cell_type": "code",
      "metadata": {
        "id": "GCcvxY_-6hXd",
        "outputId": "9c136111-da37-42dd-d6e4-28af489fe945"
      },
      "source": [
        "print(output)\n",
        "print(output.shape)"
      ],
      "execution_count": null,
      "outputs": [
        {
          "output_type": "stream",
          "text": [
            "[[0.01433312 0.         0.         ... 0.         0.         0.07065101]]\n",
            "(1, 4096)\n"
          ],
          "name": "stdout"
        }
      ]
    },
    {
      "cell_type": "markdown",
      "metadata": {
        "id": "EAIk7mZE_MNi"
      },
      "source": [
        "# Text Features "
      ]
    },
    {
      "cell_type": "code",
      "metadata": {
        "id": "_A5CQica-1c6"
      },
      "source": [
        "import pandas as pd # Pandas library enables data manipulation\n",
        "data_url = \"https://raw.githubusercontent.com/linklab-uva/Scenario2Vector/master/BDDX.csv?token=AH3QIX4XTFNXLYCT2FEQHILAEBCMS\"\n",
        "def load_bddx_data(csv_name):\n",
        "    column_names = ['Index', 'InputVideo', '1S', '1E', '1A', '1J', '2S', '2E', '2A', '2J', '3S', '3E', '3A', '3J',\n",
        "                    '4S', '4E', '4A', '4J','5S', '5E', '5A', '5J','6S', '6E', '6A', '6J','7S', '7E', '7A', '7J',\n",
        "                    '8S', '8E', '8A', '8J','9S', '9E', '9A', '9J','10S', '10E', '10A', '10J','11S', '11E', '11A', '11J',\n",
        "                    '12S', '12E', '12A', '12J','13S', '13E', '13A', '13J','14S', '14E', '14A', '14J','15S', '15E', '15A', '15J']\n",
        "    \n",
        "    return pd.read_csv(csv_name, names=column_names)\n",
        "bddx = load_bddx_data(data_url)\n",
        "bddx = bddx.drop(['1S', '1E','2S', '2E','3S', '3E','4S', '4E','5S', '5E','6S', '6E','7S', '7E','8S', '8E','9S', '9E','10S', '10E','11S', '11E','12S', '12E','13S', '13E','14S', '14E','15S', '15E', ], axis=1)\n",
        "bddx = bddx.fillna(\"\")\n",
        "\n",
        "bddx['1AJ'] = bddx[['1A', '1J']].agg(' '.join, axis=1)\n",
        "bddx['2AJ'] = bddx[['2A', '2J']].agg(' '.join, axis=1)\n",
        "bddx['3AJ'] = bddx[['3A', '3J']].agg(' '.join, axis=1)\n",
        "bddx['4AJ'] = bddx[['4A', '4J']].agg(' '.join, axis=1)\n",
        "bddx['5AJ'] = bddx[['5A', '5J']].agg(' '.join, axis=1)\n",
        "bddx['6AJ'] = bddx[['6A', '6J']].agg(' '.join, axis=1)\n",
        "bddx['7AJ'] = bddx[['7A', '7J']].agg(' '.join, axis=1)\n",
        "bddx['8AJ'] = bddx[['8A', '8J']].agg(' '.join, axis=1)\n",
        "bddx['9AJ'] = bddx[['9A', '9J']].agg(' '.join, axis=1)\n",
        "bddx['10AJ'] = bddx[['10A', '10J']].agg(' '.join, axis=1)\n",
        "bddx['11AJ'] = bddx[['11A', '11J']].agg(' '.join, axis=1)\n",
        "bddx['12AJ'] = bddx[['12A', '12J']].agg(' '.join, axis=1)\n",
        "bddx['13AJ'] = bddx[['13A', '13J']].agg(' '.join, axis=1)\n",
        "bddx['14AJ'] = bddx[['14A', '14J']].agg(' '.join, axis=1)\n",
        "bddx['15AJ'] = bddx[['15A', '15J']].agg(' '.join, axis=1)\n",
        "\n",
        "bddx = bddx.drop(['Index', '1A', '1J', '2A', '2J', '3A', '3J', '4A', '4J', '5A', '5J', '6A', '6J', '7A', '7J', '8A', '8J', '9A', '9J', '10A', '10J', '11A', '11J', '12A', '12J', '13A', '13J', '14A', '14J', '15A', '15J', ], axis=1)\n",
        "bddx = bddx.drop(bddx.index[0])"
      ],
      "execution_count": 6,
      "outputs": []
    },
    {
      "cell_type": "code",
      "metadata": {
        "colab": {
          "base_uri": "https://localhost:8080/"
        },
        "id": "uOORy2hkB4AZ",
        "outputId": "6b8eb8b5-d255-4f9a-b711-3d1500dab31a"
      },
      "source": [
        "x = bddx.iloc[0]['6AJ']\n",
        "print(x==' ')"
      ],
      "execution_count": 7,
      "outputs": [
        {
          "output_type": "stream",
          "text": [
            "True\n"
          ],
          "name": "stdout"
        }
      ]
    },
    {
      "cell_type": "code",
      "metadata": {
        "id": "GSnzb73vAZZZ"
      },
      "source": [
        "urls_captions = {}\n",
        "\n",
        "for index, col in bddx.iterrows():\n",
        "    urls_captions[col['InputVideo']] = []\n",
        "    for i in range(1,16):\n",
        "        col_name = str(i)+'AJ'\n",
        "        if col[col_name] != ' ':\n",
        "            urls_captions[col['InputVideo']].append(col[col_name])\n",
        "            \n"
      ],
      "execution_count": 8,
      "outputs": []
    },
    {
      "cell_type": "code",
      "metadata": {
        "id": "fKVBoNTADihC"
      },
      "source": [
        "import itertools\n",
        "captions_dict = list(urls_captions.values())\n",
        "captions_list = (list(itertools.chain.from_iterable(captions_dict)))"
      ],
      "execution_count": 9,
      "outputs": []
    },
    {
      "cell_type": "code",
      "metadata": {
        "colab": {
          "base_uri": "https://localhost:8080/"
        },
        "id": "xDBsAFc8FD0j",
        "outputId": "e49dd5cb-0012-4c00-bcf8-14dbd2c8c4aa"
      },
      "source": [
        "!pip install transformers"
      ],
      "execution_count": 10,
      "outputs": [
        {
          "output_type": "stream",
          "text": [
            "Collecting transformers\n",
            "\u001b[?25l  Downloading https://files.pythonhosted.org/packages/88/b1/41130a228dd656a1a31ba281598a968320283f48d42782845f6ba567f00b/transformers-4.2.2-py3-none-any.whl (1.8MB)\n",
            "\r\u001b[K     |▏                               | 10kB 21.9MB/s eta 0:00:01\r\u001b[K     |▍                               | 20kB 27.9MB/s eta 0:00:01\r\u001b[K     |▋                               | 30kB 24.7MB/s eta 0:00:01\r\u001b[K     |▊                               | 40kB 28.2MB/s eta 0:00:01\r\u001b[K     |█                               | 51kB 26.0MB/s eta 0:00:01\r\u001b[K     |█▏                              | 61kB 28.6MB/s eta 0:00:01\r\u001b[K     |█▎                              | 71kB 18.4MB/s eta 0:00:01\r\u001b[K     |█▌                              | 81kB 19.7MB/s eta 0:00:01\r\u001b[K     |█▊                              | 92kB 18.3MB/s eta 0:00:01\r\u001b[K     |█▉                              | 102kB 18.3MB/s eta 0:00:01\r\u001b[K     |██                              | 112kB 18.3MB/s eta 0:00:01\r\u001b[K     |██▎                             | 122kB 18.3MB/s eta 0:00:01\r\u001b[K     |██▍                             | 133kB 18.3MB/s eta 0:00:01\r\u001b[K     |██▋                             | 143kB 18.3MB/s eta 0:00:01\r\u001b[K     |██▉                             | 153kB 18.3MB/s eta 0:00:01\r\u001b[K     |███                             | 163kB 18.3MB/s eta 0:00:01\r\u001b[K     |███▏                            | 174kB 18.3MB/s eta 0:00:01\r\u001b[K     |███▍                            | 184kB 18.3MB/s eta 0:00:01\r\u001b[K     |███▌                            | 194kB 18.3MB/s eta 0:00:01\r\u001b[K     |███▊                            | 204kB 18.3MB/s eta 0:00:01\r\u001b[K     |████                            | 215kB 18.3MB/s eta 0:00:01\r\u001b[K     |████                            | 225kB 18.3MB/s eta 0:00:01\r\u001b[K     |████▎                           | 235kB 18.3MB/s eta 0:00:01\r\u001b[K     |████▌                           | 245kB 18.3MB/s eta 0:00:01\r\u001b[K     |████▋                           | 256kB 18.3MB/s eta 0:00:01\r\u001b[K     |████▉                           | 266kB 18.3MB/s eta 0:00:01\r\u001b[K     |█████                           | 276kB 18.3MB/s eta 0:00:01\r\u001b[K     |█████▏                          | 286kB 18.3MB/s eta 0:00:01\r\u001b[K     |█████▍                          | 296kB 18.3MB/s eta 0:00:01\r\u001b[K     |█████▋                          | 307kB 18.3MB/s eta 0:00:01\r\u001b[K     |█████▊                          | 317kB 18.3MB/s eta 0:00:01\r\u001b[K     |██████                          | 327kB 18.3MB/s eta 0:00:01\r\u001b[K     |██████▏                         | 337kB 18.3MB/s eta 0:00:01\r\u001b[K     |██████▎                         | 348kB 18.3MB/s eta 0:00:01\r\u001b[K     |██████▌                         | 358kB 18.3MB/s eta 0:00:01\r\u001b[K     |██████▊                         | 368kB 18.3MB/s eta 0:00:01\r\u001b[K     |██████▉                         | 378kB 18.3MB/s eta 0:00:01\r\u001b[K     |███████                         | 389kB 18.3MB/s eta 0:00:01\r\u001b[K     |███████▎                        | 399kB 18.3MB/s eta 0:00:01\r\u001b[K     |███████▍                        | 409kB 18.3MB/s eta 0:00:01\r\u001b[K     |███████▋                        | 419kB 18.3MB/s eta 0:00:01\r\u001b[K     |███████▉                        | 430kB 18.3MB/s eta 0:00:01\r\u001b[K     |████████                        | 440kB 18.3MB/s eta 0:00:01\r\u001b[K     |████████▏                       | 450kB 18.3MB/s eta 0:00:01\r\u001b[K     |████████▍                       | 460kB 18.3MB/s eta 0:00:01\r\u001b[K     |████████▌                       | 471kB 18.3MB/s eta 0:00:01\r\u001b[K     |████████▊                       | 481kB 18.3MB/s eta 0:00:01\r\u001b[K     |█████████                       | 491kB 18.3MB/s eta 0:00:01\r\u001b[K     |█████████                       | 501kB 18.3MB/s eta 0:00:01\r\u001b[K     |█████████▎                      | 512kB 18.3MB/s eta 0:00:01\r\u001b[K     |█████████▌                      | 522kB 18.3MB/s eta 0:00:01\r\u001b[K     |█████████▋                      | 532kB 18.3MB/s eta 0:00:01\r\u001b[K     |█████████▉                      | 542kB 18.3MB/s eta 0:00:01\r\u001b[K     |██████████                      | 552kB 18.3MB/s eta 0:00:01\r\u001b[K     |██████████▏                     | 563kB 18.3MB/s eta 0:00:01\r\u001b[K     |██████████▍                     | 573kB 18.3MB/s eta 0:00:01\r\u001b[K     |██████████▋                     | 583kB 18.3MB/s eta 0:00:01\r\u001b[K     |██████████▊                     | 593kB 18.3MB/s eta 0:00:01\r\u001b[K     |███████████                     | 604kB 18.3MB/s eta 0:00:01\r\u001b[K     |███████████▏                    | 614kB 18.3MB/s eta 0:00:01\r\u001b[K     |███████████▎                    | 624kB 18.3MB/s eta 0:00:01\r\u001b[K     |███████████▌                    | 634kB 18.3MB/s eta 0:00:01\r\u001b[K     |███████████▊                    | 645kB 18.3MB/s eta 0:00:01\r\u001b[K     |███████████▉                    | 655kB 18.3MB/s eta 0:00:01\r\u001b[K     |████████████                    | 665kB 18.3MB/s eta 0:00:01\r\u001b[K     |████████████▎                   | 675kB 18.3MB/s eta 0:00:01\r\u001b[K     |████████████▍                   | 686kB 18.3MB/s eta 0:00:01\r\u001b[K     |████████████▋                   | 696kB 18.3MB/s eta 0:00:01\r\u001b[K     |████████████▉                   | 706kB 18.3MB/s eta 0:00:01\r\u001b[K     |█████████████                   | 716kB 18.3MB/s eta 0:00:01\r\u001b[K     |█████████████▏                  | 727kB 18.3MB/s eta 0:00:01\r\u001b[K     |█████████████▍                  | 737kB 18.3MB/s eta 0:00:01\r\u001b[K     |█████████████▌                  | 747kB 18.3MB/s eta 0:00:01\r\u001b[K     |█████████████▊                  | 757kB 18.3MB/s eta 0:00:01\r\u001b[K     |██████████████                  | 768kB 18.3MB/s eta 0:00:01\r\u001b[K     |██████████████                  | 778kB 18.3MB/s eta 0:00:01\r\u001b[K     |██████████████▎                 | 788kB 18.3MB/s eta 0:00:01\r\u001b[K     |██████████████▌                 | 798kB 18.3MB/s eta 0:00:01\r\u001b[K     |██████████████▋                 | 808kB 18.3MB/s eta 0:00:01\r\u001b[K     |██████████████▉                 | 819kB 18.3MB/s eta 0:00:01\r\u001b[K     |███████████████                 | 829kB 18.3MB/s eta 0:00:01\r\u001b[K     |███████████████▏                | 839kB 18.3MB/s eta 0:00:01\r\u001b[K     |███████████████▍                | 849kB 18.3MB/s eta 0:00:01\r\u001b[K     |███████████████▋                | 860kB 18.3MB/s eta 0:00:01\r\u001b[K     |███████████████▊                | 870kB 18.3MB/s eta 0:00:01\r\u001b[K     |████████████████                | 880kB 18.3MB/s eta 0:00:01\r\u001b[K     |████████████████▏               | 890kB 18.3MB/s eta 0:00:01\r\u001b[K     |████████████████▎               | 901kB 18.3MB/s eta 0:00:01\r\u001b[K     |████████████████▌               | 911kB 18.3MB/s eta 0:00:01\r\u001b[K     |████████████████▊               | 921kB 18.3MB/s eta 0:00:01\r\u001b[K     |████████████████▉               | 931kB 18.3MB/s eta 0:00:01\r\u001b[K     |█████████████████               | 942kB 18.3MB/s eta 0:00:01\r\u001b[K     |█████████████████▎              | 952kB 18.3MB/s eta 0:00:01\r\u001b[K     |█████████████████▍              | 962kB 18.3MB/s eta 0:00:01\r\u001b[K     |█████████████████▋              | 972kB 18.3MB/s eta 0:00:01\r\u001b[K     |█████████████████▉              | 983kB 18.3MB/s eta 0:00:01\r\u001b[K     |██████████████████              | 993kB 18.3MB/s eta 0:00:01\r\u001b[K     |██████████████████▏             | 1.0MB 18.3MB/s eta 0:00:01\r\u001b[K     |██████████████████▍             | 1.0MB 18.3MB/s eta 0:00:01\r\u001b[K     |██████████████████▌             | 1.0MB 18.3MB/s eta 0:00:01\r\u001b[K     |██████████████████▊             | 1.0MB 18.3MB/s eta 0:00:01\r\u001b[K     |███████████████████             | 1.0MB 18.3MB/s eta 0:00:01\r\u001b[K     |███████████████████             | 1.1MB 18.3MB/s eta 0:00:01\r\u001b[K     |███████████████████▎            | 1.1MB 18.3MB/s eta 0:00:01\r\u001b[K     |███████████████████▌            | 1.1MB 18.3MB/s eta 0:00:01\r\u001b[K     |███████████████████▋            | 1.1MB 18.3MB/s eta 0:00:01\r\u001b[K     |███████████████████▉            | 1.1MB 18.3MB/s eta 0:00:01\r\u001b[K     |████████████████████            | 1.1MB 18.3MB/s eta 0:00:01\r\u001b[K     |████████████████████▏           | 1.1MB 18.3MB/s eta 0:00:01\r\u001b[K     |████████████████████▍           | 1.1MB 18.3MB/s eta 0:00:01\r\u001b[K     |████████████████████▋           | 1.1MB 18.3MB/s eta 0:00:01\r\u001b[K     |████████████████████▊           | 1.1MB 18.3MB/s eta 0:00:01\r\u001b[K     |█████████████████████           | 1.2MB 18.3MB/s eta 0:00:01\r\u001b[K     |█████████████████████▏          | 1.2MB 18.3MB/s eta 0:00:01\r\u001b[K     |█████████████████████▎          | 1.2MB 18.3MB/s eta 0:00:01\r\u001b[K     |█████████████████████▌          | 1.2MB 18.3MB/s eta 0:00:01\r\u001b[K     |█████████████████████▊          | 1.2MB 18.3MB/s eta 0:00:01\r\u001b[K     |█████████████████████▉          | 1.2MB 18.3MB/s eta 0:00:01\r\u001b[K     |██████████████████████          | 1.2MB 18.3MB/s eta 0:00:01\r\u001b[K     |██████████████████████▎         | 1.2MB 18.3MB/s eta 0:00:01\r\u001b[K     |██████████████████████▍         | 1.2MB 18.3MB/s eta 0:00:01\r\u001b[K     |██████████████████████▋         | 1.2MB 18.3MB/s eta 0:00:01\r\u001b[K     |██████████████████████▉         | 1.3MB 18.3MB/s eta 0:00:01\r\u001b[K     |███████████████████████         | 1.3MB 18.3MB/s eta 0:00:01\r\u001b[K     |███████████████████████▏        | 1.3MB 18.3MB/s eta 0:00:01\r\u001b[K     |███████████████████████▍        | 1.3MB 18.3MB/s eta 0:00:01\r\u001b[K     |███████████████████████▌        | 1.3MB 18.3MB/s eta 0:00:01\r\u001b[K     |███████████████████████▊        | 1.3MB 18.3MB/s eta 0:00:01\r\u001b[K     |████████████████████████        | 1.3MB 18.3MB/s eta 0:00:01\r\u001b[K     |████████████████████████        | 1.3MB 18.3MB/s eta 0:00:01\r\u001b[K     |████████████████████████▎       | 1.3MB 18.3MB/s eta 0:00:01\r\u001b[K     |████████████████████████▌       | 1.4MB 18.3MB/s eta 0:00:01\r\u001b[K     |████████████████████████▊       | 1.4MB 18.3MB/s eta 0:00:01\r\u001b[K     |████████████████████████▉       | 1.4MB 18.3MB/s eta 0:00:01\r\u001b[K     |█████████████████████████       | 1.4MB 18.3MB/s eta 0:00:01\r\u001b[K     |█████████████████████████▎      | 1.4MB 18.3MB/s eta 0:00:01\r\u001b[K     |█████████████████████████▍      | 1.4MB 18.3MB/s eta 0:00:01\r\u001b[K     |█████████████████████████▋      | 1.4MB 18.3MB/s eta 0:00:01\r\u001b[K     |█████████████████████████▉      | 1.4MB 18.3MB/s eta 0:00:01\r\u001b[K     |██████████████████████████      | 1.4MB 18.3MB/s eta 0:00:01\r\u001b[K     |██████████████████████████▏     | 1.4MB 18.3MB/s eta 0:00:01\r\u001b[K     |██████████████████████████▍     | 1.5MB 18.3MB/s eta 0:00:01\r\u001b[K     |██████████████████████████▌     | 1.5MB 18.3MB/s eta 0:00:01\r\u001b[K     |██████████████████████████▊     | 1.5MB 18.3MB/s eta 0:00:01\r\u001b[K     |███████████████████████████     | 1.5MB 18.3MB/s eta 0:00:01\r\u001b[K     |███████████████████████████     | 1.5MB 18.3MB/s eta 0:00:01\r\u001b[K     |███████████████████████████▎    | 1.5MB 18.3MB/s eta 0:00:01\r\u001b[K     |███████████████████████████▌    | 1.5MB 18.3MB/s eta 0:00:01\r\u001b[K     |███████████████████████████▋    | 1.5MB 18.3MB/s eta 0:00:01\r\u001b[K     |███████████████████████████▉    | 1.5MB 18.3MB/s eta 0:00:01\r\u001b[K     |████████████████████████████    | 1.5MB 18.3MB/s eta 0:00:01\r\u001b[K     |████████████████████████████▏   | 1.6MB 18.3MB/s eta 0:00:01\r\u001b[K     |████████████████████████████▍   | 1.6MB 18.3MB/s eta 0:00:01\r\u001b[K     |████████████████████████████▋   | 1.6MB 18.3MB/s eta 0:00:01\r\u001b[K     |████████████████████████████▊   | 1.6MB 18.3MB/s eta 0:00:01\r\u001b[K     |█████████████████████████████   | 1.6MB 18.3MB/s eta 0:00:01\r\u001b[K     |█████████████████████████████▏  | 1.6MB 18.3MB/s eta 0:00:01\r\u001b[K     |█████████████████████████████▎  | 1.6MB 18.3MB/s eta 0:00:01\r\u001b[K     |█████████████████████████████▌  | 1.6MB 18.3MB/s eta 0:00:01\r\u001b[K     |█████████████████████████████▊  | 1.6MB 18.3MB/s eta 0:00:01\r\u001b[K     |█████████████████████████████▉  | 1.6MB 18.3MB/s eta 0:00:01\r\u001b[K     |██████████████████████████████  | 1.7MB 18.3MB/s eta 0:00:01\r\u001b[K     |██████████████████████████████▎ | 1.7MB 18.3MB/s eta 0:00:01\r\u001b[K     |██████████████████████████████▍ | 1.7MB 18.3MB/s eta 0:00:01\r\u001b[K     |██████████████████████████████▋ | 1.7MB 18.3MB/s eta 0:00:01\r\u001b[K     |██████████████████████████████▉ | 1.7MB 18.3MB/s eta 0:00:01\r\u001b[K     |███████████████████████████████ | 1.7MB 18.3MB/s eta 0:00:01\r\u001b[K     |███████████████████████████████▏| 1.7MB 18.3MB/s eta 0:00:01\r\u001b[K     |███████████████████████████████▍| 1.7MB 18.3MB/s eta 0:00:01\r\u001b[K     |███████████████████████████████▌| 1.7MB 18.3MB/s eta 0:00:01\r\u001b[K     |███████████████████████████████▊| 1.8MB 18.3MB/s eta 0:00:01\r\u001b[K     |████████████████████████████████| 1.8MB 18.3MB/s eta 0:00:01\r\u001b[K     |████████████████████████████████| 1.8MB 18.3MB/s \n",
            "\u001b[?25hRequirement already satisfied: numpy in /usr/local/lib/python3.6/dist-packages (from transformers) (1.19.5)\n",
            "Requirement already satisfied: importlib-metadata; python_version < \"3.8\" in /usr/local/lib/python3.6/dist-packages (from transformers) (3.4.0)\n",
            "Requirement already satisfied: regex!=2019.12.17 in /usr/local/lib/python3.6/dist-packages (from transformers) (2019.12.20)\n",
            "Requirement already satisfied: filelock in /usr/local/lib/python3.6/dist-packages (from transformers) (3.0.12)\n",
            "Collecting tokenizers==0.9.4\n",
            "\u001b[?25l  Downloading https://files.pythonhosted.org/packages/0f/1c/e789a8b12e28be5bc1ce2156cf87cb522b379be9cadc7ad8091a4cc107c4/tokenizers-0.9.4-cp36-cp36m-manylinux2010_x86_64.whl (2.9MB)\n",
            "\u001b[K     |████████████████████████████████| 2.9MB 58.3MB/s \n",
            "\u001b[?25hRequirement already satisfied: packaging in /usr/local/lib/python3.6/dist-packages (from transformers) (20.8)\n",
            "Collecting sacremoses\n",
            "\u001b[?25l  Downloading https://files.pythonhosted.org/packages/7d/34/09d19aff26edcc8eb2a01bed8e98f13a1537005d31e95233fd48216eed10/sacremoses-0.0.43.tar.gz (883kB)\n",
            "\u001b[K     |████████████████████████████████| 890kB 56.2MB/s \n",
            "\u001b[?25hRequirement already satisfied: tqdm>=4.27 in /usr/local/lib/python3.6/dist-packages (from transformers) (4.41.1)\n",
            "Requirement already satisfied: dataclasses; python_version < \"3.7\" in /usr/local/lib/python3.6/dist-packages (from transformers) (0.8)\n",
            "Requirement already satisfied: requests in /usr/local/lib/python3.6/dist-packages (from transformers) (2.23.0)\n",
            "Requirement already satisfied: typing-extensions>=3.6.4; python_version < \"3.8\" in /usr/local/lib/python3.6/dist-packages (from importlib-metadata; python_version < \"3.8\"->transformers) (3.7.4.3)\n",
            "Requirement already satisfied: zipp>=0.5 in /usr/local/lib/python3.6/dist-packages (from importlib-metadata; python_version < \"3.8\"->transformers) (3.4.0)\n",
            "Requirement already satisfied: pyparsing>=2.0.2 in /usr/local/lib/python3.6/dist-packages (from packaging->transformers) (2.4.7)\n",
            "Requirement already satisfied: six in /usr/local/lib/python3.6/dist-packages (from sacremoses->transformers) (1.15.0)\n",
            "Requirement already satisfied: click in /usr/local/lib/python3.6/dist-packages (from sacremoses->transformers) (7.1.2)\n",
            "Requirement already satisfied: joblib in /usr/local/lib/python3.6/dist-packages (from sacremoses->transformers) (1.0.0)\n",
            "Requirement already satisfied: idna<3,>=2.5 in /usr/local/lib/python3.6/dist-packages (from requests->transformers) (2.10)\n",
            "Requirement already satisfied: chardet<4,>=3.0.2 in /usr/local/lib/python3.6/dist-packages (from requests->transformers) (3.0.4)\n",
            "Requirement already satisfied: urllib3!=1.25.0,!=1.25.1,<1.26,>=1.21.1 in /usr/local/lib/python3.6/dist-packages (from requests->transformers) (1.24.3)\n",
            "Requirement already satisfied: certifi>=2017.4.17 in /usr/local/lib/python3.6/dist-packages (from requests->transformers) (2020.12.5)\n",
            "Building wheels for collected packages: sacremoses\n",
            "  Building wheel for sacremoses (setup.py) ... \u001b[?25l\u001b[?25hdone\n",
            "  Created wheel for sacremoses: filename=sacremoses-0.0.43-cp36-none-any.whl size=893261 sha256=caf34179864f62804c1e405f70eaa3096299eae8c8d92c126057f4a3a6fe8914\n",
            "  Stored in directory: /root/.cache/pip/wheels/29/3c/fd/7ce5c3f0666dab31a50123635e6fb5e19ceb42ce38d4e58f45\n",
            "Successfully built sacremoses\n",
            "Installing collected packages: tokenizers, sacremoses, transformers\n",
            "Successfully installed sacremoses-0.0.43 tokenizers-0.9.4 transformers-4.2.2\n"
          ],
          "name": "stdout"
        }
      ]
    },
    {
      "cell_type": "code",
      "metadata": {
        "id": "ZMR9pdqIEVY2"
      },
      "source": [
        "from transformers import BertTokenizer, BertModel\n",
        "import torch\n",
        "captions_encoded = []\n",
        "tokenizer = BertTokenizer.from_pretrained('bert-base-uncased')\n",
        "model = BertModel.from_pretrained('bert-base-uncased')\n",
        "for i in captions_list[:5]:\n",
        "    inputs = tokenizer(i, return_tensors=\"pt\")\n",
        "    outputs = model(**inputs)\n",
        "    captions_encoded.append(outputs)"
      ],
      "execution_count": 18,
      "outputs": []
    },
    {
      "cell_type": "code",
      "metadata": {
        "colab": {
          "base_uri": "https://localhost:8080/"
        },
        "id": "rZ0vL-mLFpEp",
        "outputId": "47ace496-53fb-4970-d36f-a2e3e5f5fea6"
      },
      "source": [
        "'''\n",
        "last_hidden_state (torch.FloatTensor of shape (batch_size, sequence_length, hidden_size)) \n",
        "Sequence of hidden-states at the output of the last layer of the model.\n",
        "'''\n",
        "print(captions_encoded[3].last_hidden_state.shape)"
      ],
      "execution_count": 14,
      "outputs": [
        {
          "output_type": "stream",
          "text": [
            "torch.Size([1, 12, 768])\n"
          ],
          "name": "stdout"
        }
      ]
    },
    {
      "cell_type": "markdown",
      "metadata": {
        "id": "rRVV9dM0N7QY"
      },
      "source": [
        "# Video Features"
      ]
    },
    {
      "cell_type": "code",
      "metadata": {
        "colab": {
          "base_uri": "https://localhost:8080/"
        },
        "id": "4YrVuwZmN9rX",
        "outputId": "b5b9ba7c-c5a3-44a2-b54c-f32501e87ac4"
      },
      "source": [
        "# Note - we need to use PCA to reduce dims from 4096 to 512, I just used this dummy tensor to test is the model would work\n",
        "video_empty = torch.zeros([1,512], dtype=torch.long)\n",
        "output_video = model(video_empty)\n",
        "output_video.last_hidden_state.shape"
      ],
      "execution_count": 27,
      "outputs": [
        {
          "output_type": "execute_result",
          "data": {
            "text/plain": [
              "torch.Size([1, 512, 768])"
            ]
          },
          "metadata": {
            "tags": []
          },
          "execution_count": 27
        }
      ]
    },
    {
      "cell_type": "markdown",
      "metadata": {
        "id": "OQ7QMRAU6hXd"
      },
      "source": [
        "# Full pipeline\n",
        "## Extract C3D Features for each clip in BDDX"
      ]
    },
    {
      "cell_type": "code",
      "metadata": {
        "id": "YgmQPRP96hXg"
      },
      "source": [
        "# Open CSV file\n",
        "import pandas as pd\n",
        "data_url = \"../revisedBDDX.csv\"\n",
        "def load_bddx_data(csv_name):\n",
        "    column_names = ['Index', 'InputVideo', '1S', '1E', '1A', '1J', '2S', '2E', '2A', '2J', '3S', '3E', '3A', '3J',\n",
        "                    '4S', '4E', '4A', '4J','5S', '5E', '5A', '5J','6S', '6E', '6A', '6J','7S', '7E', '7A', '7J',\n",
        "                    '8S', '8E', '8A', '8J','9S', '9E', '9A', '9J','10S', '10E', '10A', '10J','11S', '11E', '11A', '11J',\n",
        "                    '12S', '12E', '12A', '12J','13S', '13E', '13A', '13J','14S', '14E', '14A', '14J','15S', '15E', '15A', '15J']\n",
        "    \n",
        "    return pd.read_csv(csv_name, names=column_names)\n",
        "\n",
        "bddx = load_bddx_data(data_url)\n",
        "bddx = bddx.drop(bddx.index[0])"
      ],
      "execution_count": null,
      "outputs": []
    },
    {
      "cell_type": "code",
      "metadata": {
        "id": "cQN36Axk6hYG",
        "outputId": "8f088ce2-cdd8-48d7-f611-92deb98bdc7c"
      },
      "source": [
        "# Author's Note: I have never run this code. I know it works, but I'm not sure if the entire feature_vectors array\n",
        "#   will fit into memory or not. Try this at your own risk.\n",
        "\n",
        "from math import isnan\n",
        "\n",
        "vector_size = 4096\n",
        "feature_vectors = []\n",
        "\n",
        "cnt = 0\n",
        "for index,row in bddx.iterrows():\n",
        "    url = row['InputVideo']\n",
        "    #clip = mp.VideoFileClip(url,target_resolution=[112,112])\n",
        "    for i in range(1,16):\n",
        "        start = int(row['%iS'%(i)])\n",
        "        finish = int(row['%iE'%(i)])\n",
        "        if isnan(start) or isnan(finish):\n",
        "            continue\n",
        "        if finish == start: # Some clips have same start and finish times; avoid 0-second clips\n",
        "            finish+=1\n",
        "        nn_inputs = get_frames(clip,start,finish)\n",
        "        vectors = np.zeros((finish-start,vector_size))\n",
        "        for j,nn_input in enumerate(nn_inputs):\n",
        "            vectors[j] = MODEL.predict(nn_input)\n",
        "        feature_vectors.append(vectors)\n",
        "    \n",
        "print(len(feature_vectors))\n",
        "print(feature_vectors[0].shape)\n"
      ],
      "execution_count": null,
      "outputs": [
        {
          "output_type": "stream",
          "text": [
            "(11, 4096)\n",
            "[[0.01433312 0.         0.         ... 0.         0.         0.07065101]\n",
            " [0.01486513 0.         0.         ... 0.         0.         0.07457145]\n",
            " [0.01166258 0.         0.         ... 0.         0.         0.10145477]\n",
            " ...\n",
            " [0.00248984 0.         0.         ... 0.00125599 0.         0.02231222]\n",
            " [0.         0.         0.         ... 0.0087162  0.         0.00646217]\n",
            " [0.         0.         0.         ... 0.         0.         0.06207535]]\n"
          ],
          "name": "stdout"
        }
      ]
    },
    {
      "cell_type": "code",
      "metadata": {
        "id": "LcxmJkBK6hYH"
      },
      "source": [
        ""
      ],
      "execution_count": null,
      "outputs": []
    }
  ]
}